{
 "cells": [
  {
   "cell_type": "code",
   "execution_count": 2,
   "metadata": {},
   "outputs": [
    {
     "data": {
      "image/png": "[encoded data removed]",
      "text/plain": [
       "<Figure size 432x288 with 1 Axes>"
      ]
     },
     "metadata": {
      "needs_background": "light"
     },
     "output_type": "display_data"
    }
   ],
   "source": [
    "# SciPy에서 ward 군집 함수와 덴드로그램 함수를 import\n",
    "from scipy.cluster.hierarchy import dendrogram, ward\n",
    "from sklearn.datasets import make_blobs\n",
    "import matplotlib.pyplot as plt\n",
    "\n",
    "X, y = make_blobs(random_state=0, n_samples=12)\n",
    "# 데이터 배열 X 에 ward 함수를 적용\n",
    "# SciPy의 ward 함수는 병합 군집을 수행할 때 생성된 거리배열을 리턴\n",
    "linkage_array = ward(X)\n",
    "# 클러스터 간의 거리 정보 linkage_array를 사용해 덴드로그램\n",
    "dendrogram(linkage_array)\n",
    "\n",
    "# 두 개와 세 개의 클러스터를 구분하는 커트라인을 표시\n",
    "ax = plt.gca()\n",
    "bounds = ax.get_xbound()\n",
    "ax.plot(bounds, [7.25, 7.25], '--', c='k')\n",
    "ax.plot(bounds, [4, 4], '--', c='k')\n",
    "\n",
    "ax.text(bounds[1], 7.25, ' two\\nclusters', va='center', fontdict={'size': 15})\n",
    "ax.text(bounds[1], 4, ' three\\nclusters', va='center', fontdict={'size': 15})\n",
    "plt.xlabel(\"sample num\")\n",
    "plt.ylabel(\"cluster distance\")\n",
    "plt.show()\n",
    "\n"
   ]
  },
  {
   "cell_type": "code",
   "execution_count": 3,
   "metadata": {},
   "outputs": [
    {
     "data": {
      "text/plain": [
       "array([[ 1.        ,  4.        ,  0.3320945 ,  2.        ],\n",
       "       [ 6.        ,  9.        ,  0.64580193,  2.        ],\n",
       "       [ 2.        ,  8.        ,  0.92683223,  2.        ],\n",
       "       [ 0.        , 11.        ,  1.1803787 ,  2.        ],\n",
       "       [ 5.        , 15.        ,  1.30311575,  3.        ],\n",
       "       [ 7.        , 13.        ,  1.4440339 ,  3.        ],\n",
       "       [ 3.        , 14.        ,  1.60041812,  3.        ],\n",
       "       [12.        , 18.        ,  2.07815795,  5.        ],\n",
       "       [10.        , 17.        ,  2.15981886,  4.        ],\n",
       "       [16.        , 20.        ,  6.55024854,  7.        ],\n",
       "       [19.        , 21.        ,  7.92446877, 12.        ]])"
      ]
     },
     "execution_count": 3,
     "metadata": {},
     "output_type": "execute_result"
    }
   ],
   "source": [
    "linkage_array"
   ]
  },
  {
   "cell_type": "code",
   "execution_count": null,
   "metadata": {},
   "outputs": [],
   "source": []
  }
 ],
 "metadata": {
  "kernelspec": {
   "display_name": "Python 3",
   "language": "python",
   "name": "python3"
  },
  "language_info": {
   "codemirror_mode": {
    "name": "ipython",
    "version": 3
   },
   "file_extension": ".py",
   "mimetype": "text/x-python",
   "name": "python",
   "nbconvert_exporter": "python",
   "pygments_lexer": "ipython3",
   "version": "3.7.3"
  }
 },
 "nbformat": 4,
 "nbformat_minor": 2
}
