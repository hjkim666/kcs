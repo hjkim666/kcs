{
  "nbformat": 4,
  "nbformat_minor": 0,
  "metadata": {
    "colab": {
      "name": "MNIST_CNN_20201006.ipynb",
      "provenance": [],
      "collapsed_sections": []
    },
    "kernelspec": {
      "name": "python3",
      "display_name": "Python 3"
    },
    "accelerator": "GPU"
  },
  "cells": [
    {
      "cell_type": "code",
      "metadata": {
        "id": "KDxpqy_ENgjL",
        "outputId": "230b66cc-e969-4b18-ba4d-25c940ed1459",
        "colab": {
          "base_uri": "https://localhost:8080/",
          "height": 442
        }
      },
      "source": [
        "from keras import layers \n",
        "from keras import models\n",
        "\n",
        "model = models.Sequential() \n",
        "model.add(layers.Conv2D(32, (3,3), activation='relu', input_shape=(28,28,1)))\n",
        "model.add(layers.MaxPool2D((2,2)))\n",
        "model.add(layers.Conv2D(64, (3,3), activation='relu'))\n",
        "model.add(layers.MaxPool2D((2,2)))\n",
        "model.add(layers.Conv2D(64, (3,3), activation='relu'))\n",
        "model.add(layers.Flatten())\n",
        "model.add(layers.Dense(64, activation='relu'))\n",
        "model.add(layers.Dense(10, activation='softmax'))\n",
        "model.summary()"
      ],
      "execution_count": 1,
      "outputs": [
        {
          "output_type": "stream",
          "text": [
            "Model: \"sequential\"\n",
            "_________________________________________________________________\n",
            "Layer (type)                 Output Shape              Param #   \n",
            "=================================================================\n",
            "conv2d (Conv2D)              (None, 26, 26, 32)        320       \n",
            "_________________________________________________________________\n",
            "max_pooling2d (MaxPooling2D) (None, 13, 13, 32)        0         \n",
            "_________________________________________________________________\n",
            "conv2d_1 (Conv2D)            (None, 11, 11, 64)        18496     \n",
            "_________________________________________________________________\n",
            "max_pooling2d_1 (MaxPooling2 (None, 5, 5, 64)          0         \n",
            "_________________________________________________________________\n",
            "conv2d_2 (Conv2D)            (None, 3, 3, 64)          36928     \n",
            "_________________________________________________________________\n",
            "flatten (Flatten)            (None, 576)               0         \n",
            "_________________________________________________________________\n",
            "dense (Dense)                (None, 64)                36928     \n",
            "_________________________________________________________________\n",
            "dense_1 (Dense)              (None, 10)                650       \n",
            "=================================================================\n",
            "Total params: 93,322\n",
            "Trainable params: 93,322\n",
            "Non-trainable params: 0\n",
            "_________________________________________________________________\n"
          ],
          "name": "stdout"
        }
      ]
    },
    {
      "cell_type": "code",
      "metadata": {
        "id": "ZkhtgL7ggqpi",
        "outputId": "b4e24743-b9c0-426a-a6f5-a65ce914ab74",
        "colab": {
          "base_uri": "https://localhost:8080/",
          "height": 53
        }
      },
      "source": [
        "### 데이터 로딩\n",
        "from keras.datasets import mnist\n",
        "(train_image, train_label),(test_image, test_label) = mnist.load_data()"
      ],
      "execution_count": 2,
      "outputs": [
        {
          "output_type": "stream",
          "text": [
            "Downloading data from https://storage.googleapis.com/tensorflow/tf-keras-datasets/mnist.npz\n",
            "11493376/11490434 [==============================] - 0s 0us/step\n"
          ],
          "name": "stdout"
        }
      ]
    },
    {
      "cell_type": "code",
      "metadata": {
        "id": "mf9ueEyFkhxQ",
        "outputId": "735c012f-b1fa-430a-a1ff-5d4767e0212e",
        "colab": {
          "base_uri": "https://localhost:8080/",
          "height": 35
        }
      },
      "source": [
        "train_image.shape"
      ],
      "execution_count": 3,
      "outputs": [
        {
          "output_type": "execute_result",
          "data": {
            "text/plain": [
              "(60000, 28, 28)"
            ]
          },
          "metadata": {
            "tags": []
          },
          "execution_count": 3
        }
      ]
    },
    {
      "cell_type": "code",
      "metadata": {
        "id": "Pglcz2r7kmNm"
      },
      "source": [
        "### 데이터 변형(x값)\n",
        "train_image = train_image.reshape(60000, 28, 28, 1)\n",
        "train_image = train_image.astype('float32') / 255\n",
        "\n",
        "test_image = test_image.reshape(10000, 28, 28, 1)\n",
        "test_image = test_image.astype('float32') / 255"
      ],
      "execution_count": 4,
      "outputs": []
    },
    {
      "cell_type": "code",
      "metadata": {
        "id": "gRhpK2_UlOfh"
      },
      "source": [
        "### 데이터 변형(y값)\n",
        "from keras.utils import to_categorical\n",
        "\n",
        "train_label = to_categorical(train_label)\n",
        "test_label = to_categorical(test_label)"
      ],
      "execution_count": 5,
      "outputs": []
    },
    {
      "cell_type": "code",
      "metadata": {
        "id": "_ENwfEiGlj7F",
        "outputId": "f57eea0d-e477-4d4b-a311-16e3b94f15a5",
        "colab": {
          "base_uri": "https://localhost:8080/",
          "height": 235
        }
      },
      "source": [
        "model.compile(optimizer='adam', loss='categorical_crossentropy',\n",
        "              metrics=['accuracy'])\n",
        "\n",
        "model.fit(train_image, train_label, epochs=5, batch_size=64, validation_split=0.2)"
      ],
      "execution_count": 9,
      "outputs": [
        {
          "output_type": "stream",
          "text": [
            "Epoch 1/5\n",
            "750/750 [==============================] - 3s 3ms/step - loss: 0.0567 - accuracy: 0.9826 - val_loss: 0.0560 - val_accuracy: 0.9813\n",
            "Epoch 2/5\n",
            "750/750 [==============================] - 2s 3ms/step - loss: 0.0393 - accuracy: 0.9878 - val_loss: 0.0484 - val_accuracy: 0.9849\n",
            "Epoch 3/5\n",
            "750/750 [==============================] - 2s 3ms/step - loss: 0.0282 - accuracy: 0.9909 - val_loss: 0.0379 - val_accuracy: 0.9894\n",
            "Epoch 4/5\n",
            "750/750 [==============================] - 3s 3ms/step - loss: 0.0204 - accuracy: 0.9936 - val_loss: 0.0394 - val_accuracy: 0.9877\n",
            "Epoch 5/5\n",
            "750/750 [==============================] - 3s 3ms/step - loss: 0.0180 - accuracy: 0.9938 - val_loss: 0.0326 - val_accuracy: 0.9902\n"
          ],
          "name": "stdout"
        },
        {
          "output_type": "execute_result",
          "data": {
            "text/plain": [
              "<tensorflow.python.keras.callbacks.History at 0x7f7080a7eac8>"
            ]
          },
          "metadata": {
            "tags": []
          },
          "execution_count": 9
        }
      ]
    },
    {
      "cell_type": "code",
      "metadata": {
        "id": "8ptY_cm0l6Q1",
        "outputId": "267aaef5-b97a-4932-d580-7b40bd19cee3",
        "colab": {
          "base_uri": "https://localhost:8080/",
          "height": 415
        }
      },
      "source": [
        "from keras import backend as K \n",
        "K.clear_session()\n",
        "\n",
        "model.fit(train_image, train_label, epochs=10, batch_size=64, validation_split=0.2)"
      ],
      "execution_count": 10,
      "outputs": [
        {
          "output_type": "stream",
          "text": [
            "Epoch 1/10\n",
            "750/750 [==============================] - 2s 3ms/step - loss: 0.0149 - accuracy: 0.9951 - val_loss: 0.0382 - val_accuracy: 0.9891\n",
            "Epoch 2/10\n",
            "750/750 [==============================] - 2s 3ms/step - loss: 0.0126 - accuracy: 0.9955 - val_loss: 0.0454 - val_accuracy: 0.9870\n",
            "Epoch 3/10\n",
            "750/750 [==============================] - 2s 3ms/step - loss: 0.0097 - accuracy: 0.9967 - val_loss: 0.0377 - val_accuracy: 0.9900\n",
            "Epoch 4/10\n",
            "750/750 [==============================] - 3s 3ms/step - loss: 0.0089 - accuracy: 0.9968 - val_loss: 0.0392 - val_accuracy: 0.9912\n",
            "Epoch 5/10\n",
            "750/750 [==============================] - 2s 3ms/step - loss: 0.0084 - accuracy: 0.9973 - val_loss: 0.0402 - val_accuracy: 0.9897\n",
            "Epoch 6/10\n",
            "750/750 [==============================] - 2s 3ms/step - loss: 0.0080 - accuracy: 0.9974 - val_loss: 0.0411 - val_accuracy: 0.9903\n",
            "Epoch 7/10\n",
            "750/750 [==============================] - 2s 3ms/step - loss: 0.0066 - accuracy: 0.9976 - val_loss: 0.0493 - val_accuracy: 0.9888\n",
            "Epoch 8/10\n",
            "750/750 [==============================] - 2s 3ms/step - loss: 0.0059 - accuracy: 0.9981 - val_loss: 0.0521 - val_accuracy: 0.9888\n",
            "Epoch 9/10\n",
            "750/750 [==============================] - 3s 3ms/step - loss: 0.0063 - accuracy: 0.9976 - val_loss: 0.0511 - val_accuracy: 0.9889\n",
            "Epoch 10/10\n",
            "750/750 [==============================] - 2s 3ms/step - loss: 0.0051 - accuracy: 0.9984 - val_loss: 0.0464 - val_accuracy: 0.9904\n"
          ],
          "name": "stdout"
        },
        {
          "output_type": "execute_result",
          "data": {
            "text/plain": [
              "<tensorflow.python.keras.callbacks.History at 0x7f700c5b8c18>"
            ]
          },
          "metadata": {
            "tags": []
          },
          "execution_count": 10
        }
      ]
    },
    {
      "cell_type": "code",
      "metadata": {
        "id": "q0pTHIMTnQj1",
        "outputId": "32219f98-0472-4f98-afcf-f05fa38e3bb2",
        "colab": {
          "base_uri": "https://localhost:8080/",
          "height": 53
        }
      },
      "source": [
        "### 성능평가\n",
        "model.evaluate(test_image, test_label)"
      ],
      "execution_count": 11,
      "outputs": [
        {
          "output_type": "stream",
          "text": [
            "313/313 [==============================] - 1s 2ms/step - loss: 0.0345 - accuracy: 0.9923\n"
          ],
          "name": "stdout"
        },
        {
          "output_type": "execute_result",
          "data": {
            "text/plain": [
              "[0.03446917235851288, 0.9922999739646912]"
            ]
          },
          "metadata": {
            "tags": []
          },
          "execution_count": 11
        }
      ]
    },
    {
      "cell_type": "code",
      "metadata": {
        "id": "GCmcS81qoUgt"
      },
      "source": [
        ""
      ],
      "execution_count": null,
      "outputs": []
    }
  ]
}