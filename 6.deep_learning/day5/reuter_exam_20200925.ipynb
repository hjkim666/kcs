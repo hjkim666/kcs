{
  "nbformat": 4,
  "nbformat_minor": 0,
  "metadata": {
    "colab": {
      "name": "reuter_exam_20200925.ipynb",
      "provenance": [],
      "collapsed_sections": []
    },
    "kernelspec": {
      "name": "python3",
      "display_name": "Python 3"
    }
  },
  "cells": [
    {
      "cell_type": "code",
      "metadata": {
        "id": "3O_-xK7L85mI",
        "colab_type": "code",
        "colab": {
          "base_uri": "https://localhost:8080/",
          "height": 52
        },
        "outputId": "6c934363-a0eb-4616-84ce-41b63f3e9f91"
      },
      "source": [
        "from keras.datasets import reuters \n",
        "\n",
        "(train_data,train_label),(test_data,test_label) = reuters.load_data(num_words=10000)"
      ],
      "execution_count": null,
      "outputs": [
        {
          "output_type": "stream",
          "text": [
            "Downloading data from https://storage.googleapis.com/tensorflow/tf-keras-datasets/reuters.npz\n",
            "2113536/2110848 [==============================] - 0s 0us/step\n"
          ],
          "name": "stdout"
        }
      ]
    },
    {
      "cell_type": "code",
      "metadata": {
        "id": "5ivAIpQZ9gVG",
        "colab_type": "code",
        "colab": {
          "base_uri": "https://localhost:8080/",
          "height": 34
        },
        "outputId": "87d257ba-ef55-40cf-d855-97fd05e9416d"
      },
      "source": [
        "len(train_data)"
      ],
      "execution_count": null,
      "outputs": [
        {
          "output_type": "execute_result",
          "data": {
            "text/plain": [
              "8982"
            ]
          },
          "metadata": {
            "tags": []
          },
          "execution_count": 2
        }
      ]
    },
    {
      "cell_type": "code",
      "metadata": {
        "id": "5f5eZ2e29rva",
        "colab_type": "code",
        "colab": {
          "base_uri": "https://localhost:8080/",
          "height": 34
        },
        "outputId": "3511a53e-8130-4e6f-b831-2cabc108cb44"
      },
      "source": [
        "len(train_data)"
      ],
      "execution_count": null,
      "outputs": [
        {
          "output_type": "execute_result",
          "data": {
            "text/plain": [
              "2246"
            ]
          },
          "metadata": {
            "tags": []
          },
          "execution_count": 3
        }
      ]
    },
    {
      "cell_type": "code",
      "metadata": {
        "id": "8jzznW1n9wr6",
        "colab_type": "code",
        "colab": {
          "base_uri": "https://localhost:8080/",
          "height": 34
        },
        "outputId": "1e43b52f-37d3-4e32-e324-51f2c34b87e6"
      },
      "source": [
        "train_data.shape"
      ],
      "execution_count": null,
      "outputs": [
        {
          "output_type": "execute_result",
          "data": {
            "text/plain": [
              "(8982,)"
            ]
          },
          "metadata": {
            "tags": []
          },
          "execution_count": 5
        }
      ]
    },
    {
      "cell_type": "code",
      "metadata": {
        "id": "QfLA90-M92aK",
        "colab_type": "code",
        "colab": {
          "base_uri": "https://localhost:8080/",
          "height": 34
        },
        "outputId": "b24da282-6079-473d-9df1-04c0969248dd"
      },
      "source": [
        "len(train_data[0])"
      ],
      "execution_count": null,
      "outputs": [
        {
          "output_type": "execute_result",
          "data": {
            "text/plain": [
              "87"
            ]
          },
          "metadata": {
            "tags": []
          },
          "execution_count": 6
        }
      ]
    },
    {
      "cell_type": "code",
      "metadata": {
        "id": "ETawGY5w-Z5Z",
        "colab_type": "code",
        "colab": {
          "base_uri": "https://localhost:8080/",
          "height": 34
        },
        "outputId": "425ef2df-0044-4af8-936e-dd3cfc5187df"
      },
      "source": [
        "len(train_data[1])"
      ],
      "execution_count": null,
      "outputs": [
        {
          "output_type": "execute_result",
          "data": {
            "text/plain": [
              "56"
            ]
          },
          "metadata": {
            "tags": []
          },
          "execution_count": 7
        }
      ]
    },
    {
      "cell_type": "code",
      "metadata": {
        "id": "-OvdUSXG-dTh",
        "colab_type": "code",
        "colab": {}
      },
      "source": [
        "train_data[0]"
      ],
      "execution_count": null,
      "outputs": []
    },
    {
      "cell_type": "code",
      "metadata": {
        "id": "yNqX9kbO-nnj",
        "colab_type": "code",
        "colab": {}
      },
      "source": [
        "word_index = reuters.get_word_index()\n",
        "word_index"
      ],
      "execution_count": null,
      "outputs": []
    },
    {
      "cell_type": "code",
      "metadata": {
        "id": "jn2UJXiC-07q",
        "colab_type": "code",
        "colab": {}
      },
      "source": [
        "reverse_word_index = dict([(value, key) for (key, value) in word_index.items()])\n",
        "reverse_word_index"
      ],
      "execution_count": null,
      "outputs": []
    },
    {
      "cell_type": "code",
      "metadata": {
        "id": "nK8yy6od_a5R",
        "colab_type": "code",
        "colab": {
          "base_uri": "https://localhost:8080/",
          "height": 87
        },
        "outputId": "30412a83-2761-4ed2-d3c3-b5372c4ed5ef"
      },
      "source": [
        "decoded = ' '.join([reverse_word_index.get(i - 3, '?') for i in train_data[0]])\n",
        "decoded"
      ],
      "execution_count": null,
      "outputs": [
        {
          "output_type": "execute_result",
          "data": {
            "application/vnd.google.colaboratory.intrinsic+json": {
              "type": "string"
            },
            "text/plain": [
              "'? ? ? said as a result of its december acquisition of space co it expects earnings per share in 1987 of 1 15 to 1 30 dlrs per share up from 70 cts in 1986 the company said pretax net should rise to nine to 10 mln dlrs from six mln dlrs in 1986 and rental operation revenues to 19 to 22 mln dlrs from 12 5 mln dlrs it said cash flow per share this year should be 2 50 to three dlrs reuter 3'"
            ]
          },
          "metadata": {
            "tags": []
          },
          "execution_count": 12
        }
      ]
    },
    {
      "cell_type": "code",
      "metadata": {
        "id": "ql3rvi6gACiD",
        "colab_type": "code",
        "colab": {}
      },
      "source": [
        "train_label[0]"
      ],
      "execution_count": null,
      "outputs": []
    },
    {
      "cell_type": "code",
      "metadata": {
        "id": "9b9auvwfAOB5",
        "colab_type": "code",
        "colab": {}
      },
      "source": [
        "train_label"
      ],
      "execution_count": null,
      "outputs": []
    },
    {
      "cell_type": "code",
      "metadata": {
        "id": "MeGAAEEUAUXg",
        "colab_type": "code",
        "colab": {}
      },
      "source": [
        "### Y값 변형 => one-hot \n",
        "from keras.utils import to_categorical\n",
        "\n",
        "one_hot_train_label = to_categorical(train_label)\n",
        "one_hot_test_label = to_categorical(test_label)"
      ],
      "execution_count": null,
      "outputs": []
    },
    {
      "cell_type": "code",
      "metadata": {
        "id": "qq_EGyMSA5sI",
        "colab_type": "code",
        "colab": {
          "base_uri": "https://localhost:8080/",
          "height": 34
        },
        "outputId": "112f52cd-9894-4d55-fe98-69843fd007da"
      },
      "source": [
        "one_hot_train_label.shape"
      ],
      "execution_count": null,
      "outputs": [
        {
          "output_type": "execute_result",
          "data": {
            "text/plain": [
              "(8982, 46)"
            ]
          },
          "metadata": {
            "tags": []
          },
          "execution_count": 16
        }
      ]
    },
    {
      "cell_type": "code",
      "metadata": {
        "id": "bBnmRI_PBB4g",
        "colab_type": "code",
        "colab": {}
      },
      "source": [
        "### X값 변형 -> 정형화 \n",
        "import numpy as np \n",
        "def vectorize_seq(sequences, dimension=10000):    #8982건\n",
        "  results = np.zeros((len(sequences), dimension))   #(8982, 10000)\n",
        "  for i, s in enumerate(sequences):\n",
        "    results[i, s] = 1.\n",
        "  return results"
      ],
      "execution_count": null,
      "outputs": []
    },
    {
      "cell_type": "code",
      "metadata": {
        "id": "ossmKV6QCbQ5",
        "colab_type": "code",
        "colab": {}
      },
      "source": [
        "x_train = vectorize_seq(train_data)\n",
        "x_test = vectorize_seq(test_data)"
      ],
      "execution_count": null,
      "outputs": []
    },
    {
      "cell_type": "code",
      "metadata": {
        "id": "wTVMEFu7LuTy",
        "colab_type": "code",
        "colab": {
          "base_uri": "https://localhost:8080/",
          "height": 139
        },
        "outputId": "8f7dceb8-b9d5-49bd-ae84-f101978e5ebd"
      },
      "source": [
        "x_test"
      ],
      "execution_count": null,
      "outputs": [
        {
          "output_type": "execute_result",
          "data": {
            "text/plain": [
              "array([[0., 1., 1., ..., 0., 0., 0.],\n",
              "       [0., 1., 1., ..., 0., 0., 0.],\n",
              "       [0., 1., 1., ..., 0., 0., 0.],\n",
              "       ...,\n",
              "       [0., 1., 0., ..., 0., 0., 0.],\n",
              "       [0., 1., 1., ..., 0., 0., 0.],\n",
              "       [0., 1., 1., ..., 0., 0., 0.]])"
            ]
          },
          "metadata": {
            "tags": []
          },
          "execution_count": 37
        }
      ]
    },
    {
      "cell_type": "code",
      "metadata": {
        "id": "dzd-HGLFDIcP",
        "colab_type": "code",
        "colab": {
          "base_uri": "https://localhost:8080/",
          "height": 34
        },
        "outputId": "21004485-34cd-4715-b0ab-61ea5da61d1a"
      },
      "source": [
        "x_train.shape"
      ],
      "execution_count": null,
      "outputs": [
        {
          "output_type": "execute_result",
          "data": {
            "text/plain": [
              "(8982, 10000)"
            ]
          },
          "metadata": {
            "tags": []
          },
          "execution_count": 19
        }
      ]
    },
    {
      "cell_type": "code",
      "metadata": {
        "id": "hIX7a841DOw1",
        "colab_type": "code",
        "colab": {}
      },
      "source": [
        "### 모델링 \n",
        "from keras import models \n",
        "from keras import layers \n",
        "\n",
        "model = models.Sequential() \n",
        "model.add(layers.Dense(64, activation='relu', input_shape=(10000,)))\n",
        "model.add(layers.Dense(64, activation='relu'))\n",
        "model.add(layers.Dense(46, activation='softmax'))\n",
        "\n",
        "model.compile(loss='categorical_crossentropy',\n",
        "              optimizer='rmsprop',\n",
        "              metrics=['accuracy'])"
      ],
      "execution_count": null,
      "outputs": []
    },
    {
      "cell_type": "code",
      "metadata": {
        "id": "tFdVDOnsDphd",
        "colab_type": "code",
        "colab": {}
      },
      "source": [
        "x_val = x_train[:1000]    #검증용 x\n",
        "partial_x_train = x_train[1000:]  #학습용 x\n",
        "\n",
        "y_val = one_hot_train_label[:1000]  #검증용 y\n",
        "partial_y_train = one_hot_train_label[1000:]  # 학습용 y"
      ],
      "execution_count": null,
      "outputs": []
    },
    {
      "cell_type": "code",
      "metadata": {
        "id": "66DPxeqoFAOF",
        "colab_type": "code",
        "colab": {
          "base_uri": "https://localhost:8080/",
          "height": 737
        },
        "outputId": "053f70d8-69cc-4739-e0d8-048ce21a37cc"
      },
      "source": [
        "history = model.fit(partial_x_train, partial_y_train, epochs=20, batch_size=512, \n",
        "                    validation_data=(x_val, y_val))"
      ],
      "execution_count": null,
      "outputs": [
        {
          "output_type": "stream",
          "text": [
            "Epoch 1/20\n",
            "16/16 [==============================] - 1s 64ms/step - loss: 2.6066 - accuracy: 0.5301 - val_loss: 1.7054 - val_accuracy: 0.6430\n",
            "Epoch 2/20\n",
            "16/16 [==============================] - 1s 46ms/step - loss: 1.4017 - accuracy: 0.7028 - val_loss: 1.3073 - val_accuracy: 0.7220\n",
            "Epoch 3/20\n",
            "16/16 [==============================] - 1s 47ms/step - loss: 1.0408 - accuracy: 0.7784 - val_loss: 1.1310 - val_accuracy: 0.7600\n",
            "Epoch 4/20\n",
            "16/16 [==============================] - 1s 45ms/step - loss: 0.8176 - accuracy: 0.8282 - val_loss: 1.0323 - val_accuracy: 0.7970\n",
            "Epoch 5/20\n",
            "16/16 [==============================] - 1s 45ms/step - loss: 0.6505 - accuracy: 0.8641 - val_loss: 0.9834 - val_accuracy: 0.7920\n",
            "Epoch 6/20\n",
            "16/16 [==============================] - 1s 46ms/step - loss: 0.5184 - accuracy: 0.8898 - val_loss: 0.9337 - val_accuracy: 0.8110\n",
            "Epoch 7/20\n",
            "16/16 [==============================] - 1s 44ms/step - loss: 0.4150 - accuracy: 0.9121 - val_loss: 0.9160 - val_accuracy: 0.8110\n",
            "Epoch 8/20\n",
            "16/16 [==============================] - 1s 47ms/step - loss: 0.3365 - accuracy: 0.9291 - val_loss: 0.9099 - val_accuracy: 0.8110\n",
            "Epoch 9/20\n",
            "16/16 [==============================] - 1s 47ms/step - loss: 0.2777 - accuracy: 0.9412 - val_loss: 0.8902 - val_accuracy: 0.8250\n",
            "Epoch 10/20\n",
            "16/16 [==============================] - 1s 45ms/step - loss: 0.2317 - accuracy: 0.9454 - val_loss: 0.9407 - val_accuracy: 0.8120\n",
            "Epoch 11/20\n",
            "16/16 [==============================] - 1s 47ms/step - loss: 0.2076 - accuracy: 0.9481 - val_loss: 0.9292 - val_accuracy: 0.8090\n",
            "Epoch 12/20\n",
            "16/16 [==============================] - 1s 46ms/step - loss: 0.1788 - accuracy: 0.9524 - val_loss: 0.9705 - val_accuracy: 0.8070\n",
            "Epoch 13/20\n",
            "16/16 [==============================] - 1s 47ms/step - loss: 0.1595 - accuracy: 0.9540 - val_loss: 0.9881 - val_accuracy: 0.8000\n",
            "Epoch 14/20\n",
            "16/16 [==============================] - 1s 47ms/step - loss: 0.1515 - accuracy: 0.9531 - val_loss: 1.0418 - val_accuracy: 0.8100\n",
            "Epoch 15/20\n",
            "16/16 [==============================] - 1s 45ms/step - loss: 0.1396 - accuracy: 0.9550 - val_loss: 0.9926 - val_accuracy: 0.8090\n",
            "Epoch 16/20\n",
            "16/16 [==============================] - 1s 47ms/step - loss: 0.1278 - accuracy: 0.9579 - val_loss: 1.0779 - val_accuracy: 0.7940\n",
            "Epoch 17/20\n",
            "16/16 [==============================] - 1s 44ms/step - loss: 0.1256 - accuracy: 0.9560 - val_loss: 1.0798 - val_accuracy: 0.8000\n",
            "Epoch 18/20\n",
            "16/16 [==============================] - 1s 46ms/step - loss: 0.1170 - accuracy: 0.9574 - val_loss: 1.0456 - val_accuracy: 0.8040\n",
            "Epoch 19/20\n",
            "16/16 [==============================] - 1s 47ms/step - loss: 0.1114 - accuracy: 0.9582 - val_loss: 1.0984 - val_accuracy: 0.8070\n",
            "Epoch 20/20\n",
            "16/16 [==============================] - 1s 45ms/step - loss: 0.1135 - accuracy: 0.9577 - val_loss: 1.0982 - val_accuracy: 0.8030\n"
          ],
          "name": "stdout"
        }
      ]
    },
    {
      "cell_type": "code",
      "metadata": {
        "id": "au5MtAP6Fj-X",
        "colab_type": "code",
        "colab": {
          "base_uri": "https://localhost:8080/",
          "height": 34
        },
        "outputId": "3699d15d-deec-43d5-b4fc-3546f4cf61f0"
      },
      "source": [
        "history.history.keys()"
      ],
      "execution_count": null,
      "outputs": [
        {
          "output_type": "execute_result",
          "data": {
            "text/plain": [
              "dict_keys(['loss', 'accuracy', 'val_loss', 'val_accuracy'])"
            ]
          },
          "metadata": {
            "tags": []
          },
          "execution_count": 25
        }
      ]
    },
    {
      "cell_type": "code",
      "metadata": {
        "id": "4MOt1Ck5Ib4N",
        "colab_type": "code",
        "colab": {}
      },
      "source": [
        "import matplotlib.pyplot as plt\n",
        "\n",
        "loss = history.history['loss']\n",
        "acc = history.history['accuracy']\n",
        "val_loss = history.history['val_loss']\n",
        "val_acc = history.history['val_accuracy']\n",
        "\n",
        "epochs = range(1, len(loss) + 1)"
      ],
      "execution_count": null,
      "outputs": []
    },
    {
      "cell_type": "code",
      "metadata": {
        "id": "mHSE48G2Iw9x",
        "colab_type": "code",
        "colab": {
          "base_uri": "https://localhost:8080/",
          "height": 265
        },
        "outputId": "53d8edfc-f6fe-42d9-a54f-e31c211071df"
      },
      "source": [
        "plt.plot(epochs, loss, label='train loss')\n",
        "plt.plot(epochs, val_loss, label='validation loss')\n",
        "plt.legend() \n",
        "plt.show()"
      ],
      "execution_count": null,
      "outputs": [
        {
          "output_type": "display_data",
          "data": {
            "image/png": "[encoded data removed]",
            "text/plain": [
              "<Figure size 432x288 with 1 Axes>"
            ]
          },
          "metadata": {
            "tags": [],
            "needs_background": "light"
          }
        }
      ]
    },
    {
      "cell_type": "code",
      "metadata": {
        "id": "rogxM2fBIszo",
        "colab_type": "code",
        "colab": {}
      },
      "source": [
        "from keras import backend as K \n",
        "\n",
        "K.clear_session()"
      ],
      "execution_count": null,
      "outputs": []
    },
    {
      "cell_type": "code",
      "metadata": {
        "id": "4PISHRg5LAzJ",
        "colab_type": "code",
        "colab": {
          "base_uri": "https://localhost:8080/",
          "height": 332
        },
        "outputId": "5aff4bc9-6a50-4bf2-d468-2f411995a944"
      },
      "source": [
        "history = model.fit(x_train, one_hot_train_label, epochs=9, batch_size=512)"
      ],
      "execution_count": null,
      "outputs": [
        {
          "output_type": "stream",
          "text": [
            "Epoch 1/9\n",
            "18/18 [==============================] - 1s 44ms/step - loss: 0.2153 - accuracy: 0.9414\n",
            "Epoch 2/9\n",
            "18/18 [==============================] - 1s 45ms/step - loss: 0.1648 - accuracy: 0.9475\n",
            "Epoch 3/9\n",
            "18/18 [==============================] - 1s 45ms/step - loss: 0.1406 - accuracy: 0.9508\n",
            "Epoch 4/9\n",
            "18/18 [==============================] - 1s 43ms/step - loss: 0.1307 - accuracy: 0.9531\n",
            "Epoch 5/9\n",
            "18/18 [==============================] - 1s 46ms/step - loss: 0.1190 - accuracy: 0.9560\n",
            "Epoch 6/9\n",
            "18/18 [==============================] - 1s 44ms/step - loss: 0.1191 - accuracy: 0.9550\n",
            "Epoch 7/9\n",
            "18/18 [==============================] - 1s 45ms/step - loss: 0.1124 - accuracy: 0.9555\n",
            "Epoch 8/9\n",
            "18/18 [==============================] - 1s 45ms/step - loss: 0.1100 - accuracy: 0.9547\n",
            "Epoch 9/9\n",
            "18/18 [==============================] - 1s 45ms/step - loss: 0.1078 - accuracy: 0.9550\n"
          ],
          "name": "stdout"
        }
      ]
    },
    {
      "cell_type": "code",
      "metadata": {
        "id": "vL2IOlvPLRom",
        "colab_type": "code",
        "colab": {
          "base_uri": "https://localhost:8080/",
          "height": 52
        },
        "outputId": "58b968cf-4626-43f6-b238-09f95e9074ef"
      },
      "source": [
        "model.evaluate(x_test, one_hot_test_label)"
      ],
      "execution_count": null,
      "outputs": [
        {
          "output_type": "stream",
          "text": [
            "71/71 [==============================] - 0s 4ms/step - loss: 1.2773 - accuracy: 0.7858\n"
          ],
          "name": "stdout"
        },
        {
          "output_type": "execute_result",
          "data": {
            "text/plain": [
              "[1.2772724628448486, 0.7858415246009827]"
            ]
          },
          "metadata": {
            "tags": []
          },
          "execution_count": 38
        }
      ]
    },
    {
      "cell_type": "code",
      "metadata": {
        "id": "b46ounaOLejG",
        "colab_type": "code",
        "colab": {}
      },
      "source": [
        "# Y값을 one-hot 변형 하지 않고 그대로 사용\n",
        "train_label\n",
        "test_label "
      ],
      "execution_count": null,
      "outputs": []
    },
    {
      "cell_type": "code",
      "metadata": {
        "id": "zv-nsld_M04_",
        "colab_type": "code",
        "colab": {
          "base_uri": "https://localhost:8080/",
          "height": 332
        },
        "outputId": "1d5a6ed2-cb2f-4a75-b797-4c2fd1a1155c"
      },
      "source": [
        "model = models.Sequential() \n",
        "model.add(layers.Dense(64, activation='relu', input_shape=(10000,)))\n",
        "model.add(layers.Dense(64, activation='relu'))\n",
        "model.add(layers.Dense(46, activation='softmax'))\n",
        "\n",
        "model.compile(loss='sparse_categorical_crossentropy',\n",
        "              optimizer='rmsprop',\n",
        "              metrics=['accuracy'])\n",
        "\n",
        "history = model.fit(x_train, train_label, epochs=9, batch_size=512)"
      ],
      "execution_count": null,
      "outputs": [
        {
          "output_type": "stream",
          "text": [
            "Epoch 1/9\n",
            "18/18 [==============================] - 1s 42ms/step - loss: 2.4466 - accuracy: 0.5387\n",
            "Epoch 2/9\n",
            "18/18 [==============================] - 1s 41ms/step - loss: 1.2984 - accuracy: 0.7243\n",
            "Epoch 3/9\n",
            "18/18 [==============================] - 1s 42ms/step - loss: 0.9745 - accuracy: 0.7971\n",
            "Epoch 4/9\n",
            "18/18 [==============================] - 1s 41ms/step - loss: 0.7602 - accuracy: 0.8380\n",
            "Epoch 5/9\n",
            "18/18 [==============================] - 1s 42ms/step - loss: 0.5977 - accuracy: 0.8691\n",
            "Epoch 6/9\n",
            "18/18 [==============================] - 1s 42ms/step - loss: 0.4726 - accuracy: 0.8989\n",
            "Epoch 7/9\n",
            "18/18 [==============================] - 1s 42ms/step - loss: 0.3768 - accuracy: 0.9200\n",
            "Epoch 8/9\n",
            "18/18 [==============================] - 1s 43ms/step - loss: 0.3078 - accuracy: 0.9336\n",
            "Epoch 9/9\n",
            "18/18 [==============================] - 1s 42ms/step - loss: 0.2554 - accuracy: 0.9411\n"
          ],
          "name": "stdout"
        }
      ]
    },
    {
      "cell_type": "code",
      "metadata": {
        "id": "FMFxYPXqM999",
        "colab_type": "code",
        "colab": {}
      },
      "source": [
        ""
      ],
      "execution_count": null,
      "outputs": []
    }
  ]
}