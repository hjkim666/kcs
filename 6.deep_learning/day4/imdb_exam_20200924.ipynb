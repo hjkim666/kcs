{
  "nbformat": 4,
  "nbformat_minor": 0,
  "metadata": {
    "colab": {
      "name": "imdb_exam_20200924.ipynb",
      "provenance": [],
      "collapsed_sections": []
    },
    "kernelspec": {
      "name": "python3",
      "display_name": "Python 3"
    }
  },
  "cells": [
    {
      "cell_type": "code",
      "metadata": {
        "id": "QBFlzVAfyvan",
        "colab_type": "code",
        "colab": {
          "base_uri": "https://localhost:8080/",
          "height": 53
        },
        "outputId": "bcef3219-10e9-4745-d968-f3551795a1a8"
      },
      "source": [
        "from keras.datasets import imdb\n",
        "(train_data, train_label),(test_data, test_label) = imdb.load_data(num_words=10000)"
      ],
      "execution_count": null,
      "outputs": [
        {
          "output_type": "stream",
          "text": [
            "Downloading data from https://storage.googleapis.com/tensorflow/tf-keras-datasets/imdb.npz\n",
            "17465344/17464789 [==============================] - 0s 0us/step\n"
          ],
          "name": "stdout"
        }
      ]
    },
    {
      "cell_type": "code",
      "metadata": {
        "id": "8XKHcRNkzKG-",
        "colab_type": "code",
        "colab": {}
      },
      "source": [
        "train_data[0]"
      ],
      "execution_count": null,
      "outputs": []
    },
    {
      "cell_type": "code",
      "metadata": {
        "id": "JIwokeuhzkle",
        "colab_type": "code",
        "colab": {
          "base_uri": "https://localhost:8080/",
          "height": 35
        },
        "outputId": "d8a19781-69dc-4cf9-d5af-9875231f08cb"
      },
      "source": [
        "train_label[0]"
      ],
      "execution_count": null,
      "outputs": [
        {
          "output_type": "execute_result",
          "data": {
            "text/plain": [
              "1"
            ]
          },
          "metadata": {
            "tags": []
          },
          "execution_count": 4
        }
      ]
    },
    {
      "cell_type": "code",
      "metadata": {
        "id": "-JT6WTEqz02_",
        "colab_type": "code",
        "colab": {
          "base_uri": "https://localhost:8080/",
          "height": 35
        },
        "outputId": "a3269f81-48e9-41ed-b6b0-926115221fbc"
      },
      "source": [
        "train_data.shape"
      ],
      "execution_count": null,
      "outputs": [
        {
          "output_type": "execute_result",
          "data": {
            "text/plain": [
              "(25000,)"
            ]
          },
          "metadata": {
            "tags": []
          },
          "execution_count": 5
        }
      ]
    },
    {
      "cell_type": "code",
      "metadata": {
        "id": "Qurk5Do2z-2-",
        "colab_type": "code",
        "colab": {
          "base_uri": "https://localhost:8080/",
          "height": 35
        },
        "outputId": "970f6745-cbde-4b64-eca7-11896333bf75"
      },
      "source": [
        "len(train_data[0])"
      ],
      "execution_count": null,
      "outputs": [
        {
          "output_type": "execute_result",
          "data": {
            "text/plain": [
              "218"
            ]
          },
          "metadata": {
            "tags": []
          },
          "execution_count": 7
        }
      ]
    },
    {
      "cell_type": "code",
      "metadata": {
        "id": "tGhhVFrj0JjG",
        "colab_type": "code",
        "colab": {
          "base_uri": "https://localhost:8080/",
          "height": 35
        },
        "outputId": "a6c12d26-86b0-48dc-cd9a-239bade7ded7"
      },
      "source": [
        "len(train_data[1])"
      ],
      "execution_count": null,
      "outputs": [
        {
          "output_type": "execute_result",
          "data": {
            "text/plain": [
              "189"
            ]
          },
          "metadata": {
            "tags": []
          },
          "execution_count": 8
        }
      ]
    },
    {
      "cell_type": "code",
      "metadata": {
        "id": "hNdxp2h-0awf",
        "colab_type": "code",
        "colab": {}
      },
      "source": [
        "word_index = imdb.get_word_index()\n",
        "word_index"
      ],
      "execution_count": null,
      "outputs": []
    },
    {
      "cell_type": "code",
      "metadata": {
        "id": "vQg58rvH2BBP",
        "colab_type": "code",
        "colab": {}
      },
      "source": [
        "reverse_word_index = dict([(value, key) for (key, value) in word_index.items()])\n",
        "reverse_word_index"
      ],
      "execution_count": null,
      "outputs": []
    },
    {
      "cell_type": "code",
      "metadata": {
        "id": "nG4M3wes3Ip3",
        "colab_type": "code",
        "colab": {}
      },
      "source": [
        "for (key, value) in word_index.items():\n",
        "  print(key, value)"
      ],
      "execution_count": null,
      "outputs": []
    },
    {
      "cell_type": "code",
      "metadata": {
        "id": "xLnENwrV3Z43",
        "colab_type": "code",
        "colab": {
          "base_uri": "https://localhost:8080/",
          "height": 215
        },
        "outputId": "85351c86-b9bd-430d-e513-40aeb51fdd32"
      },
      "source": [
        "decoded_review = ' '.join([reverse_word_index.get(i - 3, '?') for i in train_data[0]])\n",
        "decoded_review"
      ],
      "execution_count": null,
      "outputs": [
        {
          "output_type": "execute_result",
          "data": {
            "application/vnd.google.colaboratory.intrinsic+json": {
              "type": "string"
            },
            "text/plain": [
              "\"? this film was just brilliant casting location scenery story direction everyone's really suited the part they played and you could just imagine being there robert ? is an amazing actor and now the same being director ? father came from the same scottish island as myself so i loved the fact there was a real connection with this film the witty remarks throughout the film were great it was just brilliant so much that i bought the film as soon as it was released for ? and would recommend it to everyone to watch and the fly fishing was amazing really cried at the end it was so sad and you know what they say if you cry at a film it must have been good and this definitely was also ? to the two little boy's that played the ? of norman and paul they were just brilliant children are often left out of the ? list i think because the stars that play them all grown up are such a big profile for the whole film but these children are amazing and should be praised for what they have done don't you think the whole story was so lovely because it was true and was someone's life after all that was shared with us all\""
            ]
          },
          "metadata": {
            "tags": []
          },
          "execution_count": 15
        }
      ]
    },
    {
      "cell_type": "markdown",
      "metadata": {
        "id": "ALaUelhx9cSg",
        "colab_type": "text"
      },
      "source": [
        "### 정형화"
      ]
    },
    {
      "cell_type": "code",
      "metadata": {
        "id": "Fg9AoNc_9b6e",
        "colab_type": "code",
        "colab": {}
      },
      "source": [
        "import numpy as np\n",
        "\n",
        "def vectorize_seq(sequences, dimension=10000):\n",
        "  results = np.zeros((len(sequences), dimension))   #(25000, 10000)\n",
        "  for i, s in enumerate(sequences):    #25000번\n",
        "    results[i, s] = 1.\n",
        "  return results"
      ],
      "execution_count": null,
      "outputs": []
    },
    {
      "cell_type": "code",
      "metadata": {
        "id": "8897lo9X4HOX",
        "colab_type": "code",
        "colab": {}
      },
      "source": [
        "x_train = vectorize_seq(train_data)\n",
        "x_test = vectorize_seq(test_data)"
      ],
      "execution_count": null,
      "outputs": []
    },
    {
      "cell_type": "code",
      "metadata": {
        "id": "9SoY-NhOA2F3",
        "colab_type": "code",
        "colab": {
          "base_uri": "https://localhost:8080/",
          "height": 35
        },
        "outputId": "0a89357d-ef37-4291-9f60-20eacb1b0a70"
      },
      "source": [
        "x_train.shape"
      ],
      "execution_count": null,
      "outputs": [
        {
          "output_type": "execute_result",
          "data": {
            "text/plain": [
              "(25000, 10000)"
            ]
          },
          "metadata": {
            "tags": []
          },
          "execution_count": 19
        }
      ]
    },
    {
      "cell_type": "code",
      "metadata": {
        "id": "vM_zKGbqA63q",
        "colab_type": "code",
        "colab": {}
      },
      "source": [
        "#  레이블 -> 실수형으로 변환 \n",
        "y_train = np.asarray(train_label).astype('float32')\n",
        "y_test = np.asarray(test_label).astype('float32')"
      ],
      "execution_count": null,
      "outputs": []
    },
    {
      "cell_type": "code",
      "metadata": {
        "id": "yMSrW9tOBroD",
        "colab_type": "code",
        "colab": {}
      },
      "source": [
        "### 모델링 \n",
        "from keras import models\n",
        "from keras import layers\n",
        "\n",
        "model = models.Sequential() \n",
        "model.add(layers.Dense(16, activation='relu', input_shape=(10000,)))\n",
        "model.add(layers.Dense(16, activation='relu'))\n",
        "model.add(layers.Dense(1, activation='sigmoid'))\n",
        "\n",
        "model.compile(loss='binary_crossentropy', optimizer='rmsprop',\n",
        "              metrics=['accuracy'])"
      ],
      "execution_count": null,
      "outputs": []
    },
    {
      "cell_type": "code",
      "metadata": {
        "id": "RAlCpwfgDXBr",
        "colab_type": "code",
        "colab": {}
      },
      "source": [
        "x_val = x_train[:10000]          #검증용 만건\n",
        "partial_x_train = x_train[10000:]     #학습용 만오천건 \n",
        "\n",
        "y_val = y_train[:10000]          #검증용 만건\n",
        "partial_y_train = y_train[10000:]      #학습용 만오천건 "
      ],
      "execution_count": null,
      "outputs": []
    },
    {
      "cell_type": "code",
      "metadata": {
        "id": "4dVr-2vuEm-4",
        "colab_type": "code",
        "colab": {
          "base_uri": "https://localhost:8080/",
          "height": 757
        },
        "outputId": "1a86ac25-ff55-41a6-83a7-3cce4b661b42"
      },
      "source": [
        "history = model.fit(partial_x_train,partial_y_train,\n",
        "                    epochs=20, batch_size=512, validation_data=(x_val, y_val))"
      ],
      "execution_count": null,
      "outputs": [
        {
          "output_type": "stream",
          "text": [
            "Epoch 1/20\n",
            "30/30 [==============================] - 2s 51ms/step - loss: 0.5278 - accuracy: 0.7784 - val_loss: 0.4516 - val_accuracy: 0.8143\n",
            "Epoch 2/20\n",
            "30/30 [==============================] - 1s 35ms/step - loss: 0.3245 - accuracy: 0.9013 - val_loss: 0.3401 - val_accuracy: 0.8681\n",
            "Epoch 3/20\n",
            "30/30 [==============================] - 1s 35ms/step - loss: 0.2372 - accuracy: 0.9239 - val_loss: 0.3124 - val_accuracy: 0.8730\n",
            "Epoch 4/20\n",
            "30/30 [==============================] - 1s 36ms/step - loss: 0.1885 - accuracy: 0.9405 - val_loss: 0.2846 - val_accuracy: 0.8864\n",
            "Epoch 5/20\n",
            "30/30 [==============================] - 1s 36ms/step - loss: 0.1491 - accuracy: 0.9545 - val_loss: 0.2778 - val_accuracy: 0.8893\n",
            "Epoch 6/20\n",
            "30/30 [==============================] - 1s 36ms/step - loss: 0.1260 - accuracy: 0.9613 - val_loss: 0.2868 - val_accuracy: 0.8875\n",
            "Epoch 7/20\n",
            "30/30 [==============================] - 1s 36ms/step - loss: 0.1063 - accuracy: 0.9687 - val_loss: 0.3026 - val_accuracy: 0.8826\n",
            "Epoch 8/20\n",
            "30/30 [==============================] - 1s 37ms/step - loss: 0.0850 - accuracy: 0.9773 - val_loss: 0.3371 - val_accuracy: 0.8764\n",
            "Epoch 9/20\n",
            "30/30 [==============================] - 1s 36ms/step - loss: 0.0706 - accuracy: 0.9819 - val_loss: 0.3551 - val_accuracy: 0.8772\n",
            "Epoch 10/20\n",
            "30/30 [==============================] - 1s 36ms/step - loss: 0.0589 - accuracy: 0.9853 - val_loss: 0.3638 - val_accuracy: 0.8781\n",
            "Epoch 11/20\n",
            "30/30 [==============================] - 1s 35ms/step - loss: 0.0460 - accuracy: 0.9903 - val_loss: 0.3947 - val_accuracy: 0.8742\n",
            "Epoch 12/20\n",
            "30/30 [==============================] - 1s 35ms/step - loss: 0.0395 - accuracy: 0.9917 - val_loss: 0.4208 - val_accuracy: 0.8751\n",
            "Epoch 13/20\n",
            "30/30 [==============================] - 1s 36ms/step - loss: 0.0300 - accuracy: 0.9943 - val_loss: 0.4512 - val_accuracy: 0.8724\n",
            "Epoch 14/20\n",
            "30/30 [==============================] - 1s 37ms/step - loss: 0.0239 - accuracy: 0.9963 - val_loss: 0.4829 - val_accuracy: 0.8732\n",
            "Epoch 15/20\n",
            "30/30 [==============================] - 1s 38ms/step - loss: 0.0183 - accuracy: 0.9975 - val_loss: 0.5126 - val_accuracy: 0.8712\n",
            "Epoch 16/20\n",
            "30/30 [==============================] - 1s 37ms/step - loss: 0.0153 - accuracy: 0.9979 - val_loss: 0.5484 - val_accuracy: 0.8708\n",
            "Epoch 17/20\n",
            "30/30 [==============================] - 1s 36ms/step - loss: 0.0093 - accuracy: 0.9995 - val_loss: 0.5888 - val_accuracy: 0.8663\n",
            "Epoch 18/20\n",
            "30/30 [==============================] - 1s 37ms/step - loss: 0.0106 - accuracy: 0.9983 - val_loss: 0.6158 - val_accuracy: 0.8695\n",
            "Epoch 19/20\n",
            "30/30 [==============================] - 1s 37ms/step - loss: 0.0048 - accuracy: 0.9999 - val_loss: 0.6492 - val_accuracy: 0.8670\n",
            "Epoch 20/20\n",
            "30/30 [==============================] - 1s 36ms/step - loss: 0.0067 - accuracy: 0.9990 - val_loss: 0.6867 - val_accuracy: 0.8644\n"
          ],
          "name": "stdout"
        }
      ]
    },
    {
      "cell_type": "code",
      "metadata": {
        "id": "WS_MGj4dE9U9",
        "colab_type": "code",
        "colab": {
          "base_uri": "https://localhost:8080/",
          "height": 35
        },
        "outputId": "d84876e2-8f45-495e-d51c-43174be015d9"
      },
      "source": [
        "history.history.keys()"
      ],
      "execution_count": null,
      "outputs": [
        {
          "output_type": "execute_result",
          "data": {
            "text/plain": [
              "dict_keys(['loss', 'accuracy', 'val_loss', 'val_accuracy'])"
            ]
          },
          "metadata": {
            "tags": []
          },
          "execution_count": 26
        }
      ]
    },
    {
      "cell_type": "code",
      "metadata": {
        "id": "dokX0RkdHHs3",
        "colab_type": "code",
        "colab": {}
      },
      "source": [
        "import matplotlib.pyplot as plt \n",
        "\n",
        "loss = history.history['loss']\n",
        "accuracy = history.history['accuracy']\n",
        "val_loss = history.history['val_loss']\n",
        "val_accuracy = history.history['val_accuracy']\n",
        "\n",
        "epochs = range(1, len(loss) + 1)   #20"
      ],
      "execution_count": null,
      "outputs": []
    },
    {
      "cell_type": "code",
      "metadata": {
        "id": "Dh9wCcL2JQvJ",
        "colab_type": "code",
        "colab": {
          "base_uri": "https://localhost:8080/",
          "height": 35
        },
        "outputId": "22c4e3cd-462e-4b64-83b5-2502997ef635"
      },
      "source": [
        " list(range(1, len(loss) + 1))"
      ],
      "execution_count": null,
      "outputs": [
        {
          "output_type": "execute_result",
          "data": {
            "text/plain": [
              "[1, 2, 3, 4, 5, 6, 7, 8, 9, 10, 11, 12, 13, 14, 15, 16, 17, 18, 19, 20]"
            ]
          },
          "metadata": {
            "tags": []
          },
          "execution_count": 31
        }
      ]
    },
    {
      "cell_type": "code",
      "metadata": {
        "id": "M7fe9_ziHeTi",
        "colab_type": "code",
        "colab": {
          "base_uri": "https://localhost:8080/",
          "height": 281
        },
        "outputId": "e07002f8-7d82-4f51-f06a-f4ae49716f47"
      },
      "source": [
        "plt.plot(epochs, loss, label='Train loss')     #=> epoch = 5  \n",
        "plt.plot(epochs, val_loss, label='Validation loss')\n",
        "plt.legend()\n",
        "plt.title('Loss')\n",
        "plt.show()"
      ],
      "execution_count": null,
      "outputs": [
        {
          "output_type": "display_data",
          "data": {
            "image/png": "[encoded data removed]",
            "text/plain": [
              "<Figure size 432x288 with 1 Axes>"
            ]
          },
          "metadata": {
            "tags": [],
            "needs_background": "light"
          }
        }
      ]
    },
    {
      "cell_type": "code",
      "metadata": {
        "id": "qTxo6Y45ITRd",
        "colab_type": "code",
        "colab": {}
      },
      "source": [
        ""
      ],
      "execution_count": null,
      "outputs": []
    }
  ]
}