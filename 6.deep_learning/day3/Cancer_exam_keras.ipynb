{
  "nbformat": 4,
  "nbformat_minor": 0,
  "metadata": {
    "kernelspec": {
      "display_name": "Python 3",
      "language": "python",
      "name": "python3"
    },
    "language_info": {
      "codemirror_mode": {
        "name": "ipython",
        "version": 3
      },
      "file_extension": ".py",
      "mimetype": "text/x-python",
      "name": "python",
      "nbconvert_exporter": "python",
      "pygments_lexer": "ipython3",
      "version": "3.8.3"
    },
    "colab": {
      "name": "Cancer_exam_keras.ipynb",
      "provenance": []
    }
  },
  "cells": [
    {
      "cell_type": "code",
      "metadata": {
        "id": "YC8aZ_Z0ixfw",
        "colab_type": "code",
        "colab": {}
      },
      "source": [
        "import pandas as pd \n",
        "\n",
        "cancer = pd.read_csv('cancer.csv')"
      ],
      "execution_count": null,
      "outputs": []
    },
    {
      "cell_type": "code",
      "metadata": {
        "id": "RoRtEBs8ixf4",
        "colab_type": "code",
        "colab": {},
        "outputId": "4f65c683-8e90-4585-f77a-437a28c03be0"
      },
      "source": [
        "cancer.head(1)"
      ],
      "execution_count": null,
      "outputs": [
        {
          "output_type": "execute_result",
          "data": {
            "text/html": [
              "<div>\n",
              "<style scoped>\n",
              "    .dataframe tbody tr th:only-of-type {\n",
              "        vertical-align: middle;\n",
              "    }\n",
              "\n",
              "    .dataframe tbody tr th {\n",
              "        vertical-align: top;\n",
              "    }\n",
              "\n",
              "    .dataframe thead th {\n",
              "        text-align: right;\n",
              "    }\n",
              "</style>\n",
              "<table border=\"1\" class=\"dataframe\">\n",
              "  <thead>\n",
              "    <tr style=\"text-align: right;\">\n",
              "      <th></th>\n",
              "      <th>mean radius</th>\n",
              "      <th>mean texture</th>\n",
              "      <th>mean perimeter</th>\n",
              "      <th>mean area</th>\n",
              "      <th>mean smoothness</th>\n",
              "      <th>mean compactness</th>\n",
              "      <th>mean concavity</th>\n",
              "      <th>mean concave points</th>\n",
              "      <th>mean symmetry</th>\n",
              "      <th>mean fractal dimension</th>\n",
              "      <th>...</th>\n",
              "      <th>worst texture</th>\n",
              "      <th>worst perimeter</th>\n",
              "      <th>worst area</th>\n",
              "      <th>worst smoothness</th>\n",
              "      <th>worst compactness</th>\n",
              "      <th>worst concavity</th>\n",
              "      <th>worst concave points</th>\n",
              "      <th>worst symmetry</th>\n",
              "      <th>worst fractal dimension</th>\n",
              "      <th>Y</th>\n",
              "    </tr>\n",
              "  </thead>\n",
              "  <tbody>\n",
              "    <tr>\n",
              "      <th>0</th>\n",
              "      <td>17.99</td>\n",
              "      <td>10.38</td>\n",
              "      <td>122.8</td>\n",
              "      <td>1001.0</td>\n",
              "      <td>0.1184</td>\n",
              "      <td>0.2776</td>\n",
              "      <td>0.3001</td>\n",
              "      <td>0.1471</td>\n",
              "      <td>0.2419</td>\n",
              "      <td>0.07871</td>\n",
              "      <td>...</td>\n",
              "      <td>17.33</td>\n",
              "      <td>184.6</td>\n",
              "      <td>2019.0</td>\n",
              "      <td>0.1622</td>\n",
              "      <td>0.6656</td>\n",
              "      <td>0.7119</td>\n",
              "      <td>0.2654</td>\n",
              "      <td>0.4601</td>\n",
              "      <td>0.1189</td>\n",
              "      <td>0</td>\n",
              "    </tr>\n",
              "  </tbody>\n",
              "</table>\n",
              "<p>1 rows × 31 columns</p>\n",
              "</div>"
            ],
            "text/plain": [
              "   mean radius  mean texture  mean perimeter  mean area  mean smoothness  \\\n",
              "0        17.99         10.38           122.8     1001.0           0.1184   \n",
              "\n",
              "   mean compactness  mean concavity  mean concave points  mean symmetry  \\\n",
              "0            0.2776          0.3001               0.1471         0.2419   \n",
              "\n",
              "   mean fractal dimension  ...  worst texture  worst perimeter  worst area  \\\n",
              "0                 0.07871  ...          17.33            184.6      2019.0   \n",
              "\n",
              "   worst smoothness  worst compactness  worst concavity  worst concave points  \\\n",
              "0            0.1622             0.6656           0.7119                0.2654   \n",
              "\n",
              "   worst symmetry  worst fractal dimension  Y  \n",
              "0          0.4601                   0.1189  0  \n",
              "\n",
              "[1 rows x 31 columns]"
            ]
          },
          "metadata": {
            "tags": []
          },
          "execution_count": 3
        }
      ]
    },
    {
      "cell_type": "code",
      "metadata": {
        "id": "UOh4C9WWixf_",
        "colab_type": "code",
        "colab": {}
      },
      "source": [
        "from sklearn.model_selection import train_test_split\n",
        "\n",
        "X_train, X_test, y_train,  y_test = train_test_split(cancer.iloc[:, :-1],\n",
        "                                                     cancer['Y'],random_state=0) \n",
        "    "
      ],
      "execution_count": null,
      "outputs": []
    },
    {
      "cell_type": "code",
      "metadata": {
        "id": "HBuNZ210ixgE",
        "colab_type": "code",
        "colab": {},
        "outputId": "844a3835-8b23-49fc-dc36-168051f84584"
      },
      "source": [
        "X_train.shape"
      ],
      "execution_count": null,
      "outputs": [
        {
          "output_type": "execute_result",
          "data": {
            "text/plain": [
              "(426, 30)"
            ]
          },
          "metadata": {
            "tags": []
          },
          "execution_count": 9
        }
      ]
    },
    {
      "cell_type": "code",
      "metadata": {
        "id": "oOdDw476ixgK",
        "colab_type": "code",
        "colab": {}
      },
      "source": [
        "from keras import models\n",
        "from keras import layers\n",
        "\n",
        "model = models.Sequential()\n",
        "model.add(layers.Dense(16, activation='relu', input_shape=(30,)))\n",
        "model.add(layers.Dense(16, activation='relu'))\n",
        "model.add(layers.Dense(1, activation='sigmoid'))"
      ],
      "execution_count": null,
      "outputs": []
    },
    {
      "cell_type": "code",
      "metadata": {
        "id": "ZezQqp8DixgP",
        "colab_type": "code",
        "colab": {}
      },
      "source": [
        "model.compile(optimizer = 'rmsprop',\n",
        "             loss='binary_crossentropy',\n",
        "             metrics=['accuracy'])"
      ],
      "execution_count": null,
      "outputs": []
    },
    {
      "cell_type": "code",
      "metadata": {
        "id": "RysunvwGixgU",
        "colab_type": "code",
        "colab": {}
      },
      "source": [
        "x_val = X_train[:100]\n",
        "partial_x_train = X_train[100:]\n",
        "\n",
        "y_val = y_train[:100]\n",
        "partial_y_train = y_train[100:]"
      ],
      "execution_count": null,
      "outputs": []
    },
    {
      "cell_type": "code",
      "metadata": {
        "id": "sKx9NcDYixgZ",
        "colab_type": "code",
        "colab": {},
        "outputId": "d3219f6b-1ba8-4515-e841-bb594ccefdf9"
      },
      "source": [
        "history = model.fit(partial_x_train, partial_y_train,\n",
        "                   epochs=20, batch_size=10,\n",
        "                   validation_data=(x_val, y_val))"
      ],
      "execution_count": null,
      "outputs": [
        {
          "output_type": "stream",
          "text": [
            "Epoch 1/20\n",
            " 1/33 [..............................] - ETA: 0s - loss: 40.9370 - accuracy: 0.8000WARNING:tensorflow:Callbacks method `on_test_batch_end` is slow compared to the batch time (batch time: 0.0000s vs `on_test_batch_end` time: 0.0010s). Check your callbacks.\n",
            "33/33 [==============================] - 0s 7ms/step - loss: 60.2177 - accuracy: 0.6196 - val_loss: 26.9036 - val_accuracy: 0.6500\n",
            "Epoch 2/20\n",
            "33/33 [==============================] - 0s 1ms/step - loss: 8.1808 - accuracy: 0.6350 - val_loss: 0.8423 - val_accuracy: 0.7600\n",
            "Epoch 3/20\n",
            "33/33 [==============================] - 0s 1ms/step - loss: 0.9137 - accuracy: 0.7301 - val_loss: 0.8402 - val_accuracy: 0.6400\n",
            "Epoch 4/20\n",
            "33/33 [==============================] - 0s 1ms/step - loss: 0.8498 - accuracy: 0.7362 - val_loss: 0.5854 - val_accuracy: 0.8500\n",
            "Epoch 5/20\n",
            "33/33 [==============================] - 0s 1ms/step - loss: 0.6939 - accuracy: 0.7853 - val_loss: 0.5320 - val_accuracy: 0.8400\n",
            "Epoch 6/20\n",
            "33/33 [==============================] - 0s 1ms/step - loss: 0.5931 - accuracy: 0.7945 - val_loss: 0.4738 - val_accuracy: 0.8500\n",
            "Epoch 7/20\n",
            "33/33 [==============================] - 0s 1ms/step - loss: 0.6108 - accuracy: 0.8037 - val_loss: 0.4066 - val_accuracy: 0.8700\n",
            "Epoch 8/20\n",
            "33/33 [==============================] - 0s 1ms/step - loss: 0.5183 - accuracy: 0.8098 - val_loss: 0.5739 - val_accuracy: 0.7500\n",
            "Epoch 9/20\n",
            "33/33 [==============================] - 0s 1ms/step - loss: 0.4585 - accuracy: 0.8466 - val_loss: 0.3866 - val_accuracy: 0.8600\n",
            "Epoch 10/20\n",
            "33/33 [==============================] - 0s 1ms/step - loss: 0.4322 - accuracy: 0.8681 - val_loss: 0.2779 - val_accuracy: 0.9300\n",
            "Epoch 11/20\n",
            "33/33 [==============================] - 0s 1ms/step - loss: 0.3997 - accuracy: 0.8681 - val_loss: 0.2482 - val_accuracy: 0.9300\n",
            "Epoch 12/20\n",
            "33/33 [==============================] - 0s 1ms/step - loss: 0.3916 - accuracy: 0.8681 - val_loss: 0.4771 - val_accuracy: 0.8600\n",
            "Epoch 13/20\n",
            "33/33 [==============================] - 0s 1ms/step - loss: 0.3550 - accuracy: 0.8712 - val_loss: 0.2709 - val_accuracy: 0.9100\n",
            "Epoch 14/20\n",
            "33/33 [==============================] - 0s 1ms/step - loss: 0.3551 - accuracy: 0.8834 - val_loss: 0.2946 - val_accuracy: 0.9000\n",
            "Epoch 15/20\n",
            "33/33 [==============================] - 0s 1ms/step - loss: 0.3498 - accuracy: 0.8589 - val_loss: 0.2093 - val_accuracy: 0.9500\n",
            "Epoch 16/20\n",
            "33/33 [==============================] - 0s 1ms/step - loss: 0.3200 - accuracy: 0.8804 - val_loss: 0.3312 - val_accuracy: 0.8800\n",
            "Epoch 17/20\n",
            "33/33 [==============================] - 0s 1ms/step - loss: 0.3303 - accuracy: 0.8620 - val_loss: 0.2090 - val_accuracy: 0.9400\n",
            "Epoch 18/20\n",
            "33/33 [==============================] - 0s 1ms/step - loss: 0.3474 - accuracy: 0.8650 - val_loss: 0.1821 - val_accuracy: 0.9500\n",
            "Epoch 19/20\n",
            "33/33 [==============================] - 0s 1ms/step - loss: 0.3213 - accuracy: 0.8957 - val_loss: 0.1805 - val_accuracy: 0.9500\n",
            "Epoch 20/20\n",
            "33/33 [==============================] - 0s 1ms/step - loss: 0.3130 - accuracy: 0.8681 - val_loss: 0.1782 - val_accuracy: 0.9400\n"
          ],
          "name": "stdout"
        }
      ]
    },
    {
      "cell_type": "code",
      "metadata": {
        "id": "iiJi66efixge",
        "colab_type": "code",
        "colab": {}
      },
      "source": [
        ""
      ],
      "execution_count": null,
      "outputs": []
    }
  ]
}