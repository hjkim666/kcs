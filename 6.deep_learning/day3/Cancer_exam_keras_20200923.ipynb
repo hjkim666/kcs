{
  "nbformat": 4,
  "nbformat_minor": 0,
  "metadata": {
    "kernelspec": {
      "display_name": "Python 3",
      "language": "python",
      "name": "python3"
    },
    "language_info": {
      "codemirror_mode": {
        "name": "ipython",
        "version": 3
      },
      "file_extension": ".py",
      "mimetype": "text/x-python",
      "name": "python",
      "nbconvert_exporter": "python",
      "pygments_lexer": "ipython3",
      "version": "3.8.3"
    },
    "colab": {
      "name": "Cancer_exam_keras_20200923.ipynb",
      "provenance": []
    }
  },
  "cells": [
    {
      "cell_type": "code",
      "metadata": {
        "id": "7-BXvoiT1D1b",
        "colab_type": "code",
        "colab": {}
      },
      "source": [
        "import pandas as pd \n",
        "cancer = pd.read_csv('cancer.csv')"
      ],
      "execution_count": null,
      "outputs": []
    },
    {
      "cell_type": "code",
      "metadata": {
        "collapsed": true,
        "id": "TxzeFkOn1D1f",
        "colab_type": "code",
        "colab": {},
        "outputId": "e559da32-c510-48b9-c215-2d25e40989fc"
      },
      "source": [
        "cancer.head()"
      ],
      "execution_count": null,
      "outputs": [
        {
          "output_type": "execute_result",
          "data": {
            "text/html": [
              "<div>\n",
              "<style scoped>\n",
              "    .dataframe tbody tr th:only-of-type {\n",
              "        vertical-align: middle;\n",
              "    }\n",
              "\n",
              "    .dataframe tbody tr th {\n",
              "        vertical-align: top;\n",
              "    }\n",
              "\n",
              "    .dataframe thead th {\n",
              "        text-align: right;\n",
              "    }\n",
              "</style>\n",
              "<table border=\"1\" class=\"dataframe\">\n",
              "  <thead>\n",
              "    <tr style=\"text-align: right;\">\n",
              "      <th></th>\n",
              "      <th>mean radius</th>\n",
              "      <th>mean texture</th>\n",
              "      <th>mean perimeter</th>\n",
              "      <th>mean area</th>\n",
              "      <th>mean smoothness</th>\n",
              "      <th>mean compactness</th>\n",
              "      <th>mean concavity</th>\n",
              "      <th>mean concave points</th>\n",
              "      <th>mean symmetry</th>\n",
              "      <th>mean fractal dimension</th>\n",
              "      <th>...</th>\n",
              "      <th>worst texture</th>\n",
              "      <th>worst perimeter</th>\n",
              "      <th>worst area</th>\n",
              "      <th>worst smoothness</th>\n",
              "      <th>worst compactness</th>\n",
              "      <th>worst concavity</th>\n",
              "      <th>worst concave points</th>\n",
              "      <th>worst symmetry</th>\n",
              "      <th>worst fractal dimension</th>\n",
              "      <th>Y</th>\n",
              "    </tr>\n",
              "  </thead>\n",
              "  <tbody>\n",
              "    <tr>\n",
              "      <th>0</th>\n",
              "      <td>17.99</td>\n",
              "      <td>10.38</td>\n",
              "      <td>122.80</td>\n",
              "      <td>1001.0</td>\n",
              "      <td>0.11840</td>\n",
              "      <td>0.27760</td>\n",
              "      <td>0.3001</td>\n",
              "      <td>0.14710</td>\n",
              "      <td>0.2419</td>\n",
              "      <td>0.07871</td>\n",
              "      <td>...</td>\n",
              "      <td>17.33</td>\n",
              "      <td>184.60</td>\n",
              "      <td>2019.0</td>\n",
              "      <td>0.1622</td>\n",
              "      <td>0.6656</td>\n",
              "      <td>0.7119</td>\n",
              "      <td>0.2654</td>\n",
              "      <td>0.4601</td>\n",
              "      <td>0.11890</td>\n",
              "      <td>0</td>\n",
              "    </tr>\n",
              "    <tr>\n",
              "      <th>1</th>\n",
              "      <td>20.57</td>\n",
              "      <td>17.77</td>\n",
              "      <td>132.90</td>\n",
              "      <td>1326.0</td>\n",
              "      <td>0.08474</td>\n",
              "      <td>0.07864</td>\n",
              "      <td>0.0869</td>\n",
              "      <td>0.07017</td>\n",
              "      <td>0.1812</td>\n",
              "      <td>0.05667</td>\n",
              "      <td>...</td>\n",
              "      <td>23.41</td>\n",
              "      <td>158.80</td>\n",
              "      <td>1956.0</td>\n",
              "      <td>0.1238</td>\n",
              "      <td>0.1866</td>\n",
              "      <td>0.2416</td>\n",
              "      <td>0.1860</td>\n",
              "      <td>0.2750</td>\n",
              "      <td>0.08902</td>\n",
              "      <td>0</td>\n",
              "    </tr>\n",
              "    <tr>\n",
              "      <th>2</th>\n",
              "      <td>19.69</td>\n",
              "      <td>21.25</td>\n",
              "      <td>130.00</td>\n",
              "      <td>1203.0</td>\n",
              "      <td>0.10960</td>\n",
              "      <td>0.15990</td>\n",
              "      <td>0.1974</td>\n",
              "      <td>0.12790</td>\n",
              "      <td>0.2069</td>\n",
              "      <td>0.05999</td>\n",
              "      <td>...</td>\n",
              "      <td>25.53</td>\n",
              "      <td>152.50</td>\n",
              "      <td>1709.0</td>\n",
              "      <td>0.1444</td>\n",
              "      <td>0.4245</td>\n",
              "      <td>0.4504</td>\n",
              "      <td>0.2430</td>\n",
              "      <td>0.3613</td>\n",
              "      <td>0.08758</td>\n",
              "      <td>0</td>\n",
              "    </tr>\n",
              "    <tr>\n",
              "      <th>3</th>\n",
              "      <td>11.42</td>\n",
              "      <td>20.38</td>\n",
              "      <td>77.58</td>\n",
              "      <td>386.1</td>\n",
              "      <td>0.14250</td>\n",
              "      <td>0.28390</td>\n",
              "      <td>0.2414</td>\n",
              "      <td>0.10520</td>\n",
              "      <td>0.2597</td>\n",
              "      <td>0.09744</td>\n",
              "      <td>...</td>\n",
              "      <td>26.50</td>\n",
              "      <td>98.87</td>\n",
              "      <td>567.7</td>\n",
              "      <td>0.2098</td>\n",
              "      <td>0.8663</td>\n",
              "      <td>0.6869</td>\n",
              "      <td>0.2575</td>\n",
              "      <td>0.6638</td>\n",
              "      <td>0.17300</td>\n",
              "      <td>0</td>\n",
              "    </tr>\n",
              "    <tr>\n",
              "      <th>4</th>\n",
              "      <td>20.29</td>\n",
              "      <td>14.34</td>\n",
              "      <td>135.10</td>\n",
              "      <td>1297.0</td>\n",
              "      <td>0.10030</td>\n",
              "      <td>0.13280</td>\n",
              "      <td>0.1980</td>\n",
              "      <td>0.10430</td>\n",
              "      <td>0.1809</td>\n",
              "      <td>0.05883</td>\n",
              "      <td>...</td>\n",
              "      <td>16.67</td>\n",
              "      <td>152.20</td>\n",
              "      <td>1575.0</td>\n",
              "      <td>0.1374</td>\n",
              "      <td>0.2050</td>\n",
              "      <td>0.4000</td>\n",
              "      <td>0.1625</td>\n",
              "      <td>0.2364</td>\n",
              "      <td>0.07678</td>\n",
              "      <td>0</td>\n",
              "    </tr>\n",
              "  </tbody>\n",
              "</table>\n",
              "<p>5 rows × 31 columns</p>\n",
              "</div>"
            ],
            "text/plain": [
              "   mean radius  mean texture  mean perimeter  mean area  mean smoothness  \\\n",
              "0        17.99         10.38          122.80     1001.0          0.11840   \n",
              "1        20.57         17.77          132.90     1326.0          0.08474   \n",
              "2        19.69         21.25          130.00     1203.0          0.10960   \n",
              "3        11.42         20.38           77.58      386.1          0.14250   \n",
              "4        20.29         14.34          135.10     1297.0          0.10030   \n",
              "\n",
              "   mean compactness  mean concavity  mean concave points  mean symmetry  \\\n",
              "0           0.27760          0.3001              0.14710         0.2419   \n",
              "1           0.07864          0.0869              0.07017         0.1812   \n",
              "2           0.15990          0.1974              0.12790         0.2069   \n",
              "3           0.28390          0.2414              0.10520         0.2597   \n",
              "4           0.13280          0.1980              0.10430         0.1809   \n",
              "\n",
              "   mean fractal dimension  ...  worst texture  worst perimeter  worst area  \\\n",
              "0                 0.07871  ...          17.33           184.60      2019.0   \n",
              "1                 0.05667  ...          23.41           158.80      1956.0   \n",
              "2                 0.05999  ...          25.53           152.50      1709.0   \n",
              "3                 0.09744  ...          26.50            98.87       567.7   \n",
              "4                 0.05883  ...          16.67           152.20      1575.0   \n",
              "\n",
              "   worst smoothness  worst compactness  worst concavity  worst concave points  \\\n",
              "0            0.1622             0.6656           0.7119                0.2654   \n",
              "1            0.1238             0.1866           0.2416                0.1860   \n",
              "2            0.1444             0.4245           0.4504                0.2430   \n",
              "3            0.2098             0.8663           0.6869                0.2575   \n",
              "4            0.1374             0.2050           0.4000                0.1625   \n",
              "\n",
              "   worst symmetry  worst fractal dimension  Y  \n",
              "0          0.4601                  0.11890  0  \n",
              "1          0.2750                  0.08902  0  \n",
              "2          0.3613                  0.08758  0  \n",
              "3          0.6638                  0.17300  0  \n",
              "4          0.2364                  0.07678  0  \n",
              "\n",
              "[5 rows x 31 columns]"
            ]
          },
          "metadata": {
            "tags": []
          },
          "execution_count": 2
        }
      ]
    },
    {
      "cell_type": "code",
      "metadata": {
        "id": "ECmihger1D1i",
        "colab_type": "code",
        "colab": {}
      },
      "source": [
        "from sklearn.model_selection import train_test_split\n",
        "\n",
        "X_train, X_test, y_train, y_test = train_test_split(cancer.iloc[:, :-1],\n",
        "                                                   cancer['Y'],\n",
        "                                                   random_state=0,\n",
        "                                                   stratify= cancer['Y'])"
      ],
      "execution_count": null,
      "outputs": []
    },
    {
      "cell_type": "code",
      "metadata": {
        "id": "af-ehgt01D1l",
        "colab_type": "code",
        "colab": {},
        "outputId": "a80a6290-c0f2-4424-aa2b-8d76bd889602"
      },
      "source": [
        "X_train.shape"
      ],
      "execution_count": null,
      "outputs": [
        {
          "output_type": "execute_result",
          "data": {
            "text/plain": [
              "(426, 30)"
            ]
          },
          "metadata": {
            "tags": []
          },
          "execution_count": 4
        }
      ]
    },
    {
      "cell_type": "code",
      "metadata": {
        "id": "o3CScG1O1D1n",
        "colab_type": "code",
        "colab": {},
        "outputId": "2caa7549-98db-44e3-a323-572333f19b43"
      },
      "source": [
        "y_train.shape"
      ],
      "execution_count": null,
      "outputs": [
        {
          "output_type": "execute_result",
          "data": {
            "text/plain": [
              "(426,)"
            ]
          },
          "metadata": {
            "tags": []
          },
          "execution_count": 5
        }
      ]
    },
    {
      "cell_type": "code",
      "metadata": {
        "id": "hNUnGfP-1D1p",
        "colab_type": "code",
        "colab": {},
        "outputId": "576ee805-e66f-4aa9-feb6-96b49d7fa4d2"
      },
      "source": [
        "X_test.shape"
      ],
      "execution_count": null,
      "outputs": [
        {
          "output_type": "execute_result",
          "data": {
            "text/plain": [
              "(143, 30)"
            ]
          },
          "metadata": {
            "tags": []
          },
          "execution_count": 6
        }
      ]
    },
    {
      "cell_type": "code",
      "metadata": {
        "id": "nkn6GkvQ1D1r",
        "colab_type": "code",
        "colab": {},
        "outputId": "7284cd0c-236e-451d-9785-f594a891e278"
      },
      "source": [
        "y_test.shape"
      ],
      "execution_count": null,
      "outputs": [
        {
          "output_type": "execute_result",
          "data": {
            "text/plain": [
              "(143,)"
            ]
          },
          "metadata": {
            "tags": []
          },
          "execution_count": 7
        }
      ]
    },
    {
      "cell_type": "markdown",
      "metadata": {
        "id": "WppIc88s1D1u",
        "colab_type": "text"
      },
      "source": [
        "### Modeling"
      ]
    },
    {
      "cell_type": "code",
      "metadata": {
        "id": "gbLfIrKz1D1u",
        "colab_type": "code",
        "colab": {}
      },
      "source": [
        "from keras import models\n",
        "from keras import layers\n",
        "\n",
        "model = models.Sequential() \n",
        "model.add(layers.Dense(16, activation='relu', input_shape=(30,)))\n",
        "model.add(layers.Dense(16, activation='relu'))\n",
        "model.add(layers.Dense(1, activation='sigmoid'))   #0/1 분류 \n",
        "\n",
        "model.compile(loss='binary_crossentropy', optimizer='rmsprop',\n",
        "              metrics=['accuracy'])"
      ],
      "execution_count": null,
      "outputs": []
    },
    {
      "cell_type": "code",
      "metadata": {
        "id": "hKx274DM1D1x",
        "colab_type": "code",
        "colab": {}
      },
      "source": [
        "x_val = X_train[:100]      # 검증용 x\n",
        "partial_x_train = X_train[100:]   #학습용 x\n",
        "\n",
        "y_val = y_train[:100]       # 검증용 y\n",
        "partial_y_train = y_train[100:]    #학습용 y"
      ],
      "execution_count": null,
      "outputs": []
    },
    {
      "cell_type": "code",
      "metadata": {
        "id": "4NAk3NMS1D1z",
        "colab_type": "code",
        "colab": {},
        "outputId": "dded5f1c-96da-4536-9d4c-9a24e649e693"
      },
      "source": [
        "history = model.fit(partial_x_train, partial_y_train,\n",
        "                   epochs=20, batch_size=10, \n",
        "                   validation_data=(x_val, y_val))"
      ],
      "execution_count": null,
      "outputs": [
        {
          "output_type": "stream",
          "text": [
            "Epoch 1/20\n",
            "33/33 [==============================] - 0s 6ms/step - loss: 46.9526 - accuracy: 0.6718 - val_loss: 0.5733 - val_accuracy: 0.8100\n",
            "Epoch 2/20\n",
            "33/33 [==============================] - 0s 1ms/step - loss: 0.8227 - accuracy: 0.8436 - val_loss: 0.2919 - val_accuracy: 0.9300\n",
            "Epoch 3/20\n",
            "33/33 [==============================] - 0s 1ms/step - loss: 0.8661 - accuracy: 0.8497 - val_loss: 0.6257 - val_accuracy: 0.8300\n",
            "Epoch 4/20\n",
            "33/33 [==============================] - 0s 1ms/step - loss: 0.7117 - accuracy: 0.8620 - val_loss: 0.5333 - val_accuracy: 0.8900\n",
            "Epoch 5/20\n",
            "33/33 [==============================] - 0s 2ms/step - loss: 0.7487 - accuracy: 0.8528 - val_loss: 0.5067 - val_accuracy: 0.8900\n",
            "Epoch 6/20\n",
            "33/33 [==============================] - 0s 1ms/step - loss: 0.7427 - accuracy: 0.8466 - val_loss: 0.4490 - val_accuracy: 0.9300\n",
            "Epoch 7/20\n",
            "33/33 [==============================] - 0s 2ms/step - loss: 0.6233 - accuracy: 0.8742 - val_loss: 0.3231 - val_accuracy: 0.9200\n",
            "Epoch 8/20\n",
            "33/33 [==============================] - 0s 2ms/step - loss: 0.5311 - accuracy: 0.8834 - val_loss: 0.2554 - val_accuracy: 0.9400\n",
            "Epoch 9/20\n",
            "33/33 [==============================] - 0s 2ms/step - loss: 0.5830 - accuracy: 0.8681 - val_loss: 2.6751 - val_accuracy: 0.5600\n",
            "Epoch 10/20\n",
            "33/33 [==============================] - 0s 1ms/step - loss: 0.7381 - accuracy: 0.8282 - val_loss: 0.8804 - val_accuracy: 0.8000\n",
            "Epoch 11/20\n",
            "33/33 [==============================] - 0s 1ms/step - loss: 0.5952 - accuracy: 0.8497 - val_loss: 0.2477 - val_accuracy: 0.9400\n",
            "Epoch 12/20\n",
            "33/33 [==============================] - 0s 1ms/step - loss: 0.5605 - accuracy: 0.8773 - val_loss: 0.2922 - val_accuracy: 0.9300\n",
            "Epoch 13/20\n",
            "33/33 [==============================] - 0s 2ms/step - loss: 0.6425 - accuracy: 0.8896 - val_loss: 0.3212 - val_accuracy: 0.9000\n",
            "Epoch 14/20\n",
            "33/33 [==============================] - 0s 2ms/step - loss: 0.5145 - accuracy: 0.8896 - val_loss: 0.2392 - val_accuracy: 0.9400\n",
            "Epoch 15/20\n",
            "33/33 [==============================] - 0s 2ms/step - loss: 0.4663 - accuracy: 0.8773 - val_loss: 1.2314 - val_accuracy: 0.8100\n",
            "Epoch 16/20\n",
            "33/33 [==============================] - 0s 1ms/step - loss: 0.6342 - accuracy: 0.8712 - val_loss: 0.8718 - val_accuracy: 0.7900\n",
            "Epoch 17/20\n",
            "33/33 [==============================] - 0s 1ms/step - loss: 0.5413 - accuracy: 0.8804 - val_loss: 0.8467 - val_accuracy: 0.8300\n",
            "Epoch 18/20\n",
            "33/33 [==============================] - 0s 1ms/step - loss: 0.5810 - accuracy: 0.8589 - val_loss: 0.2299 - val_accuracy: 0.9400\n",
            "Epoch 19/20\n",
            "33/33 [==============================] - 0s 2ms/step - loss: 0.5237 - accuracy: 0.8773 - val_loss: 0.4845 - val_accuracy: 0.8900\n",
            "Epoch 20/20\n",
            "33/33 [==============================] - 0s 1ms/step - loss: 0.5424 - accuracy: 0.8957 - val_loss: 0.3963 - val_accuracy: 0.9300\n"
          ],
          "name": "stdout"
        }
      ]
    },
    {
      "cell_type": "markdown",
      "metadata": {
        "id": "tIjj5JD81D13",
        "colab_type": "text"
      },
      "source": [
        "### 시각화"
      ]
    },
    {
      "cell_type": "code",
      "metadata": {
        "id": "beTyC68N1D14",
        "colab_type": "code",
        "colab": {},
        "outputId": "8f6be043-2fe9-49eb-aa00-d8ca53967769"
      },
      "source": [
        "import matplotlib.pyplot as plt\n",
        "\n",
        "history.history.keys()"
      ],
      "execution_count": null,
      "outputs": [
        {
          "output_type": "execute_result",
          "data": {
            "text/plain": [
              "dict_keys(['loss', 'accuracy', 'val_loss', 'val_accuracy'])"
            ]
          },
          "metadata": {
            "tags": []
          },
          "execution_count": 15
        }
      ]
    },
    {
      "cell_type": "code",
      "metadata": {
        "id": "DoLTOGqd1D19",
        "colab_type": "code",
        "colab": {},
        "outputId": "e3b99d42-8197-43b3-ab42-1ed500b19ce0"
      },
      "source": [
        "loss = history.history['loss']\n",
        "acc = history.history['accuracy']\n",
        "val_loss = history.history['val_loss']\n",
        "val_acc = history.history['val_accuracy']\n",
        "\n",
        "epochs = range(1, len(acc)+1)\n",
        "\n",
        "plt.plot(epochs, loss, label='Train loss')\n",
        "plt.plot(epochs, val_loss, label='Validation loss')\n",
        "# plt.yscale('symlog')\n",
        "plt.legend() \n",
        "plt.title('Loss')\n",
        "plt.show()"
      ],
      "execution_count": null,
      "outputs": [
        {
          "output_type": "display_data",
          "data": {
            "image/png": "[encoded data removed]",
            "text/plain": [
              "<Figure size 432x288 with 1 Axes>"
            ]
          },
          "metadata": {
            "tags": [],
            "needs_background": "light"
          }
        }
      ]
    },
    {
      "cell_type": "code",
      "metadata": {
        "id": "ossuawYh1D2D",
        "colab_type": "code",
        "colab": {},
        "outputId": "ec4eb057-cd49-4c14-ace2-7befafa2de8a"
      },
      "source": [
        "plt.plot(epochs, acc, label='Train acc')\n",
        "plt.plot(epochs, val_acc, label='Validation acc')\n",
        "plt.legend() \n",
        "plt.title('Accuracy')\n",
        "plt.show()"
      ],
      "execution_count": null,
      "outputs": [
        {
          "output_type": "display_data",
          "data": {
            "image/png": "[encoded data removed]",
            "text/plain": [
              "<Figure size 432x288 with 1 Axes>"
            ]
          },
          "metadata": {
            "tags": [],
            "needs_background": "light"
          }
        }
      ]
    },
    {
      "cell_type": "code",
      "metadata": {
        "collapsed": true,
        "id": "xpniiUxY1D2F",
        "colab_type": "code",
        "colab": {},
        "outputId": "23f666f8-a53f-4112-f077-0c006a0ca917"
      },
      "source": [
        "model = models.Sequential() \n",
        "model.add(layers.Dense(16, activation='relu', input_shape=(30,)))\n",
        "model.add(layers.Dense(16, activation='relu'))\n",
        "model.add(layers.Dense(1, activation='sigmoid'))   #0/1 분류 \n",
        "\n",
        "model.compile(loss='binary_crossentropy', optimizer='rmsprop',\n",
        "              metrics=['accuracy'])\n",
        "\n",
        "history = model.fit(X_train, y_train,\n",
        "                   epochs=8, batch_size=10)"
      ],
      "execution_count": null,
      "outputs": [
        {
          "output_type": "stream",
          "text": [
            "Epoch 1/8\n",
            "43/43 [==============================] - 0s 673us/step - loss: 3.2526 - accuracy: 0.6009\n",
            "Epoch 2/8\n",
            "43/43 [==============================] - 0s 741us/step - loss: 2.1227 - accuracy: 0.6408\n",
            "Epoch 3/8\n",
            "43/43 [==============================] - 0s 724us/step - loss: 1.9214 - accuracy: 0.6526\n",
            "Epoch 4/8\n",
            "43/43 [==============================] - 0s 949us/step - loss: 1.6177 - accuracy: 0.7160\n",
            "Epoch 5/8\n",
            "43/43 [==============================] - 0s 766us/step - loss: 1.3371 - accuracy: 0.7347\n",
            "Epoch 6/8\n",
            "43/43 [==============================] - 0s 879us/step - loss: 1.3217 - accuracy: 0.7746\n",
            "Epoch 7/8\n",
            "43/43 [==============================] - 0s 762us/step - loss: 1.3099 - accuracy: 0.7676\n",
            "Epoch 8/8\n",
            "43/43 [==============================] - 0s 812us/step - loss: 0.8083 - accuracy: 0.8263\n"
          ],
          "name": "stdout"
        }
      ]
    },
    {
      "cell_type": "code",
      "metadata": {
        "id": "Uja9ezaR1D2H",
        "colab_type": "code",
        "colab": {},
        "outputId": "7872ff68-7612-4b15-9f03-dd8a19718f65"
      },
      "source": [
        "model.evaluate(X_test, y_test)"
      ],
      "execution_count": null,
      "outputs": [
        {
          "output_type": "stream",
          "text": [
            "5/5 [==============================] - 0s 998us/step - loss: 0.3095 - accuracy: 0.9091\n"
          ],
          "name": "stdout"
        },
        {
          "output_type": "execute_result",
          "data": {
            "text/plain": [
              "[0.3095032870769501, 0.9090909361839294]"
            ]
          },
          "metadata": {
            "tags": []
          },
          "execution_count": 22
        }
      ]
    },
    {
      "cell_type": "code",
      "metadata": {
        "id": "MPOU12Lv1D2J",
        "colab_type": "code",
        "colab": {},
        "outputId": "f3651e11-ba80-46c1-b8dd-8415efa17bb2"
      },
      "source": [
        "(model.predict(X_test) > 0.5) * 1."
      ],
      "execution_count": null,
      "outputs": [
        {
          "output_type": "execute_result",
          "data": {
            "text/plain": [
              "array([[0.],\n",
              "       [0.],\n",
              "       [0.],\n",
              "       [1.],\n",
              "       [0.],\n",
              "       [1.],\n",
              "       [0.],\n",
              "       [0.],\n",
              "       [0.],\n",
              "       [1.],\n",
              "       [0.],\n",
              "       [0.],\n",
              "       [1.],\n",
              "       [1.],\n",
              "       [1.],\n",
              "       [1.],\n",
              "       [1.],\n",
              "       [0.],\n",
              "       [1.],\n",
              "       [0.],\n",
              "       [0.],\n",
              "       [0.],\n",
              "       [1.],\n",
              "       [1.],\n",
              "       [1.],\n",
              "       [0.],\n",
              "       [1.],\n",
              "       [1.],\n",
              "       [1.],\n",
              "       [0.],\n",
              "       [1.],\n",
              "       [1.],\n",
              "       [0.],\n",
              "       [1.],\n",
              "       [1.],\n",
              "       [1.],\n",
              "       [0.],\n",
              "       [0.],\n",
              "       [0.],\n",
              "       [1.],\n",
              "       [0.],\n",
              "       [0.],\n",
              "       [0.],\n",
              "       [0.],\n",
              "       [1.],\n",
              "       [1.],\n",
              "       [1.],\n",
              "       [1.],\n",
              "       [0.],\n",
              "       [1.],\n",
              "       [0.],\n",
              "       [1.],\n",
              "       [1.],\n",
              "       [1.],\n",
              "       [1.],\n",
              "       [1.],\n",
              "       [1.],\n",
              "       [1.],\n",
              "       [1.],\n",
              "       [1.],\n",
              "       [0.],\n",
              "       [1.],\n",
              "       [1.],\n",
              "       [0.],\n",
              "       [1.],\n",
              "       [0.],\n",
              "       [0.],\n",
              "       [1.],\n",
              "       [1.],\n",
              "       [0.],\n",
              "       [1.],\n",
              "       [1.],\n",
              "       [1.],\n",
              "       [1.],\n",
              "       [1.],\n",
              "       [0.],\n",
              "       [1.],\n",
              "       [1.],\n",
              "       [1.],\n",
              "       [1.],\n",
              "       [1.],\n",
              "       [1.],\n",
              "       [0.],\n",
              "       [0.],\n",
              "       [0.],\n",
              "       [1.],\n",
              "       [1.],\n",
              "       [1.],\n",
              "       [1.],\n",
              "       [1.],\n",
              "       [1.],\n",
              "       [1.],\n",
              "       [0.],\n",
              "       [0.],\n",
              "       [1.],\n",
              "       [0.],\n",
              "       [1.],\n",
              "       [1.],\n",
              "       [1.],\n",
              "       [0.],\n",
              "       [0.],\n",
              "       [0.],\n",
              "       [0.],\n",
              "       [1.],\n",
              "       [1.],\n",
              "       [1.],\n",
              "       [0.],\n",
              "       [0.],\n",
              "       [1.],\n",
              "       [1.],\n",
              "       [1.],\n",
              "       [0.],\n",
              "       [1.],\n",
              "       [1.],\n",
              "       [1.],\n",
              "       [1.],\n",
              "       [1.],\n",
              "       [1.],\n",
              "       [1.],\n",
              "       [1.],\n",
              "       [1.],\n",
              "       [1.],\n",
              "       [1.],\n",
              "       [1.],\n",
              "       [0.],\n",
              "       [1.],\n",
              "       [1.],\n",
              "       [0.],\n",
              "       [1.],\n",
              "       [1.],\n",
              "       [1.],\n",
              "       [1.],\n",
              "       [1.],\n",
              "       [1.],\n",
              "       [1.],\n",
              "       [1.],\n",
              "       [0.],\n",
              "       [1.],\n",
              "       [0.],\n",
              "       [1.],\n",
              "       [0.],\n",
              "       [1.],\n",
              "       [0.]])"
            ]
          },
          "metadata": {
            "tags": []
          },
          "execution_count": 26
        }
      ]
    },
    {
      "cell_type": "code",
      "metadata": {
        "id": "CyXWGfNy1D2L",
        "colab_type": "code",
        "colab": {}
      },
      "source": [
        ""
      ],
      "execution_count": null,
      "outputs": []
    }
  ]
}