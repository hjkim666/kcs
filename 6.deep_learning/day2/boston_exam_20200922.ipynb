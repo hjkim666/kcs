{
  "nbformat": 4,
  "nbformat_minor": 0,
  "metadata": {
    "colab": {
      "name": "boston_exam_20200922.ipynb",
      "provenance": [],
      "collapsed_sections": []
    },
    "kernelspec": {
      "name": "python3",
      "display_name": "Python 3"
    },
    "accelerator": "GPU"
  },
  "cells": [
    {
      "cell_type": "code",
      "metadata": {
        "id": "p6-FuigcTBnO",
        "colab_type": "code",
        "colab": {}
      },
      "source": [
        "from keras.datasets import boston_housing\n",
        "(train_data, train_target),(test_data, test_target) = boston_housing.load_data()"
      ],
      "execution_count": null,
      "outputs": []
    },
    {
      "cell_type": "code",
      "metadata": {
        "id": "SSP0B5NQTXFc",
        "colab_type": "code",
        "colab": {
          "base_uri": "https://localhost:8080/",
          "height": 34
        },
        "outputId": "470f2cc4-3e96-4fbf-86d2-d33c9b9a1a38"
      },
      "source": [
        "train_data.shape"
      ],
      "execution_count": null,
      "outputs": [
        {
          "output_type": "execute_result",
          "data": {
            "text/plain": [
              "(404, 13)"
            ]
          },
          "metadata": {
            "tags": []
          },
          "execution_count": 13
        }
      ]
    },
    {
      "cell_type": "code",
      "metadata": {
        "id": "S3b7wwLlTulW",
        "colab_type": "code",
        "colab": {
          "base_uri": "https://localhost:8080/",
          "height": 69
        },
        "outputId": "62bd2e85-3ae6-4d46-9d43-648f2d9a0cb7"
      },
      "source": [
        "train_data[0]"
      ],
      "execution_count": null,
      "outputs": [
        {
          "output_type": "execute_result",
          "data": {
            "text/plain": [
              "array([  1.23247,   0.     ,   8.14   ,   0.     ,   0.538  ,   6.142  ,\n",
              "        91.7    ,   3.9769 ,   4.     , 307.     ,  21.     , 396.9    ,\n",
              "        18.72   ])"
            ]
          },
          "metadata": {
            "tags": []
          },
          "execution_count": 14
        }
      ]
    },
    {
      "cell_type": "code",
      "metadata": {
        "id": "mpZqoHbWT16N",
        "colab_type": "code",
        "colab": {
          "base_uri": "https://localhost:8080/",
          "height": 34
        },
        "outputId": "a59fde32-33eb-4f45-8b9b-f97d4e2aeee3"
      },
      "source": [
        "train_target.shape"
      ],
      "execution_count": null,
      "outputs": [
        {
          "output_type": "execute_result",
          "data": {
            "text/plain": [
              "(404,)"
            ]
          },
          "metadata": {
            "tags": []
          },
          "execution_count": 15
        }
      ]
    },
    {
      "cell_type": "code",
      "metadata": {
        "id": "inADuY2XUNBG",
        "colab_type": "code",
        "colab": {
          "base_uri": "https://localhost:8080/",
          "height": 34
        },
        "outputId": "c202dfbf-d386-4212-8e89-d5c8830d8a1a"
      },
      "source": [
        "test_data.shape"
      ],
      "execution_count": null,
      "outputs": [
        {
          "output_type": "execute_result",
          "data": {
            "text/plain": [
              "(102, 13)"
            ]
          },
          "metadata": {
            "tags": []
          },
          "execution_count": 16
        }
      ]
    },
    {
      "cell_type": "code",
      "metadata": {
        "id": "1JXXmOjiUeX2",
        "colab_type": "code",
        "colab": {
          "base_uri": "https://localhost:8080/",
          "height": 34
        },
        "outputId": "652e3081-1eab-456c-9574-63c33f9b2c67"
      },
      "source": [
        "test_target.shape"
      ],
      "execution_count": null,
      "outputs": [
        {
          "output_type": "execute_result",
          "data": {
            "text/plain": [
              "(102,)"
            ]
          },
          "metadata": {
            "tags": []
          },
          "execution_count": 17
        }
      ]
    },
    {
      "cell_type": "code",
      "metadata": {
        "id": "42xSK-QtUjgW",
        "colab_type": "code",
        "colab": {}
      },
      "source": [
        "### 모델링 \n",
        "from keras import models \n",
        "from keras import layers \n",
        "\n",
        "model = models.Sequential() \n",
        "model.add(layers.Dense(64, activation='relu', input_shape=(13,)))\n",
        "model.add(layers.Dense(64, activation='relu'))\n",
        "model.add(layers.Dense(1))    # 회귀 1, activation 함수없음\n",
        "\n",
        "model.compile(loss='mse', optimizer='adam', metrics=['mae'])"
      ],
      "execution_count": null,
      "outputs": []
    },
    {
      "cell_type": "code",
      "metadata": {
        "id": "qqIQZB6GU3x-",
        "colab_type": "code",
        "colab": {
          "base_uri": "https://localhost:8080/",
          "height": 1000
        },
        "outputId": "25378682-b5cf-4b7f-f068-b84dff6456b7"
      },
      "source": [
        "history = model.fit(train_data, train_target, epochs=100, batch_size=1)"
      ],
      "execution_count": null,
      "outputs": [
        {
          "output_type": "stream",
          "text": [
            "Epoch 1/100\n",
            "404/404 [==============================] - 1s 2ms/step - loss: 113.9092 - mae: 8.1224\n",
            "Epoch 2/100\n",
            "404/404 [==============================] - 1s 1ms/step - loss: 96.8028 - mae: 7.4247\n",
            "Epoch 3/100\n",
            "404/404 [==============================] - 1s 1ms/step - loss: 71.2068 - mae: 6.2022\n",
            "Epoch 4/100\n",
            "404/404 [==============================] - 1s 1ms/step - loss: 65.3587 - mae: 5.9686\n",
            "Epoch 5/100\n",
            "404/404 [==============================] - 1s 1ms/step - loss: 61.9568 - mae: 5.8656\n",
            "Epoch 6/100\n",
            "404/404 [==============================] - 1s 2ms/step - loss: 52.4115 - mae: 5.1725\n",
            "Epoch 7/100\n",
            "404/404 [==============================] - 1s 1ms/step - loss: 55.4609 - mae: 5.6185\n",
            "Epoch 8/100\n",
            "404/404 [==============================] - 1s 1ms/step - loss: 55.1483 - mae: 5.4368\n",
            "Epoch 9/100\n",
            "404/404 [==============================] - 1s 1ms/step - loss: 48.3596 - mae: 5.1684\n",
            "Epoch 10/100\n",
            "404/404 [==============================] - 1s 1ms/step - loss: 46.7378 - mae: 5.1443\n",
            "Epoch 11/100\n",
            "404/404 [==============================] - 1s 1ms/step - loss: 50.2744 - mae: 5.4039\n",
            "Epoch 12/100\n",
            "404/404 [==============================] - 1s 1ms/step - loss: 43.8651 - mae: 5.0652\n",
            "Epoch 13/100\n",
            "404/404 [==============================] - 1s 1ms/step - loss: 42.2665 - mae: 4.8509\n",
            "Epoch 14/100\n",
            "404/404 [==============================] - 1s 1ms/step - loss: 38.7204 - mae: 4.4206\n",
            "Epoch 15/100\n",
            "404/404 [==============================] - 1s 1ms/step - loss: 37.6827 - mae: 4.5025\n",
            "Epoch 16/100\n",
            "404/404 [==============================] - 1s 1ms/step - loss: 34.0045 - mae: 4.1570\n",
            "Epoch 17/100\n",
            "404/404 [==============================] - 1s 2ms/step - loss: 34.6507 - mae: 4.3721\n",
            "Epoch 18/100\n",
            "404/404 [==============================] - 1s 1ms/step - loss: 30.8025 - mae: 4.1007\n",
            "Epoch 19/100\n",
            "404/404 [==============================] - 1s 1ms/step - loss: 35.0182 - mae: 4.3490\n",
            "Epoch 20/100\n",
            "404/404 [==============================] - 1s 1ms/step - loss: 29.7739 - mae: 4.0169\n",
            "Epoch 21/100\n",
            "404/404 [==============================] - 1s 1ms/step - loss: 23.2890 - mae: 3.6359\n",
            "Epoch 22/100\n",
            "404/404 [==============================] - 1s 1ms/step - loss: 27.4504 - mae: 3.8274\n",
            "Epoch 23/100\n",
            "404/404 [==============================] - 1s 1ms/step - loss: 26.5409 - mae: 3.7794\n",
            "Epoch 24/100\n",
            "404/404 [==============================] - 1s 1ms/step - loss: 22.3134 - mae: 3.5052\n",
            "Epoch 25/100\n",
            "404/404 [==============================] - 1s 2ms/step - loss: 26.0689 - mae: 3.7025\n",
            "Epoch 26/100\n",
            "404/404 [==============================] - 1s 2ms/step - loss: 23.5779 - mae: 3.5286\n",
            "Epoch 27/100\n",
            "404/404 [==============================] - 1s 2ms/step - loss: 21.8981 - mae: 3.4006\n",
            "Epoch 28/100\n",
            "404/404 [==============================] - 1s 2ms/step - loss: 21.0809 - mae: 3.4160\n",
            "Epoch 29/100\n",
            "404/404 [==============================] - 1s 2ms/step - loss: 21.6935 - mae: 3.4428\n",
            "Epoch 30/100\n",
            "404/404 [==============================] - 1s 2ms/step - loss: 21.2766 - mae: 3.3820\n",
            "Epoch 31/100\n",
            "404/404 [==============================] - 1s 1ms/step - loss: 21.0270 - mae: 3.4093\n",
            "Epoch 32/100\n",
            "404/404 [==============================] - 1s 2ms/step - loss: 21.5046 - mae: 3.4969\n",
            "Epoch 33/100\n",
            "404/404 [==============================] - 1s 2ms/step - loss: 19.4909 - mae: 3.2710\n",
            "Epoch 34/100\n",
            "404/404 [==============================] - 1s 2ms/step - loss: 22.1208 - mae: 3.4932\n",
            "Epoch 35/100\n",
            "404/404 [==============================] - 1s 2ms/step - loss: 22.7197 - mae: 3.4603\n",
            "Epoch 36/100\n",
            "404/404 [==============================] - 1s 2ms/step - loss: 19.2664 - mae: 3.2233\n",
            "Epoch 37/100\n",
            "404/404 [==============================] - 1s 2ms/step - loss: 18.6456 - mae: 3.2480\n",
            "Epoch 38/100\n",
            "404/404 [==============================] - 1s 1ms/step - loss: 20.2742 - mae: 3.1185\n",
            "Epoch 39/100\n",
            "404/404 [==============================] - 1s 1ms/step - loss: 19.6413 - mae: 3.2927\n",
            "Epoch 40/100\n",
            "404/404 [==============================] - 1s 1ms/step - loss: 20.2834 - mae: 3.3269\n",
            "Epoch 41/100\n",
            "404/404 [==============================] - 1s 1ms/step - loss: 19.1232 - mae: 3.1213\n",
            "Epoch 42/100\n",
            "404/404 [==============================] - 1s 1ms/step - loss: 18.4579 - mae: 3.0877\n",
            "Epoch 43/100\n",
            "404/404 [==============================] - 1s 1ms/step - loss: 19.3932 - mae: 3.2435\n",
            "Epoch 44/100\n",
            "404/404 [==============================] - 1s 1ms/step - loss: 19.1774 - mae: 3.1403\n",
            "Epoch 45/100\n",
            "404/404 [==============================] - 1s 1ms/step - loss: 17.1854 - mae: 3.0986\n",
            "Epoch 46/100\n",
            "404/404 [==============================] - 1s 1ms/step - loss: 20.1623 - mae: 3.3118\n",
            "Epoch 47/100\n",
            "404/404 [==============================] - 1s 1ms/step - loss: 18.1553 - mae: 3.0541\n",
            "Epoch 48/100\n",
            "404/404 [==============================] - 1s 1ms/step - loss: 16.5523 - mae: 2.9219\n",
            "Epoch 49/100\n",
            "404/404 [==============================] - 1s 1ms/step - loss: 18.3387 - mae: 3.1390\n",
            "Epoch 50/100\n",
            "404/404 [==============================] - 1s 2ms/step - loss: 19.3236 - mae: 3.2564\n",
            "Epoch 51/100\n",
            "404/404 [==============================] - 1s 2ms/step - loss: 19.4674 - mae: 3.1665\n",
            "Epoch 52/100\n",
            "404/404 [==============================] - 1s 1ms/step - loss: 17.4878 - mae: 2.9541\n",
            "Epoch 53/100\n",
            "404/404 [==============================] - 1s 1ms/step - loss: 18.0669 - mae: 3.0505\n",
            "Epoch 54/100\n",
            "404/404 [==============================] - 1s 1ms/step - loss: 17.0682 - mae: 3.0933\n",
            "Epoch 55/100\n",
            "404/404 [==============================] - 1s 2ms/step - loss: 16.9990 - mae: 2.9998\n",
            "Epoch 56/100\n",
            "404/404 [==============================] - 1s 2ms/step - loss: 16.9216 - mae: 3.0094\n",
            "Epoch 57/100\n",
            "404/404 [==============================] - 1s 2ms/step - loss: 17.5714 - mae: 3.0389\n",
            "Epoch 58/100\n",
            "404/404 [==============================] - 1s 1ms/step - loss: 19.1528 - mae: 3.1320\n",
            "Epoch 59/100\n",
            "404/404 [==============================] - 1s 2ms/step - loss: 16.7026 - mae: 3.0283\n",
            "Epoch 60/100\n",
            "404/404 [==============================] - 1s 1ms/step - loss: 17.5623 - mae: 2.9265\n",
            "Epoch 61/100\n",
            "404/404 [==============================] - 1s 2ms/step - loss: 16.5598 - mae: 2.9468\n",
            "Epoch 62/100\n",
            "404/404 [==============================] - 1s 2ms/step - loss: 17.0954 - mae: 2.9946\n",
            "Epoch 63/100\n",
            "404/404 [==============================] - 1s 2ms/step - loss: 15.6943 - mae: 2.8841\n",
            "Epoch 64/100\n",
            "404/404 [==============================] - 1s 2ms/step - loss: 16.0935 - mae: 2.9218\n",
            "Epoch 65/100\n",
            "404/404 [==============================] - 1s 2ms/step - loss: 16.4844 - mae: 2.9957\n",
            "Epoch 66/100\n",
            "404/404 [==============================] - 1s 1ms/step - loss: 14.4730 - mae: 2.8728\n",
            "Epoch 67/100\n",
            "404/404 [==============================] - 1s 2ms/step - loss: 16.8278 - mae: 3.0100\n",
            "Epoch 68/100\n",
            "404/404 [==============================] - 1s 2ms/step - loss: 16.2661 - mae: 3.0482\n",
            "Epoch 69/100\n",
            "404/404 [==============================] - 1s 2ms/step - loss: 16.2881 - mae: 2.9727\n",
            "Epoch 70/100\n",
            "404/404 [==============================] - 1s 2ms/step - loss: 16.7983 - mae: 2.9311\n",
            "Epoch 71/100\n",
            "404/404 [==============================] - 1s 2ms/step - loss: 17.5945 - mae: 3.0555\n",
            "Epoch 72/100\n",
            "404/404 [==============================] - 1s 1ms/step - loss: 16.3169 - mae: 2.8542\n",
            "Epoch 73/100\n",
            "404/404 [==============================] - 1s 1ms/step - loss: 17.5870 - mae: 2.9006\n",
            "Epoch 74/100\n",
            "404/404 [==============================] - 1s 1ms/step - loss: 14.9572 - mae: 2.8261\n",
            "Epoch 75/100\n",
            "404/404 [==============================] - 1s 1ms/step - loss: 15.4112 - mae: 2.8718\n",
            "Epoch 76/100\n",
            "404/404 [==============================] - 1s 1ms/step - loss: 15.6887 - mae: 2.9023\n",
            "Epoch 77/100\n",
            "404/404 [==============================] - 1s 1ms/step - loss: 15.3272 - mae: 2.7993\n",
            "Epoch 78/100\n",
            "404/404 [==============================] - 1s 1ms/step - loss: 14.6609 - mae: 2.8082\n",
            "Epoch 79/100\n",
            "404/404 [==============================] - 1s 1ms/step - loss: 16.7110 - mae: 2.9179\n",
            "Epoch 80/100\n",
            "404/404 [==============================] - 1s 1ms/step - loss: 16.3437 - mae: 2.9419\n",
            "Epoch 81/100\n",
            "404/404 [==============================] - 1s 2ms/step - loss: 14.8730 - mae: 2.7897\n",
            "Epoch 82/100\n",
            "404/404 [==============================] - 1s 1ms/step - loss: 15.1677 - mae: 2.6987\n",
            "Epoch 83/100\n",
            "404/404 [==============================] - 1s 2ms/step - loss: 14.3920 - mae: 2.8310\n",
            "Epoch 84/100\n",
            "404/404 [==============================] - 1s 1ms/step - loss: 16.1778 - mae: 2.9743\n",
            "Epoch 85/100\n",
            "404/404 [==============================] - 1s 2ms/step - loss: 16.2749 - mae: 2.9347\n",
            "Epoch 86/100\n",
            "404/404 [==============================] - 1s 2ms/step - loss: 15.4787 - mae: 2.9450\n",
            "Epoch 87/100\n",
            "404/404 [==============================] - 1s 2ms/step - loss: 14.7790 - mae: 2.7759\n",
            "Epoch 88/100\n",
            "404/404 [==============================] - 1s 2ms/step - loss: 15.5731 - mae: 2.8258\n",
            "Epoch 89/100\n",
            "404/404 [==============================] - 1s 1ms/step - loss: 15.4076 - mae: 2.8502\n",
            "Epoch 90/100\n",
            "404/404 [==============================] - 1s 1ms/step - loss: 14.4840 - mae: 2.8392\n",
            "Epoch 91/100\n",
            "404/404 [==============================] - 1s 1ms/step - loss: 15.2266 - mae: 2.8415\n",
            "Epoch 92/100\n",
            "404/404 [==============================] - 1s 2ms/step - loss: 15.4560 - mae: 2.7728\n",
            "Epoch 93/100\n",
            "404/404 [==============================] - 1s 1ms/step - loss: 15.9883 - mae: 2.8841\n",
            "Epoch 94/100\n",
            "404/404 [==============================] - 1s 2ms/step - loss: 15.1536 - mae: 2.7965\n",
            "Epoch 95/100\n",
            "404/404 [==============================] - 1s 1ms/step - loss: 12.9341 - mae: 2.6099\n",
            "Epoch 96/100\n",
            "404/404 [==============================] - 1s 1ms/step - loss: 14.5035 - mae: 2.7649\n",
            "Epoch 97/100\n",
            "404/404 [==============================] - 1s 1ms/step - loss: 13.6832 - mae: 2.6860\n",
            "Epoch 98/100\n",
            "404/404 [==============================] - 1s 1ms/step - loss: 16.0695 - mae: 2.8861\n",
            "Epoch 99/100\n",
            "404/404 [==============================] - 1s 1ms/step - loss: 15.8534 - mae: 2.8743\n",
            "Epoch 100/100\n",
            "404/404 [==============================] - 1s 1ms/step - loss: 15.3952 - mae: 2.7884\n"
          ],
          "name": "stdout"
        }
      ]
    },
    {
      "cell_type": "code",
      "metadata": {
        "id": "wfz6j3C-W1FG",
        "colab_type": "code",
        "colab": {
          "base_uri": "https://localhost:8080/",
          "height": 262
        },
        "outputId": "a398293f-0288-4989-9390-ab039016dbe8"
      },
      "source": [
        "model.summary()"
      ],
      "execution_count": null,
      "outputs": [
        {
          "output_type": "stream",
          "text": [
            "Model: \"sequential_1\"\n",
            "_________________________________________________________________\n",
            "Layer (type)                 Output Shape              Param #   \n",
            "=================================================================\n",
            "dense_3 (Dense)              (None, 64)                896       \n",
            "_________________________________________________________________\n",
            "dense_4 (Dense)              (None, 64)                4160      \n",
            "_________________________________________________________________\n",
            "dense_5 (Dense)              (None, 1)                 65        \n",
            "=================================================================\n",
            "Total params: 5,121\n",
            "Trainable params: 5,121\n",
            "Non-trainable params: 0\n",
            "_________________________________________________________________\n"
          ],
          "name": "stdout"
        }
      ]
    },
    {
      "cell_type": "code",
      "metadata": {
        "id": "q1ovhAGRcpag",
        "colab_type": "code",
        "colab": {
          "base_uri": "https://localhost:8080/",
          "height": 34
        },
        "outputId": "0a4e2142-443a-435c-bbf3-e224b8b2c925"
      },
      "source": [
        "history.history   #딕셔너리 학습기록 \n",
        "history.history.keys()"
      ],
      "execution_count": null,
      "outputs": [
        {
          "output_type": "execute_result",
          "data": {
            "text/plain": [
              "dict_keys(['loss', 'mae'])"
            ]
          },
          "metadata": {
            "tags": []
          },
          "execution_count": 21
        }
      ]
    },
    {
      "cell_type": "code",
      "metadata": {
        "id": "ZsYgFYlxib97",
        "colab_type": "code",
        "colab": {
          "base_uri": "https://localhost:8080/",
          "height": 52
        },
        "outputId": "445870a3-2a50-4825-ba75-c22ed98413c0"
      },
      "source": [
        "### 평가 \n",
        "model.evaluate(test_data, test_target)"
      ],
      "execution_count": null,
      "outputs": [
        {
          "output_type": "stream",
          "text": [
            "4/4 [==============================] - 0s 2ms/step - loss: 28.7630 - mae: 3.5516\n"
          ],
          "name": "stdout"
        },
        {
          "output_type": "execute_result",
          "data": {
            "text/plain": [
              "[28.76302146911621, 3.551640748977661]"
            ]
          },
          "metadata": {
            "tags": []
          },
          "execution_count": 22
        }
      ]
    },
    {
      "cell_type": "markdown",
      "metadata": {
        "id": "ygmek7-2oO9i",
        "colab_type": "text"
      },
      "source": [
        "#### 성능개선\n"
      ]
    },
    {
      "cell_type": "code",
      "metadata": {
        "id": "isGOUU_kjLyy",
        "colab_type": "code",
        "colab": {}
      },
      "source": [
        "### 스케일조정 \n",
        "from sklearn.preprocessing import StandardScaler\n",
        "\n",
        "s = StandardScaler() \n",
        "X_train = s.fit_transform(train_data)\n",
        "X_test = s.transform(test_data)"
      ],
      "execution_count": null,
      "outputs": []
    },
    {
      "cell_type": "code",
      "metadata": {
        "id": "xqI0c4epovAO",
        "colab_type": "code",
        "colab": {}
      },
      "source": [
        "### 모델링 \n",
        "from keras import models \n",
        "from keras import layers \n",
        "\n",
        "model = models.Sequential() \n",
        "model.add(layers.Dense(64, activation='relu', input_shape=(13,)))\n",
        "model.add(layers.Dense(64, activation='relu'))\n",
        "model.add(layers.Dense(1))    # 회귀 1, activation 함수없음\n",
        "\n",
        "model.compile(loss='mse', optimizer='adam', metrics=['mae'])"
      ],
      "execution_count": null,
      "outputs": []
    },
    {
      "cell_type": "code",
      "metadata": {
        "id": "iUWnDbLmo-jV",
        "colab_type": "code",
        "colab": {
          "base_uri": "https://localhost:8080/",
          "height": 1000
        },
        "outputId": "d976f041-2e65-4de5-ee3d-084ad46ef7a4"
      },
      "source": [
        "history = model.fit(X_train, train_target, epochs=200, batch_size=1, validation_split=0.2)"
      ],
      "execution_count": null,
      "outputs": [
        {
          "output_type": "stream",
          "text": [
            "Epoch 1/200\n",
            "323/323 [==============================] - 1s 2ms/step - loss: 150.8251 - mae: 9.0693 - val_loss: 28.1381 - val_mae: 4.0054\n",
            "Epoch 2/200\n",
            "323/323 [==============================] - 1s 2ms/step - loss: 22.7736 - mae: 3.2698 - val_loss: 19.6531 - val_mae: 3.4915\n",
            "Epoch 3/200\n",
            "323/323 [==============================] - 1s 2ms/step - loss: 17.0704 - mae: 2.8258 - val_loss: 17.7005 - val_mae: 3.1763\n",
            "Epoch 4/200\n",
            "323/323 [==============================] - 1s 2ms/step - loss: 14.7246 - mae: 2.6007 - val_loss: 15.6853 - val_mae: 2.8682\n",
            "Epoch 5/200\n",
            "323/323 [==============================] - 1s 2ms/step - loss: 12.8627 - mae: 2.5534 - val_loss: 15.2014 - val_mae: 3.0682\n",
            "Epoch 6/200\n",
            "323/323 [==============================] - 1s 2ms/step - loss: 11.1862 - mae: 2.3655 - val_loss: 16.7645 - val_mae: 3.1960\n",
            "Epoch 7/200\n",
            "323/323 [==============================] - 1s 2ms/step - loss: 11.7781 - mae: 2.3806 - val_loss: 14.2487 - val_mae: 2.9619\n",
            "Epoch 8/200\n",
            "323/323 [==============================] - 1s 2ms/step - loss: 10.8993 - mae: 2.3559 - val_loss: 13.4556 - val_mae: 2.8863\n",
            "Epoch 9/200\n",
            "323/323 [==============================] - 1s 2ms/step - loss: 10.2266 - mae: 2.2407 - val_loss: 15.0610 - val_mae: 2.9504\n",
            "Epoch 10/200\n",
            "323/323 [==============================] - 1s 2ms/step - loss: 9.6137 - mae: 2.1575 - val_loss: 16.3569 - val_mae: 2.7722\n",
            "Epoch 11/200\n",
            "323/323 [==============================] - 1s 2ms/step - loss: 9.5259 - mae: 2.1246 - val_loss: 13.7690 - val_mae: 2.8181\n",
            "Epoch 12/200\n",
            "323/323 [==============================] - 1s 2ms/step - loss: 8.9213 - mae: 2.0578 - val_loss: 12.8291 - val_mae: 2.5872\n",
            "Epoch 13/200\n",
            "323/323 [==============================] - 1s 2ms/step - loss: 8.6262 - mae: 2.0171 - val_loss: 17.7744 - val_mae: 3.0823\n",
            "Epoch 14/200\n",
            "323/323 [==============================] - 1s 2ms/step - loss: 8.7477 - mae: 2.0691 - val_loss: 13.9938 - val_mae: 2.7378\n",
            "Epoch 15/200\n",
            "323/323 [==============================] - 1s 2ms/step - loss: 8.8850 - mae: 2.0373 - val_loss: 16.3606 - val_mae: 2.8072\n",
            "Epoch 16/200\n",
            "323/323 [==============================] - 1s 2ms/step - loss: 7.5839 - mae: 1.9009 - val_loss: 19.3749 - val_mae: 2.8167\n",
            "Epoch 17/200\n",
            "323/323 [==============================] - 1s 2ms/step - loss: 8.0890 - mae: 2.0227 - val_loss: 20.1794 - val_mae: 2.7892\n",
            "Epoch 18/200\n",
            "323/323 [==============================] - 1s 2ms/step - loss: 8.4297 - mae: 1.9535 - val_loss: 14.5489 - val_mae: 2.7659\n",
            "Epoch 19/200\n",
            "323/323 [==============================] - 1s 2ms/step - loss: 8.0043 - mae: 2.0016 - val_loss: 13.1644 - val_mae: 2.6776\n",
            "Epoch 20/200\n",
            "323/323 [==============================] - 1s 2ms/step - loss: 7.7741 - mae: 1.9457 - val_loss: 14.7470 - val_mae: 2.7304\n",
            "Epoch 21/200\n",
            "323/323 [==============================] - 1s 2ms/step - loss: 7.1352 - mae: 1.8717 - val_loss: 16.6603 - val_mae: 2.6059\n",
            "Epoch 22/200\n",
            "323/323 [==============================] - 1s 2ms/step - loss: 7.0314 - mae: 1.7769 - val_loss: 13.7641 - val_mae: 2.7518\n",
            "Epoch 23/200\n",
            "323/323 [==============================] - 1s 2ms/step - loss: 7.0179 - mae: 1.8373 - val_loss: 18.9960 - val_mae: 2.6933\n",
            "Epoch 24/200\n",
            "323/323 [==============================] - 1s 2ms/step - loss: 7.0551 - mae: 1.8740 - val_loss: 12.7303 - val_mae: 2.5793\n",
            "Epoch 25/200\n",
            "323/323 [==============================] - 1s 2ms/step - loss: 6.9901 - mae: 1.7899 - val_loss: 14.2427 - val_mae: 2.6588\n",
            "Epoch 26/200\n",
            "323/323 [==============================] - 1s 2ms/step - loss: 6.2240 - mae: 1.7510 - val_loss: 17.4660 - val_mae: 2.6262\n",
            "Epoch 27/200\n",
            "323/323 [==============================] - 1s 2ms/step - loss: 6.7178 - mae: 1.8182 - val_loss: 15.8674 - val_mae: 2.6031\n",
            "Epoch 28/200\n",
            "323/323 [==============================] - 1s 2ms/step - loss: 5.7559 - mae: 1.6599 - val_loss: 13.4278 - val_mae: 2.5246\n",
            "Epoch 29/200\n",
            "323/323 [==============================] - 1s 2ms/step - loss: 6.0236 - mae: 1.7028 - val_loss: 16.7892 - val_mae: 2.6435\n",
            "Epoch 30/200\n",
            "323/323 [==============================] - 1s 2ms/step - loss: 5.8483 - mae: 1.6808 - val_loss: 15.0577 - val_mae: 2.6723\n",
            "Epoch 31/200\n",
            "323/323 [==============================] - 1s 2ms/step - loss: 6.1761 - mae: 1.6870 - val_loss: 14.0007 - val_mae: 2.6914\n",
            "Epoch 32/200\n",
            "323/323 [==============================] - 1s 2ms/step - loss: 5.9785 - mae: 1.7374 - val_loss: 18.7255 - val_mae: 2.8769\n",
            "Epoch 33/200\n",
            "323/323 [==============================] - 1s 2ms/step - loss: 5.7035 - mae: 1.6890 - val_loss: 14.1587 - val_mae: 2.5501\n",
            "Epoch 34/200\n",
            "323/323 [==============================] - 1s 2ms/step - loss: 5.6586 - mae: 1.6939 - val_loss: 15.4788 - val_mae: 2.7710\n",
            "Epoch 35/200\n",
            "323/323 [==============================] - 1s 2ms/step - loss: 5.5475 - mae: 1.6622 - val_loss: 16.2935 - val_mae: 2.8315\n",
            "Epoch 36/200\n",
            "323/323 [==============================] - 1s 2ms/step - loss: 5.3952 - mae: 1.5682 - val_loss: 15.1674 - val_mae: 2.7935\n",
            "Epoch 37/200\n",
            "323/323 [==============================] - 1s 2ms/step - loss: 5.2261 - mae: 1.5857 - val_loss: 14.4630 - val_mae: 2.5848\n",
            "Epoch 38/200\n",
            "323/323 [==============================] - 1s 2ms/step - loss: 5.1080 - mae: 1.5446 - val_loss: 18.2947 - val_mae: 2.8627\n",
            "Epoch 39/200\n",
            "323/323 [==============================] - 1s 2ms/step - loss: 5.3955 - mae: 1.6135 - val_loss: 16.5232 - val_mae: 2.6241\n",
            "Epoch 40/200\n",
            "323/323 [==============================] - 1s 2ms/step - loss: 4.9551 - mae: 1.5069 - val_loss: 17.7818 - val_mae: 2.6960\n",
            "Epoch 41/200\n",
            "323/323 [==============================] - 1s 2ms/step - loss: 4.6560 - mae: 1.4951 - val_loss: 15.4899 - val_mae: 2.7246\n",
            "Epoch 42/200\n",
            "323/323 [==============================] - 1s 2ms/step - loss: 4.9130 - mae: 1.5232 - val_loss: 14.9789 - val_mae: 2.6425\n",
            "Epoch 43/200\n",
            "323/323 [==============================] - 1s 2ms/step - loss: 4.7539 - mae: 1.5237 - val_loss: 13.8017 - val_mae: 2.6139\n",
            "Epoch 44/200\n",
            "323/323 [==============================] - 1s 2ms/step - loss: 4.8775 - mae: 1.4955 - val_loss: 16.5413 - val_mae: 2.7075\n",
            "Epoch 45/200\n",
            "323/323 [==============================] - 1s 2ms/step - loss: 4.6586 - mae: 1.5354 - val_loss: 16.7129 - val_mae: 2.8580\n",
            "Epoch 46/200\n",
            "323/323 [==============================] - 1s 2ms/step - loss: 4.7750 - mae: 1.5403 - val_loss: 14.8293 - val_mae: 2.6008\n",
            "Epoch 47/200\n",
            "323/323 [==============================] - 1s 2ms/step - loss: 4.4452 - mae: 1.4563 - val_loss: 15.9818 - val_mae: 2.6311\n",
            "Epoch 48/200\n",
            "323/323 [==============================] - 1s 2ms/step - loss: 4.3435 - mae: 1.4664 - val_loss: 13.5119 - val_mae: 2.3981\n",
            "Epoch 49/200\n",
            "323/323 [==============================] - 1s 2ms/step - loss: 4.2443 - mae: 1.4540 - val_loss: 12.7042 - val_mae: 2.3961\n",
            "Epoch 50/200\n",
            "323/323 [==============================] - 1s 2ms/step - loss: 3.9555 - mae: 1.3912 - val_loss: 16.1296 - val_mae: 2.7302\n",
            "Epoch 51/200\n",
            "323/323 [==============================] - 1s 2ms/step - loss: 4.4293 - mae: 1.5435 - val_loss: 14.1045 - val_mae: 2.5018\n",
            "Epoch 52/200\n",
            "323/323 [==============================] - 1s 2ms/step - loss: 4.5026 - mae: 1.5221 - val_loss: 15.6180 - val_mae: 2.4979\n",
            "Epoch 53/200\n",
            "323/323 [==============================] - 1s 2ms/step - loss: 4.4467 - mae: 1.5168 - val_loss: 15.0533 - val_mae: 2.4303\n",
            "Epoch 54/200\n",
            "323/323 [==============================] - 1s 2ms/step - loss: 4.4881 - mae: 1.4801 - val_loss: 13.2055 - val_mae: 2.4148\n",
            "Epoch 55/200\n",
            "323/323 [==============================] - 1s 2ms/step - loss: 4.1140 - mae: 1.4117 - val_loss: 13.8310 - val_mae: 2.3950\n",
            "Epoch 56/200\n",
            "323/323 [==============================] - 1s 2ms/step - loss: 3.8349 - mae: 1.3661 - val_loss: 13.8301 - val_mae: 2.4866\n",
            "Epoch 57/200\n",
            "323/323 [==============================] - 1s 2ms/step - loss: 3.7728 - mae: 1.3407 - val_loss: 14.2539 - val_mae: 2.3910\n",
            "Epoch 58/200\n",
            "323/323 [==============================] - 1s 2ms/step - loss: 4.1309 - mae: 1.4699 - val_loss: 14.4574 - val_mae: 2.5084\n",
            "Epoch 59/200\n",
            "323/323 [==============================] - 1s 2ms/step - loss: 3.8566 - mae: 1.3995 - val_loss: 13.3872 - val_mae: 2.3885\n",
            "Epoch 60/200\n",
            "323/323 [==============================] - 1s 2ms/step - loss: 3.4092 - mae: 1.3140 - val_loss: 15.0803 - val_mae: 2.7823\n",
            "Epoch 61/200\n",
            "323/323 [==============================] - 1s 2ms/step - loss: 3.8829 - mae: 1.4160 - val_loss: 15.3487 - val_mae: 2.6362\n",
            "Epoch 62/200\n",
            "323/323 [==============================] - 1s 2ms/step - loss: 4.1879 - mae: 1.4897 - val_loss: 15.5441 - val_mae: 2.5241\n",
            "Epoch 63/200\n",
            "323/323 [==============================] - 1s 2ms/step - loss: 3.8159 - mae: 1.3304 - val_loss: 14.7402 - val_mae: 2.6049\n",
            "Epoch 64/200\n",
            "323/323 [==============================] - 1s 2ms/step - loss: 3.4386 - mae: 1.3250 - val_loss: 14.0384 - val_mae: 2.3501\n",
            "Epoch 65/200\n",
            "323/323 [==============================] - 1s 2ms/step - loss: 3.2845 - mae: 1.3196 - val_loss: 13.9397 - val_mae: 2.3717\n",
            "Epoch 66/200\n",
            "323/323 [==============================] - 1s 2ms/step - loss: 3.2310 - mae: 1.3157 - val_loss: 18.0921 - val_mae: 2.8252\n",
            "Epoch 67/200\n",
            "323/323 [==============================] - 1s 2ms/step - loss: 3.9955 - mae: 1.3521 - val_loss: 13.8006 - val_mae: 2.3987\n",
            "Epoch 68/200\n",
            "323/323 [==============================] - 1s 2ms/step - loss: 3.1236 - mae: 1.2721 - val_loss: 14.9468 - val_mae: 2.5290\n",
            "Epoch 69/200\n",
            "323/323 [==============================] - 1s 2ms/step - loss: 3.5858 - mae: 1.3626 - val_loss: 16.3330 - val_mae: 2.8476\n",
            "Epoch 70/200\n",
            "323/323 [==============================] - 1s 2ms/step - loss: 3.3862 - mae: 1.3731 - val_loss: 12.9738 - val_mae: 2.3809\n",
            "Epoch 71/200\n",
            "323/323 [==============================] - 1s 2ms/step - loss: 3.1241 - mae: 1.2246 - val_loss: 12.8312 - val_mae: 2.3541\n",
            "Epoch 72/200\n",
            "323/323 [==============================] - 1s 2ms/step - loss: 3.1226 - mae: 1.3160 - val_loss: 13.6794 - val_mae: 2.3708\n",
            "Epoch 73/200\n",
            "323/323 [==============================] - 1s 2ms/step - loss: 3.4348 - mae: 1.3401 - val_loss: 13.2718 - val_mae: 2.3855\n",
            "Epoch 74/200\n",
            "323/323 [==============================] - 1s 2ms/step - loss: 3.3076 - mae: 1.2964 - val_loss: 11.9263 - val_mae: 2.2904\n",
            "Epoch 75/200\n",
            "323/323 [==============================] - 1s 2ms/step - loss: 2.9807 - mae: 1.2447 - val_loss: 15.2435 - val_mae: 2.5069\n",
            "Epoch 76/200\n",
            "323/323 [==============================] - 1s 2ms/step - loss: 3.5389 - mae: 1.3901 - val_loss: 13.7682 - val_mae: 2.3189\n",
            "Epoch 77/200\n",
            "323/323 [==============================] - 1s 2ms/step - loss: 3.5479 - mae: 1.3042 - val_loss: 13.7030 - val_mae: 2.6053\n",
            "Epoch 78/200\n",
            "323/323 [==============================] - 1s 2ms/step - loss: 3.4974 - mae: 1.3945 - val_loss: 12.3812 - val_mae: 2.2627\n",
            "Epoch 79/200\n",
            "323/323 [==============================] - 1s 2ms/step - loss: 3.1714 - mae: 1.2721 - val_loss: 13.2195 - val_mae: 2.4373\n",
            "Epoch 80/200\n",
            "323/323 [==============================] - 1s 2ms/step - loss: 2.8072 - mae: 1.2010 - val_loss: 13.6391 - val_mae: 2.4954\n",
            "Epoch 81/200\n",
            "323/323 [==============================] - 1s 2ms/step - loss: 3.1374 - mae: 1.2587 - val_loss: 14.0919 - val_mae: 2.7073\n",
            "Epoch 82/200\n",
            "323/323 [==============================] - 1s 2ms/step - loss: 3.3451 - mae: 1.3301 - val_loss: 15.3776 - val_mae: 2.3939\n",
            "Epoch 83/200\n",
            "323/323 [==============================] - 1s 2ms/step - loss: 2.8379 - mae: 1.2122 - val_loss: 14.4518 - val_mae: 2.5417\n",
            "Epoch 84/200\n",
            "323/323 [==============================] - 1s 2ms/step - loss: 3.4734 - mae: 1.3553 - val_loss: 12.3746 - val_mae: 2.3452\n",
            "Epoch 85/200\n",
            "323/323 [==============================] - 1s 2ms/step - loss: 2.9857 - mae: 1.2735 - val_loss: 12.3846 - val_mae: 2.2902\n",
            "Epoch 86/200\n",
            "323/323 [==============================] - 1s 2ms/step - loss: 2.9098 - mae: 1.2843 - val_loss: 15.6722 - val_mae: 2.7379\n",
            "Epoch 87/200\n",
            "323/323 [==============================] - 1s 2ms/step - loss: 2.8125 - mae: 1.2125 - val_loss: 12.9844 - val_mae: 2.2946\n",
            "Epoch 88/200\n",
            "323/323 [==============================] - 1s 2ms/step - loss: 2.7025 - mae: 1.1725 - val_loss: 14.3186 - val_mae: 2.3153\n",
            "Epoch 89/200\n",
            "323/323 [==============================] - 1s 2ms/step - loss: 3.0679 - mae: 1.2732 - val_loss: 11.5998 - val_mae: 2.4636\n",
            "Epoch 90/200\n",
            "323/323 [==============================] - 1s 2ms/step - loss: 3.2592 - mae: 1.3272 - val_loss: 14.8545 - val_mae: 2.6271\n",
            "Epoch 91/200\n",
            "323/323 [==============================] - 1s 2ms/step - loss: 2.9139 - mae: 1.2750 - val_loss: 13.6086 - val_mae: 2.4850\n",
            "Epoch 92/200\n",
            "323/323 [==============================] - 1s 2ms/step - loss: 2.7312 - mae: 1.2276 - val_loss: 13.2494 - val_mae: 2.3557\n",
            "Epoch 93/200\n",
            "323/323 [==============================] - 1s 2ms/step - loss: 2.7589 - mae: 1.1829 - val_loss: 13.3418 - val_mae: 2.5449\n",
            "Epoch 94/200\n",
            "323/323 [==============================] - 1s 2ms/step - loss: 2.7613 - mae: 1.2254 - val_loss: 12.9009 - val_mae: 2.5364\n",
            "Epoch 95/200\n",
            "323/323 [==============================] - 1s 2ms/step - loss: 3.3077 - mae: 1.3614 - val_loss: 12.6672 - val_mae: 2.6397\n",
            "Epoch 96/200\n",
            "323/323 [==============================] - 1s 2ms/step - loss: 2.8114 - mae: 1.1760 - val_loss: 13.6838 - val_mae: 2.5466\n",
            "Epoch 97/200\n",
            "323/323 [==============================] - 1s 2ms/step - loss: 2.5657 - mae: 1.1403 - val_loss: 12.8768 - val_mae: 2.2616\n",
            "Epoch 98/200\n",
            "323/323 [==============================] - 1s 2ms/step - loss: 2.5629 - mae: 1.1474 - val_loss: 13.8556 - val_mae: 2.2910\n",
            "Epoch 99/200\n",
            "323/323 [==============================] - 1s 2ms/step - loss: 2.4844 - mae: 1.1367 - val_loss: 14.1944 - val_mae: 2.3637\n",
            "Epoch 100/200\n",
            "323/323 [==============================] - 1s 2ms/step - loss: 2.4260 - mae: 1.1083 - val_loss: 12.1844 - val_mae: 2.3139\n",
            "Epoch 101/200\n",
            "323/323 [==============================] - 1s 2ms/step - loss: 2.5714 - mae: 1.1218 - val_loss: 13.0074 - val_mae: 2.2863\n",
            "Epoch 102/200\n",
            "323/323 [==============================] - 1s 2ms/step - loss: 2.8339 - mae: 1.2297 - val_loss: 12.3739 - val_mae: 2.3133\n",
            "Epoch 103/200\n",
            "323/323 [==============================] - 1s 2ms/step - loss: 2.7671 - mae: 1.2016 - val_loss: 12.2842 - val_mae: 2.3424\n",
            "Epoch 104/200\n",
            "323/323 [==============================] - 1s 2ms/step - loss: 2.4124 - mae: 1.1621 - val_loss: 17.4749 - val_mae: 2.5344\n",
            "Epoch 105/200\n",
            "323/323 [==============================] - 1s 2ms/step - loss: 2.8377 - mae: 1.1728 - val_loss: 12.1727 - val_mae: 2.3565\n",
            "Epoch 106/200\n",
            "323/323 [==============================] - 1s 2ms/step - loss: 2.3645 - mae: 1.0966 - val_loss: 12.7318 - val_mae: 2.3408\n",
            "Epoch 107/200\n",
            "323/323 [==============================] - 1s 2ms/step - loss: 2.2789 - mae: 1.1066 - val_loss: 12.2254 - val_mae: 2.3119\n",
            "Epoch 108/200\n",
            "323/323 [==============================] - 1s 2ms/step - loss: 2.2151 - mae: 1.1045 - val_loss: 13.2300 - val_mae: 2.4486\n",
            "Epoch 109/200\n",
            "323/323 [==============================] - 1s 2ms/step - loss: 2.7147 - mae: 1.2134 - val_loss: 12.9078 - val_mae: 2.4131\n",
            "Epoch 110/200\n",
            "323/323 [==============================] - 1s 2ms/step - loss: 2.4961 - mae: 1.1161 - val_loss: 12.5034 - val_mae: 2.3628\n",
            "Epoch 111/200\n",
            "323/323 [==============================] - 1s 2ms/step - loss: 2.4340 - mae: 1.1016 - val_loss: 12.9780 - val_mae: 2.4453\n",
            "Epoch 112/200\n",
            "323/323 [==============================] - 1s 2ms/step - loss: 2.3770 - mae: 1.1149 - val_loss: 13.5401 - val_mae: 2.5001\n",
            "Epoch 113/200\n",
            "323/323 [==============================] - 1s 2ms/step - loss: 2.4929 - mae: 1.1018 - val_loss: 14.4787 - val_mae: 2.4194\n",
            "Epoch 114/200\n",
            "323/323 [==============================] - 1s 2ms/step - loss: 2.2876 - mae: 1.0936 - val_loss: 14.3253 - val_mae: 2.4182\n",
            "Epoch 115/200\n",
            "323/323 [==============================] - 1s 2ms/step - loss: 2.2472 - mae: 1.0916 - val_loss: 13.4716 - val_mae: 2.4175\n",
            "Epoch 116/200\n",
            "323/323 [==============================] - 1s 2ms/step - loss: 2.4070 - mae: 1.1402 - val_loss: 13.0846 - val_mae: 2.3802\n",
            "Epoch 117/200\n",
            "323/323 [==============================] - 1s 2ms/step - loss: 2.3094 - mae: 1.1461 - val_loss: 16.0434 - val_mae: 2.5671\n",
            "Epoch 118/200\n",
            "323/323 [==============================] - 1s 2ms/step - loss: 2.2246 - mae: 1.0859 - val_loss: 14.6860 - val_mae: 2.4349\n",
            "Epoch 119/200\n",
            "323/323 [==============================] - 1s 2ms/step - loss: 2.2135 - mae: 1.0617 - val_loss: 18.2663 - val_mae: 2.6888\n",
            "Epoch 120/200\n",
            "323/323 [==============================] - 1s 2ms/step - loss: 2.0141 - mae: 1.0636 - val_loss: 12.6183 - val_mae: 2.5880\n",
            "Epoch 121/200\n",
            "323/323 [==============================] - 1s 2ms/step - loss: 2.3752 - mae: 1.1103 - val_loss: 11.8473 - val_mae: 2.3719\n",
            "Epoch 122/200\n",
            "323/323 [==============================] - 1s 2ms/step - loss: 2.1886 - mae: 1.1020 - val_loss: 14.8833 - val_mae: 2.6347\n",
            "Epoch 123/200\n",
            "323/323 [==============================] - 1s 2ms/step - loss: 2.2260 - mae: 1.1410 - val_loss: 11.2818 - val_mae: 2.2976\n",
            "Epoch 124/200\n",
            "323/323 [==============================] - 1s 2ms/step - loss: 2.3677 - mae: 1.1178 - val_loss: 19.9972 - val_mae: 2.9379\n",
            "Epoch 125/200\n",
            "323/323 [==============================] - 1s 2ms/step - loss: 2.2871 - mae: 1.1182 - val_loss: 13.1826 - val_mae: 2.4946\n",
            "Epoch 126/200\n",
            "323/323 [==============================] - 1s 2ms/step - loss: 1.9160 - mae: 1.0084 - val_loss: 12.0120 - val_mae: 2.3230\n",
            "Epoch 127/200\n",
            "323/323 [==============================] - 1s 2ms/step - loss: 2.1020 - mae: 1.0703 - val_loss: 13.0834 - val_mae: 2.3987\n",
            "Epoch 128/200\n",
            "323/323 [==============================] - 1s 2ms/step - loss: 2.1422 - mae: 1.0431 - val_loss: 15.3794 - val_mae: 2.4842\n",
            "Epoch 129/200\n",
            "323/323 [==============================] - 1s 2ms/step - loss: 1.9912 - mae: 1.0628 - val_loss: 15.3950 - val_mae: 2.4100\n",
            "Epoch 130/200\n",
            "323/323 [==============================] - 1s 2ms/step - loss: 2.2013 - mae: 1.0830 - val_loss: 13.0494 - val_mae: 2.3793\n",
            "Epoch 131/200\n",
            "323/323 [==============================] - 1s 2ms/step - loss: 2.2045 - mae: 1.0554 - val_loss: 15.4069 - val_mae: 2.5971\n",
            "Epoch 132/200\n",
            "323/323 [==============================] - 1s 2ms/step - loss: 1.7432 - mae: 0.9853 - val_loss: 14.9876 - val_mae: 2.5199\n",
            "Epoch 133/200\n",
            "323/323 [==============================] - 1s 2ms/step - loss: 1.8484 - mae: 0.9981 - val_loss: 13.4352 - val_mae: 2.4704\n",
            "Epoch 134/200\n",
            "323/323 [==============================] - 1s 2ms/step - loss: 2.0411 - mae: 1.0299 - val_loss: 12.3514 - val_mae: 2.4924\n",
            "Epoch 135/200\n",
            "323/323 [==============================] - 1s 2ms/step - loss: 1.9849 - mae: 1.0648 - val_loss: 13.9740 - val_mae: 2.3400\n",
            "Epoch 136/200\n",
            "323/323 [==============================] - 1s 2ms/step - loss: 1.8807 - mae: 1.0507 - val_loss: 14.9036 - val_mae: 2.3813\n",
            "Epoch 137/200\n",
            "323/323 [==============================] - 1s 2ms/step - loss: 1.9148 - mae: 1.0661 - val_loss: 13.8502 - val_mae: 2.6218\n",
            "Epoch 138/200\n",
            "323/323 [==============================] - 1s 2ms/step - loss: 1.8497 - mae: 1.0176 - val_loss: 14.4667 - val_mae: 2.4259\n",
            "Epoch 139/200\n",
            "323/323 [==============================] - 1s 2ms/step - loss: 1.9544 - mae: 1.0415 - val_loss: 15.9823 - val_mae: 2.6878\n",
            "Epoch 140/200\n",
            "323/323 [==============================] - 1s 2ms/step - loss: 1.6814 - mae: 0.9506 - val_loss: 12.3118 - val_mae: 2.4944\n",
            "Epoch 141/200\n",
            "323/323 [==============================] - 1s 2ms/step - loss: 2.4679 - mae: 1.1359 - val_loss: 14.3049 - val_mae: 2.4769\n",
            "Epoch 142/200\n",
            "323/323 [==============================] - 1s 2ms/step - loss: 2.0237 - mae: 1.0634 - val_loss: 11.8492 - val_mae: 2.5008\n",
            "Epoch 143/200\n",
            "323/323 [==============================] - 1s 2ms/step - loss: 2.0564 - mae: 1.0721 - val_loss: 11.8030 - val_mae: 2.4384\n",
            "Epoch 144/200\n",
            "323/323 [==============================] - 1s 2ms/step - loss: 1.7245 - mae: 0.9649 - val_loss: 13.2371 - val_mae: 2.5713\n",
            "Epoch 145/200\n",
            "323/323 [==============================] - 1s 2ms/step - loss: 1.8067 - mae: 0.9656 - val_loss: 15.2007 - val_mae: 2.5108\n",
            "Epoch 146/200\n",
            "323/323 [==============================] - 1s 2ms/step - loss: 1.7620 - mae: 0.9660 - val_loss: 12.5167 - val_mae: 2.3335\n",
            "Epoch 147/200\n",
            "323/323 [==============================] - 1s 2ms/step - loss: 2.1661 - mae: 1.0654 - val_loss: 12.9868 - val_mae: 2.3861\n",
            "Epoch 148/200\n",
            "323/323 [==============================] - 1s 2ms/step - loss: 1.7016 - mae: 0.9700 - val_loss: 13.5952 - val_mae: 2.3768\n",
            "Epoch 149/200\n",
            "323/323 [==============================] - 1s 2ms/step - loss: 1.6547 - mae: 0.9639 - val_loss: 14.8010 - val_mae: 2.5875\n",
            "Epoch 150/200\n",
            "323/323 [==============================] - 1s 2ms/step - loss: 2.1473 - mae: 1.0538 - val_loss: 13.4645 - val_mae: 2.3122\n",
            "Epoch 151/200\n",
            "323/323 [==============================] - 1s 2ms/step - loss: 1.6853 - mae: 0.9761 - val_loss: 13.1473 - val_mae: 2.4210\n",
            "Epoch 152/200\n",
            "323/323 [==============================] - 1s 2ms/step - loss: 2.1385 - mae: 1.0506 - val_loss: 13.7546 - val_mae: 2.5044\n",
            "Epoch 153/200\n",
            "323/323 [==============================] - 1s 2ms/step - loss: 1.6022 - mae: 0.9132 - val_loss: 13.9211 - val_mae: 2.5307\n",
            "Epoch 154/200\n",
            "323/323 [==============================] - 1s 2ms/step - loss: 1.5360 - mae: 0.9168 - val_loss: 13.2142 - val_mae: 2.4457\n",
            "Epoch 155/200\n",
            "323/323 [==============================] - 1s 2ms/step - loss: 1.6348 - mae: 0.9534 - val_loss: 11.7208 - val_mae: 2.1760\n",
            "Epoch 156/200\n",
            "323/323 [==============================] - 1s 2ms/step - loss: 1.9270 - mae: 1.0201 - val_loss: 13.2695 - val_mae: 2.4805\n",
            "Epoch 157/200\n",
            "323/323 [==============================] - 1s 2ms/step - loss: 1.9523 - mae: 1.0171 - val_loss: 12.8056 - val_mae: 2.3813\n",
            "Epoch 158/200\n",
            "323/323 [==============================] - 1s 2ms/step - loss: 1.5646 - mae: 0.9274 - val_loss: 12.8539 - val_mae: 2.3650\n",
            "Epoch 159/200\n",
            "323/323 [==============================] - 1s 2ms/step - loss: 1.8794 - mae: 0.9749 - val_loss: 12.4324 - val_mae: 2.3405\n",
            "Epoch 160/200\n",
            "323/323 [==============================] - 1s 2ms/step - loss: 1.6024 - mae: 0.8928 - val_loss: 13.4306 - val_mae: 2.5442\n",
            "Epoch 161/200\n",
            "323/323 [==============================] - 1s 2ms/step - loss: 2.0718 - mae: 1.0485 - val_loss: 14.5840 - val_mae: 2.4870\n",
            "Epoch 162/200\n",
            "323/323 [==============================] - 1s 2ms/step - loss: 1.7641 - mae: 0.9721 - val_loss: 13.9938 - val_mae: 2.5357\n",
            "Epoch 163/200\n",
            "323/323 [==============================] - 1s 2ms/step - loss: 1.3886 - mae: 0.8459 - val_loss: 14.9957 - val_mae: 2.7289\n",
            "Epoch 164/200\n",
            "323/323 [==============================] - 1s 2ms/step - loss: 1.8374 - mae: 1.0181 - val_loss: 13.4181 - val_mae: 2.5421\n",
            "Epoch 165/200\n",
            "323/323 [==============================] - 1s 2ms/step - loss: 1.9181 - mae: 1.0544 - val_loss: 13.5086 - val_mae: 2.5673\n",
            "Epoch 166/200\n",
            "323/323 [==============================] - 1s 2ms/step - loss: 2.3525 - mae: 1.0392 - val_loss: 13.4593 - val_mae: 2.3836\n",
            "Epoch 167/200\n",
            "323/323 [==============================] - 1s 2ms/step - loss: 1.5891 - mae: 0.9663 - val_loss: 14.5953 - val_mae: 2.4080\n",
            "Epoch 168/200\n",
            "323/323 [==============================] - 1s 2ms/step - loss: 1.6726 - mae: 0.9284 - val_loss: 13.5943 - val_mae: 2.5197\n",
            "Epoch 169/200\n",
            "323/323 [==============================] - 1s 2ms/step - loss: 1.3852 - mae: 0.8397 - val_loss: 12.7523 - val_mae: 2.3890\n",
            "Epoch 170/200\n",
            "323/323 [==============================] - 1s 2ms/step - loss: 1.4442 - mae: 0.8828 - val_loss: 14.2204 - val_mae: 2.4357\n",
            "Epoch 171/200\n",
            "323/323 [==============================] - 1s 2ms/step - loss: 1.2387 - mae: 0.8117 - val_loss: 14.4127 - val_mae: 2.5766\n",
            "Epoch 172/200\n",
            "323/323 [==============================] - 1s 2ms/step - loss: 1.6617 - mae: 0.9506 - val_loss: 13.1812 - val_mae: 2.5180\n",
            "Epoch 173/200\n",
            "323/323 [==============================] - 1s 2ms/step - loss: 1.6452 - mae: 0.9432 - val_loss: 13.6118 - val_mae: 2.4042\n",
            "Epoch 174/200\n",
            "323/323 [==============================] - 1s 2ms/step - loss: 1.6481 - mae: 0.9592 - val_loss: 14.0640 - val_mae: 2.4991\n",
            "Epoch 175/200\n",
            "323/323 [==============================] - 1s 2ms/step - loss: 1.4093 - mae: 0.8883 - val_loss: 12.7704 - val_mae: 2.4096\n",
            "Epoch 176/200\n",
            "323/323 [==============================] - 1s 2ms/step - loss: 1.5346 - mae: 0.8993 - val_loss: 13.9707 - val_mae: 2.4240\n",
            "Epoch 177/200\n",
            "323/323 [==============================] - 1s 2ms/step - loss: 1.5000 - mae: 0.8898 - val_loss: 14.3722 - val_mae: 2.5709\n",
            "Epoch 178/200\n",
            "323/323 [==============================] - 1s 2ms/step - loss: 1.4080 - mae: 0.8906 - val_loss: 15.4920 - val_mae: 2.5474\n",
            "Epoch 179/200\n",
            "323/323 [==============================] - 1s 2ms/step - loss: 1.5153 - mae: 0.8927 - val_loss: 15.7977 - val_mae: 2.6409\n",
            "Epoch 180/200\n",
            "323/323 [==============================] - 1s 2ms/step - loss: 1.5540 - mae: 0.9124 - val_loss: 13.5930 - val_mae: 2.4680\n",
            "Epoch 181/200\n",
            "323/323 [==============================] - 1s 2ms/step - loss: 1.6136 - mae: 0.9187 - val_loss: 12.8497 - val_mae: 2.4215\n",
            "Epoch 182/200\n",
            "323/323 [==============================] - 1s 2ms/step - loss: 1.5987 - mae: 0.9724 - val_loss: 12.4199 - val_mae: 2.4126\n",
            "Epoch 183/200\n",
            "323/323 [==============================] - 1s 2ms/step - loss: 1.3943 - mae: 0.8750 - val_loss: 14.0434 - val_mae: 2.5166\n",
            "Epoch 184/200\n",
            "323/323 [==============================] - 1s 2ms/step - loss: 1.5452 - mae: 0.9166 - val_loss: 15.3845 - val_mae: 2.4551\n",
            "Epoch 185/200\n",
            "323/323 [==============================] - 1s 2ms/step - loss: 1.8267 - mae: 0.9638 - val_loss: 13.6699 - val_mae: 2.5373\n",
            "Epoch 186/200\n",
            "323/323 [==============================] - 1s 2ms/step - loss: 1.5269 - mae: 0.8816 - val_loss: 13.2544 - val_mae: 2.5142\n",
            "Epoch 187/200\n",
            "323/323 [==============================] - 1s 2ms/step - loss: 1.1744 - mae: 0.8173 - val_loss: 16.9384 - val_mae: 2.6935\n",
            "Epoch 188/200\n",
            "323/323 [==============================] - 1s 2ms/step - loss: 1.3655 - mae: 0.8646 - val_loss: 13.9239 - val_mae: 2.6203\n",
            "Epoch 189/200\n",
            "323/323 [==============================] - 1s 2ms/step - loss: 1.6503 - mae: 0.9187 - val_loss: 16.8592 - val_mae: 2.6269\n",
            "Epoch 190/200\n",
            "323/323 [==============================] - 1s 2ms/step - loss: 1.5823 - mae: 0.8912 - val_loss: 14.0085 - val_mae: 2.6127\n",
            "Epoch 191/200\n",
            "323/323 [==============================] - 1s 2ms/step - loss: 1.1518 - mae: 0.8003 - val_loss: 14.2785 - val_mae: 2.5666\n",
            "Epoch 192/200\n",
            "323/323 [==============================] - 1s 2ms/step - loss: 1.5458 - mae: 0.9172 - val_loss: 14.8529 - val_mae: 2.6199\n",
            "Epoch 193/200\n",
            "323/323 [==============================] - 1s 2ms/step - loss: 1.7302 - mae: 0.9577 - val_loss: 15.5446 - val_mae: 2.5203\n",
            "Epoch 194/200\n",
            "323/323 [==============================] - 1s 2ms/step - loss: 1.7621 - mae: 0.9613 - val_loss: 13.1782 - val_mae: 2.3934\n",
            "Epoch 195/200\n",
            "323/323 [==============================] - 1s 2ms/step - loss: 1.1505 - mae: 0.7910 - val_loss: 14.5876 - val_mae: 2.5429\n",
            "Epoch 196/200\n",
            "323/323 [==============================] - 1s 2ms/step - loss: 1.3826 - mae: 0.8697 - val_loss: 15.2714 - val_mae: 2.5657\n",
            "Epoch 197/200\n",
            "323/323 [==============================] - 1s 2ms/step - loss: 1.3879 - mae: 0.8525 - val_loss: 13.2353 - val_mae: 2.4980\n",
            "Epoch 198/200\n",
            "323/323 [==============================] - 1s 2ms/step - loss: 1.2823 - mae: 0.8362 - val_loss: 14.0064 - val_mae: 2.7316\n",
            "Epoch 199/200\n",
            "323/323 [==============================] - 1s 2ms/step - loss: 2.0872 - mae: 1.0359 - val_loss: 15.3280 - val_mae: 2.5285\n",
            "Epoch 200/200\n",
            "323/323 [==============================] - 1s 2ms/step - loss: 2.0047 - mae: 1.0043 - val_loss: 15.0093 - val_mae: 2.5087\n"
          ],
          "name": "stdout"
        }
      ]
    },
    {
      "cell_type": "markdown",
      "metadata": {
        "id": "BQdE4cj8rWhx",
        "colab_type": "text"
      },
      "source": [
        "### 시각화"
      ]
    },
    {
      "cell_type": "code",
      "metadata": {
        "id": "67OJ6hPKrVcy",
        "colab_type": "code",
        "colab": {
          "base_uri": "https://localhost:8080/",
          "height": 34
        },
        "outputId": "d92dc3be-6298-4a6b-e067-880e29325b53"
      },
      "source": [
        "import matplotlib.pyplot as plt\n",
        "\n",
        "history.history.keys()"
      ],
      "execution_count": null,
      "outputs": [
        {
          "output_type": "execute_result",
          "data": {
            "text/plain": [
              "dict_keys(['loss', 'mae', 'val_loss', 'val_mae'])"
            ]
          },
          "metadata": {
            "tags": []
          },
          "execution_count": 28
        }
      ]
    },
    {
      "cell_type": "code",
      "metadata": {
        "id": "WB_f3tL8rwI3",
        "colab_type": "code",
        "colab": {}
      },
      "source": [
        "loss = history.history['loss']\n",
        "mae = history.history['mae']\n",
        "val_loss = history.history['val_loss']\n",
        "val_mae = history.history['val_mae']\n",
        "\n",
        "epochs = range(1, len(loss) + 1)   # x축으로 사용될 값"
      ],
      "execution_count": null,
      "outputs": []
    },
    {
      "cell_type": "code",
      "metadata": {
        "id": "HEwTfZf0skD9",
        "colab_type": "code",
        "colab": {
          "base_uri": "https://localhost:8080/",
          "height": 281
        },
        "outputId": "fab1b12a-e2bb-4f15-ea45-754ba260e21b"
      },
      "source": [
        "plt.plot(epochs, loss, 'ro', label='Train loss')\n",
        "plt.plot(epochs, val_loss, label='Validation loss')\n",
        "plt.legend() \n",
        "plt.title('Loss')\n",
        "plt.show()"
      ],
      "execution_count": null,
      "outputs": [
        {
          "output_type": "display_data",
          "data": {
            "image/png": "[encoded data removed]",
            "text/plain": [
              "<Figure size 432x288 with 1 Axes>"
            ]
          },
          "metadata": {
            "tags": [],
            "needs_background": "light"
          }
        }
      ]
    },
    {
      "cell_type": "code",
      "metadata": {
        "id": "KgimubARt0sg",
        "colab_type": "code",
        "colab": {
          "base_uri": "https://localhost:8080/",
          "height": 281
        },
        "outputId": "0930510e-a6d4-451f-e351-b6a143a7f452"
      },
      "source": [
        "plt.plot(epochs, mae, 'ro', label='Train mae')\n",
        "plt.plot(epochs, val_mae, label='Validation mae')\n",
        "plt.legend() \n",
        "plt.title('Mae')\n",
        "plt.show()"
      ],
      "execution_count": null,
      "outputs": [
        {
          "output_type": "display_data",
          "data": {
            "image/png": "[encoded data removed]",
            "text/plain": [
              "<Figure size 432x288 with 1 Axes>"
            ]
          },
          "metadata": {
            "tags": [],
            "needs_background": "light"
          }
        }
      ]
    },
    {
      "cell_type": "code",
      "metadata": {
        "id": "eW8kqRbDuXyD",
        "colab_type": "code",
        "colab": {}
      },
      "source": [
        ""
      ],
      "execution_count": null,
      "outputs": []
    }
  ]
}