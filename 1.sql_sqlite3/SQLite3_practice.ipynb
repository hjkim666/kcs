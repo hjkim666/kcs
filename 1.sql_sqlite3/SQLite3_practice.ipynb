{
 "cells": [
  {
   "cell_type": "markdown",
   "metadata": {},
   "source": [
    "### SQLITE3 사용하기"
   ]
  },
  {
   "cell_type": "code",
   "execution_count": 12,
   "metadata": {},
   "outputs": [
    {
     "data": {
      "text/plain": [
       "'2.6.0'"
      ]
     },
     "execution_count": 12,
     "metadata": {},
     "output_type": "execute_result"
    }
   ],
   "source": [
    "import sqlite3\n",
    "\n",
    "sqlite3.version"
   ]
  },
  {
   "cell_type": "markdown",
   "metadata": {},
   "source": [
    "### < 연습해보기 > \n",
    "한껀식 자동 입력받는 프로그램 만들어보기 \n",
    "\n",
    "- park, 2000, Boston\n",
    "- cho, 2001, New York \n",
    "- lim, 2002, Orange\n",
    "- jang, 2003, Seattle "
   ]
  },
  {
   "cell_type": "code",
   "execution_count": null,
   "metadata": {},
   "outputs": [],
   "source": [
    "while menu != 0: \n",
    "    if menu == 1: \n",
    "        전체조회\n",
    "    elif menu == 2: \n",
    "        입력 \n",
    "    elif menu == 3: \n",
    "        업데이트 \n",
    "    elif menu == 4: \n",
    "        삭제 \n",
    "    elif menu == 5: \n",
    "        특정 아이디 조회\n",
    "    else: \n",
    "        끝 "
   ]
  },
  {
   "cell_type": "code",
   "execution_count": 15,
   "metadata": {},
   "outputs": [],
   "source": [
    "import sqlite3\n",
    "conn = sqlite3.connect('test.db')\n",
    "cur = conn.cursor()"
   ]
  },
  {
   "cell_type": "code",
   "execution_count": 23,
   "metadata": {},
   "outputs": [],
   "source": [
    "def insert_person(name='park', hakbun=1234, address='Boston'):\n",
    "    cur.execute(\"INSERT INTO person(name, hakbun, address)  \\\n",
    "                    VALUES (?, ?, ?)\", (name, hakbun, address))\n",
    "    conn.commit()  "
   ]
  },
  {
   "cell_type": "code",
   "execution_count": 24,
   "metadata": {},
   "outputs": [],
   "source": [
    "def delete_person(id):\n",
    "    cur.execute(\"DELETE FROM person WHERE id = ?\",id)\n",
    "    conn.commit()"
   ]
  },
  {
   "cell_type": "code",
   "execution_count": 25,
   "metadata": {},
   "outputs": [],
   "source": [
    "def update_person(id, address):\n",
    "    cur.execute(\"UPDATE person SET address=? WHERE id = ?\", (address, id))\n",
    "    conn.commit()"
   ]
  },
  {
   "cell_type": "code",
   "execution_count": 26,
   "metadata": {},
   "outputs": [],
   "source": [
    "def select_all():\n",
    "    cur.execute(\"select * from person\")\n",
    "    rows = cur.fetchall() \n",
    "    return rows"
   ]
  },
  {
   "cell_type": "code",
   "execution_count": 27,
   "metadata": {},
   "outputs": [],
   "source": [
    "def select_one(id):\n",
    "    cur.execute(\"select * from person where id=?\", id)\n",
    "    rows = cur.fetchall() \n",
    "    return rows"
   ]
  },
  {
   "cell_type": "code",
   "execution_count": 31,
   "metadata": {},
   "outputs": [
    {
     "name": "stdout",
     "output_type": "stream",
     "text": [
      "메뉴를 입력하세요[0:끝내기,1:전체조회,2:입력,3:업데이트,4:삭제,5:특정아이디조회]1\n",
      "[(1, 'kim', 1234, 'seoul'), (2, 'park', 2000, ' Boston'), (3, 'park', 2000, ' Boston'), (4, '1', 1234, 'Boston')]\n",
      "메뉴를 입력하세요[0:끝내기,1:전체조회,2:입력,3:업데이트,4:삭제,5:특정아이디조회]4\n",
      "삭제할 id을 입력하세요:4\n",
      "메뉴를 입력하세요[0:끝내기,1:전체조회,2:입력,3:업데이트,4:삭제,5:특정아이디조회]1\n",
      "[(1, 'kim', 1234, 'seoul'), (2, 'park', 2000, ' Boston'), (3, 'park', 2000, ' Boston')]\n",
      "메뉴를 입력하세요[0:끝내기,1:전체조회,2:입력,3:업데이트,4:삭제,5:특정아이디조회]3\n",
      "변경할 id, address 순으로 입력하세요(컴마로 구분):3, Seoul\n",
      "메뉴를 입력하세요[0:끝내기,1:전체조회,2:입력,3:업데이트,4:삭제,5:특정아이디조회]5\n",
      "조회할 id을 입력하세요:4\n",
      "메뉴를 입력하세요[0:끝내기,1:전체조회,2:입력,3:업데이트,4:삭제,5:특정아이디조회]5\n",
      "조회할 id을 입력하세요:3\n",
      "메뉴를 입력하세요[0:끝내기,1:전체조회,2:입력,3:업데이트,4:삭제,5:특정아이디조회]1\n",
      "[(1, 'kim', 1234, 'seoul'), (2, 'park', 2000, ' Boston'), (3, 'park', 2000, ' Seoul')]\n",
      "메뉴를 입력하세요[0:끝내기,1:전체조회,2:입력,3:업데이트,4:삭제,5:특정아이디조회]1\n",
      "[(1, 'kim', 1234, 'seoul'), (2, 'park', 2000, ' Boston'), (3, 'park', 2000, ' Seoul')]\n",
      "메뉴를 입력하세요[0:끝내기,1:전체조회,2:입력,3:업데이트,4:삭제,5:특정아이디조회]0\n"
     ]
    }
   ],
   "source": [
    "menu = 9\n",
    "\n",
    "while menu != 0: \n",
    "    menu = int(input('메뉴를 입력하세요[0:끝내기,1:전체조회,2:입력,3:업데이트,4:삭제,5:특정아이디조회]'))\n",
    "    if menu == 1: \n",
    "        print(select_all())\n",
    "    elif menu == 2:\n",
    "        s = input('입력할 데이터를 name, hakbun, address 순으로 입력하세요(컴마로 구분):')\n",
    "        insert_person(*s.split(',')) \n",
    "    elif menu == 3: \n",
    "        u = input('변경할 id, address 순으로 입력하세요(컴마로 구분):')\n",
    "        update_person(*u.split(','))\n",
    "        #업데이트 \n",
    "    elif menu == 4: \n",
    "        d = input('삭제할 id을 입력하세요:')\n",
    "        delete_person(d)\n",
    "    elif menu == 5:\n",
    "        sid = input('조회할 id을 입력하세요:')                  \n",
    "        print(select_one(sid))\n",
    "        #특정 아이디 조회\n",
    "    else: \n",
    "        break"
   ]
  },
  {
   "cell_type": "code",
   "execution_count": null,
   "metadata": {},
   "outputs": [],
   "source": []
  }
 ],
 "metadata": {
  "kernelspec": {
   "display_name": "Python 3",
   "language": "python",
   "name": "python3"
  },
  "language_info": {
   "codemirror_mode": {
    "name": "ipython",
    "version": 3
   },
   "file_extension": ".py",
   "mimetype": "text/x-python",
   "name": "python",
   "nbconvert_exporter": "python",
   "pygments_lexer": "ipython3",
   "version": "3.8.3"
  }
 },
 "nbformat": 4,
 "nbformat_minor": 4
}
