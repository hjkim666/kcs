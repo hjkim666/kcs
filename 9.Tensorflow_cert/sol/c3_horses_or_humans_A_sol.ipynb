{
 "cells": [
  {
   "cell_type": "code",
   "execution_count": null,
   "metadata": {
    "colab": {
     "base_uri": "https://localhost:8080/"
    },
    "executionInfo": {
     "elapsed": 93055,
     "status": "ok",
     "timestamp": 1608819925349,
     "user": {
      "displayName": "hj Kim",
      "photoUrl": "",
      "userId": "02263672027550517756"
     },
     "user_tz": -540
    },
    "id": "mu7pxlNfX5PZ",
    "outputId": "3393fd5f-04e6-4c65-d256-1aa6f747fb8f",
    "scrolled": true
   },
   "outputs": [
    {
     "name": "stdout",
     "output_type": "stream",
     "text": [
      "Epoch 1/10\n",
      "26/26 [==============================] - ETA: 0s - loss: 0.5830 - acc: 0.6557\n",
      "Epoch 00001: val_loss improved from inf to 0.20818, saving model to my_checkpoint1.ckpt\n",
      "26/26 [==============================] - 46s 2s/step - loss: 0.5830 - acc: 0.6557 - val_loss: 0.2082 - val_acc: 0.9220\n",
      "Epoch 2/10\n",
      "26/26 [==============================] - ETA: 0s - loss: 0.2099 - acc: 0.9307\n",
      "Epoch 00002: val_loss improved from 0.20818 to 0.08003, saving model to my_checkpoint1.ckpt\n",
      "26/26 [==============================] - 48s 2s/step - loss: 0.2099 - acc: 0.9307 - val_loss: 0.0800 - val_acc: 0.9707\n",
      "Epoch 3/10\n",
      "26/26 [==============================] - ETA: 0s - loss: 0.1717 - acc: 0.9428\n",
      "Epoch 00003: val_loss did not improve from 0.08003\n",
      "26/26 [==============================] - 46s 2s/step - loss: 0.1717 - acc: 0.9428 - val_loss: 0.1470 - val_acc: 0.9317\n",
      "Epoch 4/10\n",
      "26/26 [==============================] - ETA: 0s - loss: 0.0445 - acc: 0.9866\n",
      "Epoch 00004: val_loss improved from 0.08003 to 0.01528, saving model to my_checkpoint1.ckpt\n",
      "26/26 [==============================] - 47s 2s/step - loss: 0.0445 - acc: 0.9866 - val_loss: 0.0153 - val_acc: 0.9951\n",
      "Epoch 5/10\n",
      "26/26 [==============================] - ETA: 0s - loss: 0.0078 - acc: 0.9988\n",
      "Epoch 00005: val_loss did not improve from 0.01528\n",
      "26/26 [==============================] - 48s 2s/step - loss: 0.0078 - acc: 0.9988 - val_loss: 0.0154 - val_acc: 0.9951\n",
      "Epoch 6/10\n",
      "26/26 [==============================] - ETA: 0s - loss: 0.0029 - acc: 1.0000\n",
      "Epoch 00006: val_loss improved from 0.01528 to 0.00637, saving model to my_checkpoint1.ckpt\n",
      "26/26 [==============================] - 49s 2s/step - loss: 0.0029 - acc: 1.0000 - val_loss: 0.0064 - val_acc: 0.9951\n",
      "Epoch 7/10\n",
      "26/26 [==============================] - ETA: 0s - loss: 4.9446e-04 - acc: 1.0000\n",
      "Epoch 00007: val_loss did not improve from 0.00637\n",
      "26/26 [==============================] - 46s 2s/step - loss: 4.9446e-04 - acc: 1.0000 - val_loss: 0.0097 - val_acc: 0.9951\n",
      "Epoch 8/10\n",
      "26/26 [==============================] - ETA: 0s - loss: 1.4434e-04 - acc: 1.0000\n",
      "Epoch 00008: val_loss improved from 0.00637 to 0.00367, saving model to my_checkpoint1.ckpt\n",
      "26/26 [==============================] - 48s 2s/step - loss: 1.4434e-04 - acc: 1.0000 - val_loss: 0.0037 - val_acc: 0.9951\n",
      "Epoch 9/10\n",
      "26/26 [==============================] - ETA: 0s - loss: 7.7234e-05 - acc: 1.0000\n",
      "Epoch 00009: val_loss did not improve from 0.00367\n",
      "26/26 [==============================] - 46s 2s/step - loss: 7.7234e-05 - acc: 1.0000 - val_loss: 0.0042 - val_acc: 0.9951\n",
      "Epoch 10/10\n",
      "10/26 [==========>...................] - ETA: 25s - loss: 6.1258e-05 - acc: 1.0000"
     ]
    }
   ],
   "source": [
    "# ======================================================================\n",
    "# There are 5 questions in this test with increasing difficulty from 1-5\n",
    "# Please note that the weight of the grade for the question is relative\n",
    "# to its difficulty. So your Category 1 question will score much less\n",
    "# than your Category 5 question.\n",
    "# ======================================================================\n",
    "#\n",
    "# Computer Vision with CNNs\n",
    "#\n",
    "# This task requires you to create a classifier for horses or humans using\n",
    "# the provided dataset. \n",
    "#\n",
    "# Please make sure your final layer has 2 neurons, activated by softmax \n",
    "# as shown. Do not change the provided output layer, or tests may fail.\n",
    "#\n",
    "# IMPORTANT: Please note that the test uses images that are 300x300 with \n",
    "# 3 bytes color depth so be sure to design your input layer to accept\n",
    "# these, or the tests will fail.\n",
    "#\n",
    "\n",
    "import tensorflow_datasets as tfds\n",
    "import tensorflow as tf\n",
    "from tensorflow.keras.models import Sequential\n",
    "from tensorflow.keras.callbacks import ModelCheckpoint\n",
    "\n",
    "dataset_name = 'horses_or_humans'\n",
    "# dataset, info = tfds.load(name=dataset_name, split=tfds.Split.TRAIN, with_info=True)  #error\n",
    "dataset_t = tfds.load(name=dataset_name, split='train[:80%]')  #error\n",
    "dataset_v = tfds.load(name=dataset_name, split='train[80%:]')  #error\n",
    "\n",
    "def preprocess(data):\n",
    "    # YOUR CODE HERE\n",
    "    x = data['image']\n",
    "    y = data['label']\n",
    "    x = tf.cast(x, tf.float32) / 255. \n",
    "    x = tf.image.resize(x, size=(300,300))\n",
    "    return x, y\n",
    "\n",
    "\n",
    "def solution_model():\n",
    "    train_dataset = dataset_t.map(preprocess).batch(32)\n",
    "    valid_dataset = dataset_v.map(preprocess).batch(32)\n",
    "    \n",
    "    model = Sequential([\n",
    "        tf.keras.layers.Conv2D(64,(3,3), input_shape=(300,300,3), activation='relu'), \n",
    "        tf.keras.layers.MaxPool2D(2,2),\n",
    "        tf.keras.layers.Conv2D(64,(3,3), activation='relu'),\n",
    "        tf.keras.layers.MaxPool2D(2,2),\n",
    "        tf.keras.layers.Conv2D(128,(3,3), activation='relu'),\n",
    "        tf.keras.layers.MaxPool2D(2,2),\n",
    "        tf.keras.layers.Conv2D(128,(3,3), activation='relu'),\n",
    "        tf.keras.layers.MaxPool2D(2,2),\n",
    "        tf.keras.layers.Flatten(),\n",
    "        tf.keras.layers.Dense(256, activation='relu'),\n",
    "        tf.keras.layers.Dense(128, activation='relu'),\n",
    "    # YOUR CODE HERE, BUT MAKE SURE YOUR LAST LAYER HAS 2 NEURONS ACTIVATED BY SOFTMAX\n",
    "        tf.keras.layers.Dense(2, activation='softmax')\n",
    "    ])\n",
    "    \n",
    "    model.compile(loss='sparse_categorical_crossentropy', optimizer='adam',\n",
    "                 metrics=['acc'])\n",
    "    checkpoint_path = 'my_checkpoint1.ckpt'\n",
    "    checkpoint = ModelCheckpoint(filepath=checkpoint_path, save_weights_only=True, save_best_only=True, \n",
    "                                monitor='val_loss', verbose=1)\n",
    "    model.fit(train_dataset, validation_data=(valid_dataset), epochs=10, callbacks=[checkpoint])\n",
    "    model.load_weights(checkpoint_path)\n",
    "    return model\n",
    "\n",
    "\n",
    "# Note that you'll need to save your model as a .h5 like this\n",
    "# This .h5 will be uploaded to the testing infrastructure\n",
    "# and a score will be returned to you\n",
    "if __name__ == '__main__':\n",
    "    model = solution_model()\n",
    "    model.save(\"cat3_horses_or_humans(typeA)_model1.h5\")\n"
   ]
  },
  {
   "cell_type": "code",
   "execution_count": null,
   "metadata": {
    "id": "mx0fiWjVHxw5"
   },
   "outputs": [],
   "source": []
  }
 ],
 "metadata": {
  "accelerator": "GPU",
  "colab": {
   "collapsed_sections": [],
   "name": "TF3_horses_or_humans_type_A_(문제).ipynb",
   "provenance": []
  },
  "kernelspec": {
   "display_name": "Python 3",
   "language": "python",
   "name": "python3"
  },
  "language_info": {
   "codemirror_mode": {
    "name": "ipython",
    "version": 3
   },
   "file_extension": ".py",
   "mimetype": "text/x-python",
   "name": "python",
   "nbconvert_exporter": "python",
   "pygments_lexer": "ipython3",
   "version": "3.8.5"
  }
 },
 "nbformat": 4,
 "nbformat_minor": 1
}
