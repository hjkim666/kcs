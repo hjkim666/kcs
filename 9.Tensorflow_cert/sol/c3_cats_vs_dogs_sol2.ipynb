{
 "cells": [
  {
   "cell_type": "code",
   "execution_count": null,
   "metadata": {
    "colab": {
     "base_uri": "https://localhost:8080/"
    },
    "executionInfo": {
     "elapsed": 1051777,
     "status": "ok",
     "timestamp": 1608867036847,
     "user": {
      "displayName": "hj Kim",
      "photoUrl": "",
      "userId": "02263672027550517756"
     },
     "user_tz": -540
    },
    "id": "jayt55jOdtfX",
    "outputId": "f755d5ed-cfce-48c8-ea23-d70654e27bf0"
   },
   "outputs": [
    {
     "name": "stdout",
     "output_type": "stream",
     "text": [
      "Epoch 1/20\n",
      " 29/582 [>.............................] - ETA: 15:28 - loss: 2.8178 - acc: 0.5733"
     ]
    }
   ],
   "source": [
    "# ======================================================================\n",
    "# There are 5 questions in this test with increasing difficulty from 1-5\n",
    "# Please note that the weight of the grade for the question is relative\n",
    "# to its difficulty. So your Category 1 question will score much less\n",
    "# than your Category 5 question.\n",
    "# ======================================================================\n",
    "#\n",
    "# Computer Vision with CNNs\n",
    "#\n",
    "# For this exercise you will build a cats v dogs classifier\n",
    "# using the Cats v Dogs dataset from TFDS.\n",
    "# Be sure to use the final layer as shown \n",
    "#     (Dense, 2 neurons, softmax activation)\n",
    "#\n",
    "# The testing infrastructre will resize all images to 224x224 \n",
    "# with 3 bytes of color depth. Make sure your input layer trains\n",
    "# images to that specification, or the tests will fail.\n",
    "#\n",
    "# Make sure your output layer is exactly as specified here, or the \n",
    "# tests will fail.\n",
    "\n",
    "import tensorflow_datasets as tfds\n",
    "import tensorflow as tf\n",
    "from tensorflow.keras.models import Sequential\n",
    "from tensorflow.keras.callbacks import ModelCheckpoint\n",
    "from tensorflow.keras.applications import VGG16\n",
    "\n",
    "dataset_name = 'cats_vs_dogs'\n",
    "# dataset = tfds.load(name=dataset_name, split=tfds.Split.TRAIN)\n",
    "dataset_t = tfds.load(name=dataset_name, split='train[:80%]')\n",
    "dataset_v = tfds.load(name=dataset_name, split='train[80%:]')\n",
    "\n",
    "def preprocess(data):\n",
    "    # YOUR CODE HERE\n",
    "    x = data['image']\n",
    "    y = data['label']\n",
    "    x = tf.cast(x,tf.float32) / 255.0\n",
    "    x = tf.image.resize(x, size=(224,224))\n",
    "    return x, y\n",
    "\n",
    "def solution_model():\n",
    "    train_dataset = dataset_t.map(preprocess).batch(32)\n",
    "    valid_dataset = dataset_v.map(preprocess).batch(32)\n",
    "    \n",
    "    conv_base = VGG16(weights='imagenet', include_top=False, input_shape=(224,224,3))\n",
    "    conv_base.trainable = False\n",
    "    \n",
    "    model = Sequential([\n",
    "        conv_base, \n",
    "        tf.keras.layers.Flatten(),\n",
    "        tf.keras.layers.Dropout(0.5),\n",
    "        tf.keras.layers.Dense(512, activation='relu'),\n",
    "        tf.keras.layers.Dense(128, activation='relu'),\n",
    "        # YOUR CODE HERE, BUT MAKE SURE YOUR LAST LAYER HAS 2 NEURONS ACTIVATED BY SOFTMAX\n",
    "        tf.keras.layers.Dense(2, activation='softmax')\n",
    "    ])\n",
    "    \n",
    "    model.compile(loss='sparse_categorical_crossentropy', optimizer='rmsprop', \n",
    "                 metrics=['acc'])\n",
    "    checkpoint_path = \"my_checkpoint.ckpt\"\n",
    "    checkpoint = ModelCheckpoint(filepath= checkpoint_path, save_weights_only=True,\n",
    "                                save_best_only=True, monitor='val_loss', verbose=1)\n",
    "    model.fit(train_dataset, validation_data=(valid_dataset), epochs=20\n",
    "             ,callbacks=[checkpoint])\n",
    "    \n",
    "    model.load_weights(checkpoint_path)\n",
    "    \n",
    "    return model\n",
    "\n",
    "\n",
    "# Note that you'll need to save your model as a .h5 like this\n",
    "# This .h5 will be uploaded to the testing infrastructure\n",
    "# and a score will be returned to you\n",
    "if __name__ == '__main__':\n",
    "    model = solution_model()\n",
    "    model.save(\"cat3_catsdogs2_vgg.h5\")\n"
   ]
  },
  {
   "cell_type": "code",
   "execution_count": null,
   "metadata": {
    "id": "HWIJD79x_ysU"
   },
   "outputs": [],
   "source": []
  }
 ],
 "metadata": {
  "accelerator": "GPU",
  "colab": {
   "collapsed_sections": [],
   "name": "TF3_cats_vs_dogs_(문제).ipynb",
   "provenance": []
  },
  "kernelspec": {
   "display_name": "Python 3",
   "language": "python",
   "name": "python3"
  },
  "language_info": {
   "codemirror_mode": {
    "name": "ipython",
    "version": 3
   },
   "file_extension": ".py",
   "mimetype": "text/x-python",
   "name": "python",
   "nbconvert_exporter": "python",
   "pygments_lexer": "ipython3",
   "version": "3.8.5"
  }
 },
 "nbformat": 4,
 "nbformat_minor": 1
}
