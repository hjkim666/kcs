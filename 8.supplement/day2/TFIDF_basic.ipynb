{
 "cells": [
  {
   "cell_type": "markdown",
   "metadata": {},
   "source": [
    "### Core python 사용 TF-IDF"
   ]
  },
  {
   "cell_type": "code",
   "execution_count": 11,
   "metadata": {},
   "outputs": [],
   "source": [
    "import numpy as np \n",
    "\n",
    "def tfidf(t, d, D):\n",
    "    tf = float(d.count(t)) / sum(d.count(w) for w in set(d))\n",
    "    idf = np.log(float(len(D)) /(len([doc for doc in D if t in doc]))) \n",
    "    return tf, idf "
   ]
  },
  {
   "cell_type": "code",
   "execution_count": 12,
   "metadata": {},
   "outputs": [],
   "source": [
    "a = ['a']\n",
    "abb = ['a','b','b']\n",
    "abc = ['a','b','c']\n",
    "D = [a, abb, abc]"
   ]
  },
  {
   "cell_type": "code",
   "execution_count": 13,
   "metadata": {},
   "outputs": [
    {
     "name": "stdout",
     "output_type": "stream",
     "text": [
      "(1.0, 0.0)\n",
      "(0.6666666666666666, 0.4054651081081644)\n",
      "(0.3333333333333333, 0.0)\n",
      "(0.3333333333333333, 0.4054651081081644)\n",
      "(0.3333333333333333, 1.0986122886681098)\n"
     ]
    }
   ],
   "source": [
    "print(tfidf('a', a, D))\n",
    "print(tfidf('b', abb, D))\n",
    "print(tfidf('a', abc, D))\n",
    "print(tfidf('b', abc, D))\n",
    "print(tfidf('c', abc, D))\n"
   ]
  },
  {
   "cell_type": "markdown",
   "metadata": {},
   "source": [
    "### Scikit-learn 을 이용하는 방법 "
   ]
  },
  {
   "cell_type": "code",
   "execution_count": 10,
   "metadata": {},
   "outputs": [],
   "source": [
    "contents = ['고양이랑 놀러가고 싶지만 바쁜데 어떻하죠?',\n",
    "                   '고양이는 공원에서 산책하고 노는 것을 싫어해요',\n",
    "                   '고양이는 공원에서 노는 것도 싫어해요.',\n",
    "                   '먼 곳으로 여행을 떠나고 싶은데 너무 바빠서 못가고 있어요.']"
   ]
  },
  {
   "cell_type": "code",
   "execution_count": 11,
   "metadata": {},
   "outputs": [
    {
     "data": {
      "text/plain": [
       "array([[0.        , 0.        , 0.        , 0.4472136 , 0.        ,\n",
       "        0.        , 0.        , 0.        , 0.        , 0.4472136 ,\n",
       "        0.        , 0.        , 0.        , 0.4472136 , 0.        ,\n",
       "        0.        , 0.        , 0.4472136 , 0.4472136 , 0.        ,\n",
       "        0.        ],\n",
       "       [0.        , 0.47212003, 0.37222485, 0.        , 0.        ,\n",
       "        0.37222485, 0.        , 0.        , 0.37222485, 0.        ,\n",
       "        0.        , 0.        , 0.        , 0.        , 0.47212003,\n",
       "        0.37222485, 0.        , 0.        , 0.        , 0.        ,\n",
       "        0.        ],\n",
       "       [0.53556627, 0.        , 0.4222466 , 0.        , 0.        ,\n",
       "        0.4222466 , 0.        , 0.        , 0.4222466 , 0.        ,\n",
       "        0.        , 0.        , 0.        , 0.        , 0.        ,\n",
       "        0.4222466 , 0.        , 0.        , 0.        , 0.        ,\n",
       "        0.        ],\n",
       "       [0.        , 0.        , 0.        , 0.        , 0.33333333,\n",
       "        0.        , 0.33333333, 0.33333333, 0.        , 0.        ,\n",
       "        0.33333333, 0.33333333, 0.33333333, 0.        , 0.        ,\n",
       "        0.        , 0.33333333, 0.        , 0.        , 0.33333333,\n",
       "        0.33333333]])"
      ]
     },
     "execution_count": 11,
     "metadata": {},
     "output_type": "execute_result"
    }
   ],
   "source": [
    "from sklearn.feature_extraction.text import TfidfVectorizer\n",
    "vectorizer = TfidfVectorizer(min_df=1, decode_error='ignore')\n",
    "tfidf_matrix = vectorizer.fit_transform(contents)\n",
    "tfidf_matrix.toarray()"
   ]
  },
  {
   "cell_type": "code",
   "execution_count": 12,
   "metadata": {
    "collapsed": true
   },
   "outputs": [
    {
     "data": {
      "text/plain": [
       "{'고양이랑': 3,\n",
       " '놀러가고': 9,\n",
       " '싶지만': 17,\n",
       " '바쁜데': 13,\n",
       " '어떻하죠': 18,\n",
       " '고양이는': 2,\n",
       " '공원에서': 5,\n",
       " '산책하고': 14,\n",
       " '노는': 8,\n",
       " '것을': 1,\n",
       " '싫어해요': 15,\n",
       " '것도': 0,\n",
       " '곳으로': 4,\n",
       " '여행을': 19,\n",
       " '떠나고': 10,\n",
       " '싶은데': 16,\n",
       " '너무': 7,\n",
       " '바빠서': 12,\n",
       " '그러질': 6,\n",
       " '못하고': 11,\n",
       " '있어요': 20}"
      ]
     },
     "execution_count": 12,
     "metadata": {},
     "output_type": "execute_result"
    }
   ],
   "source": [
    "vectorizer.vocabulary_"
   ]
  }
 ],
 "metadata": {
  "kernelspec": {
   "display_name": "Python 3",
   "language": "python",
   "name": "python3"
  },
  "language_info": {
   "codemirror_mode": {
    "name": "ipython",
    "version": 3
   },
   "file_extension": ".py",
   "mimetype": "text/x-python",
   "name": "python",
   "nbconvert_exporter": "python",
   "pygments_lexer": "ipython3",
   "version": "3.8.5"
  }
 },
 "nbformat": 4,
 "nbformat_minor": 2
}
