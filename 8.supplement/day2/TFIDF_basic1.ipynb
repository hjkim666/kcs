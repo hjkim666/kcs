{
 "cells": [
  {
   "cell_type": "markdown",
   "metadata": {},
   "source": [
    "### Scikit-learn 을 이용하는 방법 "
   ]
  },
  {
   "cell_type": "code",
   "execution_count": 1,
   "metadata": {},
   "outputs": [],
   "source": [
    "from sklearn.feature_extraction.text import TfidfVectorizer"
   ]
  },
  {
   "cell_type": "code",
   "execution_count": 2,
   "metadata": {},
   "outputs": [],
   "source": [
    "contents = ['고양이랑 같이 놀러가고 싶지만 바빠서 시간이 안되요.',\n",
    "            '고양이는 동네에서 산책하고 노는 것을 싫어해요',\n",
    "            '고양이는 동네에서 노는 것도 싫어해요.',\n",
    "            '여행을 떠나고 싶은데 너무 바빠서 못가고 있어요.']"
   ]
  },
  {
   "cell_type": "code",
   "execution_count": 3,
   "metadata": {},
   "outputs": [
    {
     "data": {
      "text/plain": [
       "array([[0.38861429, 0.        , 0.        , 0.        , 0.38861429,\n",
       "        0.        , 0.        , 0.38861429, 0.        , 0.        ,\n",
       "        0.        , 0.30638797, 0.        , 0.38861429, 0.        ,\n",
       "        0.        , 0.38861429, 0.38861429, 0.        , 0.        ],\n",
       "       [0.        , 0.        , 0.47212003, 0.37222485, 0.        ,\n",
       "        0.        , 0.37222485, 0.        , 0.37222485, 0.        ,\n",
       "        0.        , 0.        , 0.47212003, 0.        , 0.37222485,\n",
       "        0.        , 0.        , 0.        , 0.        , 0.        ],\n",
       "       [0.        , 0.53556627, 0.        , 0.4222466 , 0.        ,\n",
       "        0.        , 0.4222466 , 0.        , 0.4222466 , 0.        ,\n",
       "        0.        , 0.        , 0.        , 0.        , 0.4222466 ,\n",
       "        0.        , 0.        , 0.        , 0.        , 0.        ],\n",
       "       [0.        , 0.        , 0.        , 0.        , 0.        ,\n",
       "        0.38861429, 0.        , 0.        , 0.        , 0.38861429,\n",
       "        0.38861429, 0.30638797, 0.        , 0.        , 0.        ,\n",
       "        0.38861429, 0.        , 0.        , 0.38861429, 0.38861429]])"
      ]
     },
     "execution_count": 3,
     "metadata": {},
     "output_type": "execute_result"
    }
   ],
   "source": [
    "vectorizer = TfidfVectorizer(min_df=1, decode_error='ignore')\n",
    "tfidf_matrix = vectorizer.fit_transform(contents)\n",
    "tfidf_matrix.toarray()"
   ]
  },
  {
   "cell_type": "code",
   "execution_count": 4,
   "metadata": {},
   "outputs": [
    {
     "data": {
      "text/plain": [
       "{'고양이랑': 4,\n",
       " '같이': 0,\n",
       " '놀러가고': 7,\n",
       " '싶지만': 16,\n",
       " '바빠서': 11,\n",
       " '시간이': 13,\n",
       " '안되요': 17,\n",
       " '고양이는': 3,\n",
       " '동네에서': 8,\n",
       " '산책하고': 12,\n",
       " '노는': 6,\n",
       " '것을': 2,\n",
       " '싫어해요': 14,\n",
       " '것도': 1,\n",
       " '여행을': 18,\n",
       " '떠나고': 9,\n",
       " '싶은데': 15,\n",
       " '너무': 5,\n",
       " '못가고': 10,\n",
       " '있어요': 19}"
      ]
     },
     "execution_count": 4,
     "metadata": {},
     "output_type": "execute_result"
    }
   ],
   "source": [
    "vectorizer.vocabulary_"
   ]
  },
  {
   "cell_type": "code",
   "execution_count": 5,
   "metadata": {},
   "outputs": [],
   "source": [
    "from konlpy.tag import Okt \n",
    "t = Okt() \n",
    "# tokens = [t.morphs(row) for row in contents]"
   ]
  },
  {
   "cell_type": "code",
   "execution_count": 6,
   "metadata": {},
   "outputs": [],
   "source": [
    "tokens=set()\n",
    "tokens.update(t.morphs(contents[0]))\n",
    "tokens.update(t.morphs(contents[1]))\n",
    "tokens.update(t.morphs(contents[2]))\n",
    "tokens.update(t.morphs(contents[3]))"
   ]
  },
  {
   "cell_type": "code",
   "execution_count": 7,
   "metadata": {},
   "outputs": [
    {
     "data": {
      "text/plain": [
       "{'.',\n",
       " '가고',\n",
       " '같이',\n",
       " '것',\n",
       " '고양이',\n",
       " '너무',\n",
       " '노',\n",
       " '놀러',\n",
       " '는',\n",
       " '도',\n",
       " '동네',\n",
       " '떠나고',\n",
       " '랑',\n",
       " '못',\n",
       " '바빠서',\n",
       " '산책',\n",
       " '시간',\n",
       " '싫어해요',\n",
       " '싶은데',\n",
       " '싶지만',\n",
       " '안되요',\n",
       " '에서',\n",
       " '여행',\n",
       " '을',\n",
       " '이',\n",
       " '있어요',\n",
       " '하고'}"
      ]
     },
     "execution_count": 7,
     "metadata": {},
     "output_type": "execute_result"
    }
   ],
   "source": [
    "tokens"
   ]
  },
  {
   "cell_type": "code",
   "execution_count": 8,
   "metadata": {},
   "outputs": [
    {
     "data": {
      "text/plain": [
       "27"
      ]
     },
     "execution_count": 8,
     "metadata": {},
     "output_type": "execute_result"
    }
   ],
   "source": [
    "len(tokens)"
   ]
  },
  {
   "cell_type": "code",
   "execution_count": 9,
   "metadata": {},
   "outputs": [],
   "source": [
    "X = vectorizer.fit(tokens)"
   ]
  },
  {
   "cell_type": "code",
   "execution_count": 10,
   "metadata": {},
   "outputs": [
    {
     "data": {
      "text/plain": [
       "['가고',\n",
       " '같이',\n",
       " '고양이',\n",
       " '너무',\n",
       " '놀러',\n",
       " '동네',\n",
       " '떠나고',\n",
       " '바빠서',\n",
       " '산책',\n",
       " '시간',\n",
       " '싫어해요',\n",
       " '싶은데',\n",
       " '싶지만',\n",
       " '안되요',\n",
       " '에서',\n",
       " '여행',\n",
       " '있어요',\n",
       " '하고']"
      ]
     },
     "execution_count": 10,
     "metadata": {},
     "output_type": "execute_result"
    }
   ],
   "source": [
    "vectorizer.get_feature_names()"
   ]
  },
  {
   "cell_type": "code",
   "execution_count": 11,
   "metadata": {},
   "outputs": [
    {
     "data": {
      "text/plain": [
       "array([[0.       , 0.5      , 0.       , 0.       , 0.       , 0.       ,\n",
       "        0.       , 0.5      , 0.       , 0.       , 0.       , 0.       ,\n",
       "        0.5      , 0.5      , 0.       , 0.       , 0.       , 0.       ],\n",
       "       [0.       , 0.       , 0.       , 0.       , 0.       , 0.       ,\n",
       "        0.       , 0.       , 0.       , 0.       , 1.       , 0.       ,\n",
       "        0.       , 0.       , 0.       , 0.       , 0.       , 0.       ],\n",
       "       [0.       , 0.       , 0.       , 0.       , 0.       , 0.       ,\n",
       "        0.       , 0.       , 0.       , 0.       , 1.       , 0.       ,\n",
       "        0.       , 0.       , 0.       , 0.       , 0.       , 0.       ],\n",
       "       [0.       , 0.       , 0.       , 0.4472136, 0.       , 0.       ,\n",
       "        0.4472136, 0.4472136, 0.       , 0.       , 0.       , 0.4472136,\n",
       "        0.       , 0.       , 0.       , 0.       , 0.4472136, 0.       ]])"
      ]
     },
     "execution_count": 11,
     "metadata": {},
     "output_type": "execute_result"
    }
   ],
   "source": [
    "result = vectorizer.transform(contents)\n",
    "result.toarray()"
   ]
  },
  {
   "cell_type": "code",
   "execution_count": 12,
   "metadata": {},
   "outputs": [],
   "source": [
    "result_arr = result.toarray()"
   ]
  },
  {
   "cell_type": "markdown",
   "metadata": {},
   "source": [
    "### 문장끼리의 유사도 측정"
   ]
  },
  {
   "cell_type": "code",
   "execution_count": 13,
   "metadata": {},
   "outputs": [],
   "source": [
    "from numpy import dot \n",
    "from numpy.linalg import norm \n",
    "import numpy as np \n",
    "\n",
    "def cos_sim(A, B):\n",
    "    return dot(A, B)/(norm(A)*norm(B))"
   ]
  },
  {
   "cell_type": "code",
   "execution_count": 14,
   "metadata": {},
   "outputs": [
    {
     "name": "stdout",
     "output_type": "stream",
     "text": [
      "0.0\n",
      "0.0\n",
      "0.223606797749979\n"
     ]
    }
   ],
   "source": [
    "print(cos_sim(result_arr[0],result_arr[1]))\n",
    "print(cos_sim(result_arr[0],result_arr[2]))\n",
    "print(cos_sim(result_arr[0],result_arr[3]))"
   ]
  },
  {
   "cell_type": "code",
   "execution_count": null,
   "metadata": {},
   "outputs": [],
   "source": []
  },
  {
   "cell_type": "code",
   "execution_count": null,
   "metadata": {},
   "outputs": [],
   "source": []
  }
 ],
 "metadata": {
  "kernelspec": {
   "display_name": "Python 3",
   "language": "python",
   "name": "python3"
  },
  "language_info": {
   "codemirror_mode": {
    "name": "ipython",
    "version": 3
   },
   "file_extension": ".py",
   "mimetype": "text/x-python",
   "name": "python",
   "nbconvert_exporter": "python",
   "pygments_lexer": "ipython3",
   "version": "3.8.5"
  }
 },
 "nbformat": 4,
 "nbformat_minor": 2
}
