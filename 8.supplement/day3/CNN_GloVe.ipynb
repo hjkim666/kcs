{
 "cells": [
  {
   "cell_type": "markdown",
   "metadata": {
    "colab_type": "text",
    "id": "TKtiON7SWo-W"
   },
   "source": [
    "# CNN Text Classification"
   ]
  },
  {
   "cell_type": "code",
   "execution_count": 1,
   "metadata": {
    "colab": {},
    "colab_type": "code",
    "id": "N1YfHPu-7t1f"
   },
   "outputs": [
    {
     "name": "stderr",
     "output_type": "stream",
     "text": [
      "[nltk_data] Downloading package punkt to E:\\nltk_data...\n",
      "[nltk_data]   Package punkt is already up-to-date!\n"
     ]
    },
    {
     "data": {
      "text/plain": [
       "True"
      ]
     },
     "execution_count": 1,
     "metadata": {},
     "output_type": "execute_result"
    }
   ],
   "source": [
    "import os\n",
    "import pandas as pd\n",
    "import numpy as np\n",
    "from collections import Counter\n",
    "import nltk\n",
    "import matplotlib.pyplot as plt\n",
    "from nltk.tokenize import word_tokenize\n",
    "import tensorflow as tf\n",
    "from tensorflow.python.keras.preprocessing import sequence\n",
    "from tensorflow import keras\n",
    "\n",
    "nltk.download('punkt')"
   ]
  },
  {
   "cell_type": "code",
   "execution_count": 2,
   "metadata": {
    "colab": {},
    "colab_type": "code",
    "id": "q2EW2UKy6elS"
   },
   "outputs": [
    {
     "name": "stderr",
     "output_type": "stream",
     "text": [
      "'wget'은(는) 내부 또는 외부 명령, 실행할 수 있는 프로그램, 또는\n",
      "배치 파일이 아닙니다.\n",
      "unzip:  cannot find or open Stanford_politeness_corpus.zip, Stanford_politeness_corpus.zip.zip or Stanford_politeness_corpus.zip.ZIP.\n"
     ]
    }
   ],
   "source": [
    "# 윈도우즈에서는 개별 다운로드 \n",
    "# if not os.path.exists(\"Stanford_politeness_corpus.zip\"):\n",
    "#   !wget http://www.cs.cornell.edu/~cristian/Politeness_files/Stanford_politeness_corpus.zip\n",
    "\n",
    "# if not os.path.exists(\"Stanford_politeness_corpus/wikipedia.annotated.csv\"):\n",
    "#   !unzip Stanford_politeness_corpus.zip"
   ]
  },
  {
   "cell_type": "code",
   "execution_count": 3,
   "metadata": {
    "colab": {},
    "colab_type": "code",
    "id": "PLxkMzaN9G02"
   },
   "outputs": [],
   "source": [
    "def load_data(data_file):\n",
    "  data = pd.read_csv(data_file)\n",
    "\n",
    "  quantiles = data[\"Normalized Score\"].quantile([0.25, 0.5, 0.75])\n",
    "  print(quantiles)\n",
    "\n",
    "  for i in range(len(data)):\n",
    "    score = data.loc[i, \"Normalized Score\"]\n",
    "    if score <= quantiles[0.25]:    # Bottom quartile (impolite).\n",
    "      data.loc[i, \"Normalized Score\"] = 0\n",
    "    elif score >= quantiles[0.75]:   # Top quartile (polite).\n",
    "      data.loc[i, \"Normalized Score\"] = 1\n",
    "    else:                            # Neutral.\n",
    "      data.loc[i, \"Normalized Score\"] = 2\n",
    "\n",
    "  data[\"Normalized Score\"] = data[\"Normalized Score\"].astype(int)\n",
    "\n",
    "  data = data[data[\"Normalized Score\"] < 2]    # Discard neutral examples.\n",
    "  data = data.sample(frac=1).reset_index(drop=True)\n",
    "\n",
    "  return data"
   ]
  },
  {
   "cell_type": "code",
   "execution_count": 4,
   "metadata": {
    "colab": {},
    "colab_type": "code",
    "id": "YaI1jGtMWOye"
   },
   "outputs": [
    {
     "name": "stdout",
     "output_type": "stream",
     "text": [
      "0.25   -0.442633\n",
      "0.50    0.052339\n",
      "0.75    0.514399\n",
      "Name: Normalized Score, dtype: float64\n",
      "   Community      Id                                            Request  \\\n",
      "0  Wikipedia  629713  Notability is an issue of common sense: you're...   \n",
      "1  Wikipedia  190312  I think I lot of the things on the Methuselah ...   \n",
      "2  Wikipedia  472209  Sounds like a great idea. Do you want to propo...   \n",
      "3  Wikipedia  629967                         Huh? Who the hell are you?   \n",
      "4  Wikipedia  338160  <url> as having been deleted via a deletion di...   \n",
      "\n",
      "   Score1  Score2  Score3  Score4  Score5         TurkId1         TurkId2  \\\n",
      "0      13      15       7       7       5  A1RPVYUPJZGM9Z  A21753FQKCM5DQ   \n",
      "1      13      20      20      21      21  A233ONYNWKDIYF   AO5E3LWBYM72K   \n",
      "2      21      17      17      17      20  A233ONYNWKDIYF  A2UFD1I8ZO1V4G   \n",
      "3       6       4       5       1       6   AYG3MF094634L  A1F4D2PZ7NNWTL   \n",
      "4      17      17      17      19      13  A233ONYNWKDIYF  A2EJ6MKRFATU5I   \n",
      "\n",
      "          TurkId3         TurkId4         TurkId5  Normalized Score  \n",
      "0  A2WKPCZU4U110T   AVWFW00UYDVUD   AO5E3LWBYM72K                 0  \n",
      "1  A3LXBP8T6JMY9B  A204JAK7QRDWVM  A1KC138MX47DXA                 1  \n",
      "2   AYG3MF094634L  A13CO3B2BRXQLZ  A38N58BSMTA0BE                 1  \n",
      "3  A37ADCYLCSB5O2  A38N58BSMTA0BE  A2JKFTV0JXWMI6                 0  \n",
      "4  A2UFD1I8ZO1V4G  A14L1L022A4SG7   A3S5L3I8O3Q2G                 1  \n"
     ]
    }
   ],
   "source": [
    "data = load_data(\"Stanford_politeness_corpus/wikipedia.annotated.csv\")\n",
    "pd.set_option('display.max_columns', None)\n",
    "\n",
    "print(data.head())"
   ]
  },
  {
   "cell_type": "markdown",
   "metadata": {
    "colab_type": "text",
    "id": "LbrRF2ER6oay"
   },
   "source": [
    "### 사전을 구성\n",
    "\n",
    "1.   문장들을 소문자로 바꾸고, tokenization (nltk.tokenize 패키지의 word_tokenize  함수 활용)\n",
    "2.   전체 데이터에서 각 토큰들의 등장 빈도 확인 (collections 패키지의 Counter  클래스 활용)\n",
    "3.   가장 등장 빈도가 높은 단어를 vocab_size 만큼 선택 (Counter의 most_common 함수 활용)\n",
    "4.   각각의 단어에 고유한 숫자 부여. 이때, 0번째 토큰은 \"<PAD>\", 1번째 토큰은 \"<OOV>\" 할당\n",
    "5.   토큰 -> 숫자 변환을 위한 dictionary (word_index 변수에 할당)와, 숫자 -> 토큰 변환을 위한 dictionary (word_inverted_index 변수에 할당) 생성\n",
    "  \n",
    "  \n",
    "\n"
   ]
  },
  {
   "cell_type": "code",
   "execution_count": 5,
   "metadata": {
    "colab": {},
    "colab_type": "code",
    "id": "RN4C5ewLW9AN"
   },
   "outputs": [
    {
     "name": "stdout",
     "output_type": "stream",
     "text": [
      "고빈도 단어:\n",
      "? :  2714\n",
      "the :  2502\n",
      "you :  2239\n",
      ", :  2204\n",
      "to :  1698\n",
      "i :  1683\n",
      ". :  1636\n",
      "a :  1127\n",
      "it :  964\n",
      "that :  936\n",
      "\n",
      "단어 사전:\n",
      "0 <PAD>\n",
      "1 <OOV>\n",
      "2 ?\n",
      "3 the\n",
      "4 you\n",
      "5 ,\n",
      "6 to\n",
      "7 i\n",
      "8 .\n",
      "9 a\n",
      "\n",
      "단어 사전 크기:  5000\n"
     ]
    }
   ],
   "source": [
    "# we assign the first indices in the vocabulary to special tokens that we use\n",
    "# for padding, and for indicating unknown words\n",
    "vocab_size = 5000\n",
    "pad_id = 0\n",
    "oov_id = 1\n",
    "index_offset = 1\n",
    "\n",
    "def make_vocab(sentences):\n",
    "  word_counter = Counter()\n",
    "\n",
    "  for sent in sentences:\n",
    "    tokens = word_tokenize(sent.lower())\n",
    "    word_counter.update(tokens)\n",
    "  \n",
    "  most_common = word_counter.most_common()\n",
    "  print(\"고빈도 단어:\")\n",
    "  for k, v in most_common[:10]:\n",
    "    print(k, \": \", v)\n",
    "  \n",
    "  vocab = {\n",
    "      '<PAD>': pad_id,\n",
    "      '<OOV>': oov_id\n",
    "  }\n",
    "  for i, (word, cnt) in enumerate(most_common, start=index_offset+1):\n",
    "    vocab[word] = i\n",
    "    if len(vocab) >= vocab_size:\n",
    "      break\n",
    "  \n",
    "  return vocab\n",
    "\n",
    "vocab_size = 5000\n",
    "pad_id = 0\n",
    "oov_id = 1\n",
    "index_offset = 1\n",
    "\n",
    "sentences = data[\"Request\"].tolist()\n",
    "word_index = make_vocab(sentences)\n",
    "word_inverted_index = {v:k for k, v in word_index.items()}\n",
    "\n",
    "print(\"\\n단어 사전:\")\n",
    "for i in range(0, 10):\n",
    "  print(i, word_inverted_index[i])\n",
    "  \n",
    "print(\"\\n단어 사전 크기: \", len(word_index))"
   ]
  },
  {
   "cell_type": "markdown",
   "metadata": {
    "colab_type": "text",
    "id": "vh3O9aHD7HLf"
   },
   "source": [
    "### 사전이 정상적인지 체크 \n",
    "\n",
    "사전이 잘 구성되고, 각각의 사전이 word_index 변수와 word_inverted_index 변수에 할당되었다면 문장이 숫자로 변환되었다가 다시 원래 문장으로 돌아오는 것을 확인"
   ]
  },
  {
   "cell_type": "code",
   "execution_count": 6,
   "metadata": {
    "colab": {},
    "colab_type": "code",
    "id": "WdBgH74TcmNk"
   },
   "outputs": [
    {
     "name": "stdout",
     "output_type": "stream",
     "text": [
      "원본:  Notability is an issue of common sense: you're writing for other people, so what is notable for you (or me) is not that relevant. My local shop is more important and notable ''to me'' than Wal-mart, but who, other than me, actually cares?\n",
      "문자 -> 숫자:  [372, 15, 55, 282, 12, 650, 344, 59, 4, 105, 550, 19, 93, 149, 5, 51, 26, 15, 387, 19, 4, 54, 44, 38, 46, 15, 31, 11, 709, 8, 52, 2615, 1718, 15, 81, 517, 16, 387, 24, 6, 38, 22, 117, 2616, 5, 42, 94, 5, 93, 117, 38, 5, 190, 1319, 2]\n",
      "숫자 -> 문자:  notability is an issue of common sense : you 're writing for other people , so what is notable for you ( or me ) is not that relevant . my local shop is more important and notable `` to me '' than wal-mart , but who , other than me , actually cares ?\n"
     ]
    }
   ],
   "source": [
    "def index_to_text(indexes):\n",
    "  return ' '.join([word_inverted_index[i] for i in indexes])\n",
    "  \n",
    "def text_to_index(text):\n",
    "  tokens = tokens = word_tokenize(text.lower())\n",
    "  indexes = []\n",
    "  for tok in tokens:\n",
    "    if tok in word_index:\n",
    "      indexes.append(word_index[tok])\n",
    "    else:\n",
    "      indexes.append(oov_id)\n",
    "      \n",
    "  return indexes\n",
    "\n",
    "print(\"원본: \", sentences[0])\n",
    "ids = text_to_index(sentences[0])\n",
    "print(\"문자 -> 숫자: \", ids)\n",
    "print(\"숫자 -> 문자: \", index_to_text(ids))"
   ]
  },
  {
   "cell_type": "markdown",
   "metadata": {
    "colab_type": "text",
    "id": "Eb0Zk0YY7MiD"
   },
   "source": [
    "숫자로 바뀐 문장들을 학습 데이터로 사용할 수 있도록 변형\n",
    "\n",
    "\n",
    "1.   모든 문장들을 동일한 길이가 되도록 padding 처리하거나 자름 (tensorflow.python.keras.preprocessing.sequence 패키지의 pad_sequence 함수 활용)\n",
    "2.   데이터의 일부(10%)를 테스트 데이터로 분리\n",
    "\n"
   ]
  },
  {
   "cell_type": "code",
   "execution_count": 7,
   "metadata": {
    "colab": {},
    "colab_type": "code",
    "id": "MQfHyY0GhvBJ"
   },
   "outputs": [
    {
     "name": "stdout",
     "output_type": "stream",
     "text": [
      "test_inputs shape:  (217, 200)\n",
      "train_inputs shape:  (1961, 200)\n",
      "test_labels shape:  (217,)\n",
      "train_labels shape:  (1961,)\n"
     ]
    }
   ],
   "source": [
    "x_variable = [text_to_index(sent) for sent in sentences]\n",
    "\n",
    "sentence_size = 200\n",
    "x_padded = sequence.pad_sequences(x_variable,\n",
    "                                 maxlen=sentence_size,\n",
    "                                 truncating='post',\n",
    "                                 padding='post',\n",
    "                                 value=pad_id)\n",
    "\n",
    "n_test = len(data) // 10\n",
    "test_inputs = x_padded[:n_test]\n",
    "train_inputs = x_padded[n_test:]\n",
    "\n",
    "ys = np.array(data[\"Normalized Score\"].tolist())\n",
    "test_labels = ys[:n_test]\n",
    "train_labels = ys[n_test:]\n",
    "\n",
    "print(\"test_inputs shape: \", test_inputs.shape)\n",
    "print(\"train_inputs shape: \", train_inputs.shape)\n",
    "print(\"test_labels shape: \", test_labels.shape)\n",
    "print(\"train_labels shape: \", train_labels.shape)"
   ]
  },
  {
   "cell_type": "markdown",
   "metadata": {
    "colab_type": "text",
    "id": "7ftSUTOB98N_"
   },
   "source": [
    "### 모델링"
   ]
  },
  {
   "cell_type": "code",
   "execution_count": 8,
   "metadata": {
    "colab": {},
    "colab_type": "code",
    "id": "dlsrBpQZmUFW"
   },
   "outputs": [],
   "source": [
    "model = keras.Sequential([\n",
    "    keras.layers.Embedding(vocab_size, 50),\n",
    "    keras.layers.Conv1D(32, 3, padding=\"same\", activation=tf.nn.relu),\n",
    "    keras.layers.GlobalMaxPool1D(),\n",
    "    keras.layers.Dense(2, activation=tf.nn.softmax)\n",
    "])"
   ]
  },
  {
   "cell_type": "markdown",
   "metadata": {
    "colab_type": "text",
    "id": "QI6aCoD9-jNE"
   },
   "source": [
    "### 학습 결과를 시각화, 성능을 측정하는 함수"
   ]
  },
  {
   "cell_type": "code",
   "execution_count": 9,
   "metadata": {
    "colab": {},
    "colab_type": "code",
    "id": "hZG1KkAOo_ZY"
   },
   "outputs": [],
   "source": [
    "def plot_loss(history):\n",
    "  plt.figure(figsize=(6,5))\n",
    "  val = plt.plot(history.epoch, history.history['val_loss'],\n",
    "                 '--', label='Test')\n",
    "  plt.plot(history.epoch, history.history['loss'], color=val[0].get_color(),\n",
    "           label='Train')\n",
    "\n",
    "  plt.xlabel('Epochs')\n",
    "  plt.ylabel(\"Loss\")\n",
    "  plt.legend()\n",
    "\n",
    "  plt.xlim([0,max(history.epoch)])\n",
    "  \n",
    "def eval_model(model):\n",
    "  test_loss, test_acc = model.evaluate(test_inputs, test_labels)\n",
    "  print('Test accuracy:', test_acc)"
   ]
  },
  {
   "cell_type": "markdown",
   "metadata": {
    "colab_type": "text",
    "id": "tVGrEUEu-oXv"
   },
   "source": [
    "### 학습"
   ]
  },
  {
   "cell_type": "code",
   "execution_count": 10,
   "metadata": {
    "colab": {},
    "colab_type": "code",
    "id": "-hPsLLFIot0y"
   },
   "outputs": [
    {
     "name": "stdout",
     "output_type": "stream",
     "text": [
      "Epoch 1/10\n",
      "62/62 [==============================] - 1s 17ms/step - loss: 0.6778 - accuracy: 0.5961 - val_loss: 0.6420 - val_accuracy: 0.7742\n",
      "Epoch 2/10\n",
      "62/62 [==============================] - 1s 14ms/step - loss: 0.5728 - accuracy: 0.8027 - val_loss: 0.4989 - val_accuracy: 0.8157\n",
      "Epoch 3/10\n",
      "62/62 [==============================] - 1s 13ms/step - loss: 0.4128 - accuracy: 0.8531 - val_loss: 0.3961 - val_accuracy: 0.8249\n",
      "Epoch 4/10\n",
      "62/62 [==============================] - 1s 13ms/step - loss: 0.2995 - accuracy: 0.9026 - val_loss: 0.3659 - val_accuracy: 0.8341\n",
      "Epoch 5/10\n",
      "62/62 [==============================] - 1s 13ms/step - loss: 0.2119 - accuracy: 0.9393 - val_loss: 0.3508 - val_accuracy: 0.8295\n",
      "Epoch 6/10\n",
      "62/62 [==============================] - 1s 13ms/step - loss: 0.1456 - accuracy: 0.9648 - val_loss: 0.3534 - val_accuracy: 0.8387\n",
      "Epoch 7/10\n",
      "62/62 [==============================] - 1s 13ms/step - loss: 0.0958 - accuracy: 0.9842 - val_loss: 0.3559 - val_accuracy: 0.8249\n",
      "Epoch 8/10\n",
      "62/62 [==============================] - 1s 13ms/step - loss: 0.0638 - accuracy: 0.9898 - val_loss: 0.3554 - val_accuracy: 0.8295\n",
      "Epoch 9/10\n",
      "62/62 [==============================] - 1s 13ms/step - loss: 0.0425 - accuracy: 0.9959 - val_loss: 0.3715 - val_accuracy: 0.8295\n",
      "Epoch 10/10\n",
      "62/62 [==============================] - 1s 13ms/step - loss: 0.0287 - accuracy: 0.9985 - val_loss: 0.3791 - val_accuracy: 0.8387\n",
      "7/7 [==============================] - 0s 3ms/step - loss: 0.3791 - accuracy: 0.8387\n",
      "Test accuracy: 0.8387096524238586\n"
     ]
    },
    {
     "data": {
      "image/png": "[encoded data removed]",
      "text/plain": [
       "<Figure size 432x360 with 1 Axes>"
      ]
     },
     "metadata": {
      "needs_background": "light"
     },
     "output_type": "display_data"
    }
   ],
   "source": [
    "model.compile(optimizer='adam', \n",
    "              loss='sparse_categorical_crossentropy',\n",
    "              metrics=['accuracy'])\n",
    "\n",
    "history = model.fit(train_inputs,\n",
    "          train_labels,\n",
    "          epochs=10,\n",
    "          validation_data=(test_inputs, test_labels)\n",
    "         )\n",
    "\n",
    "plot_loss(history)\n",
    "eval_model(model)"
   ]
  },
  {
   "cell_type": "markdown",
   "metadata": {
    "colab_type": "text",
    "id": "pCaixZUv-tjb"
   },
   "source": [
    "## Pretrained word vectors\n",
    "\n",
    "만들어진 모델에 미리 학습된 단어 벡터(GloVe)"
   ]
  },
  {
   "cell_type": "code",
   "execution_count": 0,
   "metadata": {
    "colab": {
     "base_uri": "https://localhost:8080/",
     "height": 207
    },
    "colab_type": "code",
    "id": "UM6dSiL7rXut",
    "outputId": "e23c6724-3e73-4e8a-e99b-e012356a360e"
   },
   "outputs": [
    {
     "name": "stdout",
     "output_type": "stream",
     "text": [
      "the 0.418 0.24968 -0.41242 0.1217 0.34527 -0.044457 -0.49688 -0.17862 -0.00066023 -0.6566 0.27843 -0.14767 -0.55677 0.14658 -0.0095095 0.011658 0.10204 -0.12792 -0.8443 -0.12181 -0.016801 -0.33279 -0.1552 -0.23131 -0.19181 -1.8823 -0.76746 0.099051 -0.42125 -0.19526 4.0071 -0.18594 -0.52287 -0.31681 0.00059213 0.0074449 0.17778 -0.15897 0.012041 -0.054223 -0.29871 -0.15749 -0.34758 -0.045637 -0.44251 0.18785 0.0027849 -0.18411 -0.11514 -0.78581\n",
      ", 0.013441 0.23682 -0.16899 0.40951 0.63812 0.47709 -0.42852 -0.55641 -0.364 -0.23938 0.13001 -0.063734 -0.39575 -0.48162 0.23291 0.090201 -0.13324 0.078639 -0.41634 -0.15428 0.10068 0.48891 0.31226 -0.1252 -0.037512 -1.5179 0.12612 -0.02442 -0.042961 -0.28351 3.5416 -0.11956 -0.014533 -0.1499 0.21864 -0.33412 -0.13872 0.31806 0.70358 0.44858 -0.080262 0.63003 0.32111 -0.46765 0.22786 0.36034 -0.37818 -0.56657 0.044691 0.30392\n",
      ". 0.15164 0.30177 -0.16763 0.17684 0.31719 0.33973 -0.43478 -0.31086 -0.44999 -0.29486 0.16608 0.11963 -0.41328 -0.42353 0.59868 0.28825 -0.11547 -0.041848 -0.67989 -0.25063 0.18472 0.086876 0.46582 0.015035 0.043474 -1.4671 -0.30384 -0.023441 0.30589 -0.21785 3.746 0.0042284 -0.18436 -0.46209 0.098329 -0.11907 0.23919 0.1161 0.41705 0.056763 -6.3681e-05 0.068987 0.087939 -0.10285 -0.13931 0.22314 -0.080803 -0.35652 0.016413 0.10216\n",
      "of 0.70853 0.57088 -0.4716 0.18048 0.54449 0.72603 0.18157 -0.52393 0.10381 -0.17566 0.078852 -0.36216 -0.11829 -0.83336 0.11917 -0.16605 0.061555 -0.012719 -0.56623 0.013616 0.22851 -0.14396 -0.067549 -0.38157 -0.23698 -1.7037 -0.86692 -0.26704 -0.2589 0.1767 3.8676 -0.1613 -0.13273 -0.68881 0.18444 0.0052464 -0.33874 -0.078956 0.24185 0.36576 -0.34727 0.28483 0.075693 -0.062178 -0.38988 0.22902 -0.21617 -0.22562 -0.093918 -0.80375\n",
      "to 0.68047 -0.039263 0.30186 -0.17792 0.42962 0.032246 -0.41376 0.13228 -0.29847 -0.085253 0.17118 0.22419 -0.10046 -0.43653 0.33418 0.67846 0.057204 -0.34448 -0.42785 -0.43275 0.55963 0.10032 0.18677 -0.26854 0.037334 -2.0932 0.22171 -0.39868 0.20912 -0.55725 3.8826 0.47466 -0.95658 -0.37788 0.20869 -0.32752 0.12751 0.088359 0.16351 -0.21634 -0.094375 0.018324 0.21048 -0.03088 -0.19722 0.082279 -0.09434 -0.073297 -0.064699 -0.26044\n",
      "and 0.26818 0.14346 -0.27877 0.016257 0.11384 0.69923 -0.51332 -0.47368 -0.33075 -0.13834 0.2702 0.30938 -0.45012 -0.4127 -0.09932 0.038085 0.029749 0.10076 -0.25058 -0.51818 0.34558 0.44922 0.48791 -0.080866 -0.10121 -1.3777 -0.10866 -0.23201 0.012839 -0.46508 3.8463 0.31362 0.13643 -0.52244 0.3302 0.33707 -0.35601 0.32431 0.12041 0.3512 -0.069043 0.36885 0.25168 -0.24517 0.25381 0.1367 -0.31178 -0.6321 -0.25028 -0.38097\n",
      "in 0.33042 0.24995 -0.60874 0.10923 0.036372 0.151 -0.55083 -0.074239 -0.092307 -0.32821 0.09598 -0.82269 -0.36717 -0.67009 0.42909 0.016496 -0.23573 0.12864 -1.0953 0.43334 0.57067 -0.1036 0.20422 0.078308 -0.42795 -1.7984 -0.27865 0.11954 -0.12689 0.031744 3.8631 -0.17786 -0.082434 -0.62698 0.26497 -0.057185 -0.073521 0.46103 0.30862 0.12498 -0.48609 -0.0080272 0.031184 -0.36576 -0.42699 0.42164 -0.11666 -0.50703 -0.027273 -0.53285\n",
      "a 0.21705 0.46515 -0.46757 0.10082 1.0135 0.74845 -0.53104 -0.26256 0.16812 0.13182 -0.24909 -0.44185 -0.21739 0.51004 0.13448 -0.43141 -0.03123 0.20674 -0.78138 -0.20148 -0.097401 0.16088 -0.61836 -0.18504 -0.12461 -2.2526 -0.22321 0.5043 0.32257 0.15313 3.9636 -0.71365 -0.67012 0.28388 0.21738 0.14433 0.25926 0.23434 0.4274 -0.44451 0.13813 0.36973 -0.64289 0.024142 -0.039315 -0.26037 0.12017 -0.043782 0.41013 0.1796\n",
      "\" 0.25769 0.45629 -0.76974 -0.37679 0.59272 -0.063527 0.20545 -0.57385 -0.29009 -0.13662 0.32728 1.4719 -0.73681 -0.12036 0.71354 -0.46098 0.65248 0.48887 -0.51558 0.039951 -0.34307 -0.014087 0.86488 0.3546 0.7999 -1.4995 -1.8153 0.41128 0.23921 -0.43139 3.6623 -0.79834 -0.54538 0.16943 -0.82017 -0.3461 0.69495 -1.2256 -0.17992 -0.057474 0.030498 -0.39543 -0.38515 -1.0002 0.087599 -0.31009 -0.34677 -0.31438 0.75004 0.97065\n",
      "'s 0.23727 0.40478 -0.20547 0.58805 0.65533 0.32867 -0.81964 -0.23236 0.27428 0.24265 0.054992 0.16296 -1.2555 -0.086437 0.44536 0.096561 -0.16519 0.058378 -0.38598 0.086977 0.0033869 0.55095 -0.77697 -0.62096 0.092948 -2.5685 -0.67739 0.10151 -0.48643 -0.057805 3.1859 -0.017554 -0.16138 0.055486 -0.25885 -0.33938 -0.19928 0.26049 0.10478 -0.55934 -0.12342 0.65961 -0.51802 -0.82995 -0.082739 0.28155 -0.423 -0.27378 -0.007901 -0.030231\n"
     ]
    }
   ],
   "source": [
    "if not os.path.exists('glove.6B.zip'):\n",
    "    ! wget http://nlp.stanford.edu/data/glove.6B.zip\n",
    "if not os.path.exists('glove.6B.50d.txt'):\n",
    "    ! unzip glove.6B.zip\n",
    "    \n",
    "! head glove.6B.50d.txt"
   ]
  },
  {
   "cell_type": "markdown",
   "metadata": {
    "colab_type": "text",
    "id": "xhv_Sbm4--m9"
   },
   "source": [
    "GloVe 벡터를 불러와서 임베딩 행렬을 초기화 \n",
    "\n",
    "1.   GloVe 파일을 읽고, 각 줄에서 단어(1번째 토큰)와 벡터를 이루는 숫자들(2번째 이후 토큰들)을 분리\n",
    "2.   벡터를 이루는 숫자들을 numpy 행렬로 변환 (numpy의 asarray 함수 활용)\n",
    "3.   단어와 벡터를 연결하는 dictionary 자료구조 구성 (단어 -> 벡터)\n",
    "4.   모든 단어들에 대한 임베딩 행렬을 무작위로 생성 (vocab_size X 50 크기의 numpy 행렬)\n",
    "5.   임베딩 행렬에서, GloVe 벡터가 존재하는 단어들만 해당 GloVe 벡터로 대체\n",
    "\n"
   ]
  },
  {
   "cell_type": "code",
   "execution_count": 13,
   "metadata": {
    "colab": {},
    "colab_type": "code",
    "id": "4OWLKUOFr0tB"
   },
   "outputs": [
    {
     "name": "stdout",
     "output_type": "stream",
     "text": [
      "Successfully loaded pretrained embeddings for 4478/5000 words.\n"
     ]
    }
   ],
   "source": [
    "def load_glove_embeddings(path):\n",
    "    embeddings = {}\n",
    "    with open(path, 'r', encoding='utf-8') as f:\n",
    "        for line in f:\n",
    "            values = line.strip().split()\n",
    "            w = values[0]\n",
    "            vectors = np.asarray(values[1:], dtype='float32')\n",
    "            embeddings[w] = vectors\n",
    "\n",
    "    embedding_matrix = np.random.uniform(-1, 1, size=(vocab_size, 50))\n",
    "    num_loaded = 0\n",
    "    for w, i in word_index.items():\n",
    "        v = embeddings.get(w)\n",
    "        if v is not None and i < vocab_size:\n",
    "            embedding_matrix[i] = v\n",
    "            num_loaded += 1\n",
    "    print('Successfully loaded pretrained embeddings for '\n",
    "          f'{num_loaded}/{vocab_size} words.')\n",
    "    embedding_matrix = embedding_matrix.astype(np.float32)\n",
    "    return embedding_matrix\n",
    "\n",
    "embedding_matrix = load_glove_embeddings('glove.6B/glove.6B.50d.txt')"
   ]
  },
  {
   "cell_type": "markdown",
   "metadata": {
    "colab_type": "text",
    "id": "c70N63qoAKx7"
   },
   "source": [
    "위의 모델에서, Embedding layer의 값을 위에서 생성한 임베딩 행렬로 초기화\n",
    "(keras.initializers.Constant 클래스 활용)\n"
   ]
  },
  {
   "cell_type": "code",
   "execution_count": 14,
   "metadata": {
    "colab": {},
    "colab_type": "code",
    "id": "cjMv1u72r_qv"
   },
   "outputs": [],
   "source": [
    "glove_init = keras.initializers.Constant(embedding_matrix)\n",
    "\n",
    "model = keras.Sequential([\n",
    "    keras.layers.Embedding(vocab_size, 50, embeddings_initializer=glove_init),\n",
    "    keras.layers.Conv1D(32, 3, padding=\"same\", activation=tf.nn.relu),\n",
    "    keras.layers.GlobalMaxPool1D(),\n",
    "    keras.layers.Dense(2, activation=tf.nn.softmax)\n",
    "])"
   ]
  },
  {
   "cell_type": "code",
   "execution_count": 15,
   "metadata": {
    "colab": {},
    "colab_type": "code",
    "id": "QGnd9iJqsk3U"
   },
   "outputs": [
    {
     "name": "stdout",
     "output_type": "stream",
     "text": [
      "Epoch 1/10\n",
      "62/62 [==============================] - 1s 16ms/step - loss: 0.7197 - accuracy: 0.5584 - val_loss: 0.6723 - val_accuracy: 0.6129\n",
      "Epoch 2/10\n",
      "62/62 [==============================] - 1s 13ms/step - loss: 0.5770 - accuracy: 0.7139 - val_loss: 0.6203 - val_accuracy: 0.6728\n",
      "Epoch 3/10\n",
      "62/62 [==============================] - 1s 13ms/step - loss: 0.4766 - accuracy: 0.8123 - val_loss: 0.5715 - val_accuracy: 0.7419\n",
      "Epoch 4/10\n",
      "62/62 [==============================] - 1s 13ms/step - loss: 0.3994 - accuracy: 0.8638 - val_loss: 0.5416 - val_accuracy: 0.7742\n",
      "Epoch 5/10\n",
      "62/62 [==============================] - 1s 13ms/step - loss: 0.3280 - accuracy: 0.9159 - val_loss: 0.5077 - val_accuracy: 0.7834\n",
      "Epoch 6/10\n",
      "62/62 [==============================] - 1s 13ms/step - loss: 0.2704 - accuracy: 0.9408 - val_loss: 0.5079 - val_accuracy: 0.7880\n",
      "Epoch 7/10\n",
      "62/62 [==============================] - 1s 13ms/step - loss: 0.2270 - accuracy: 0.9536 - val_loss: 0.4752 - val_accuracy: 0.8018\n",
      "Epoch 8/10\n",
      "62/62 [==============================] - 1s 13ms/step - loss: 0.1835 - accuracy: 0.9699 - val_loss: 0.4656 - val_accuracy: 0.8111\n",
      "Epoch 9/10\n",
      "62/62 [==============================] - 1s 13ms/step - loss: 0.1489 - accuracy: 0.9816 - val_loss: 0.4658 - val_accuracy: 0.8111\n",
      "Epoch 10/10\n",
      "62/62 [==============================] - 1s 13ms/step - loss: 0.1200 - accuracy: 0.9898 - val_loss: 0.4779 - val_accuracy: 0.7834\n",
      "7/7 [==============================] - 0s 3ms/step - loss: 0.4779 - accuracy: 0.7834\n",
      "Test accuracy: 0.7834101319313049\n"
     ]
    },
    {
     "data": {
      "image/png": "[encoded data removed]",
      "text/plain": [
       "<Figure size 432x360 with 1 Axes>"
      ]
     },
     "metadata": {
      "needs_background": "light"
     },
     "output_type": "display_data"
    }
   ],
   "source": [
    "model.compile(optimizer='adam', \n",
    "              loss='sparse_categorical_crossentropy',\n",
    "              metrics=['accuracy'])\n",
    "\n",
    "history = model.fit(train_inputs,\n",
    "          train_labels,\n",
    "          epochs=10,\n",
    "          validation_data=(test_inputs, test_labels)\n",
    "         )\n",
    "\n",
    "plot_loss(history)\n",
    "eval_model(model)"
   ]
  },
  {
   "cell_type": "code",
   "execution_count": null,
   "metadata": {},
   "outputs": [],
   "source": []
  }
 ],
 "metadata": {
  "accelerator": "GPU",
  "colab": {
   "collapsed_sections": [],
   "name": "CNN Text Classification (Full).ipynb",
   "provenance": []
  },
  "kernelspec": {
   "display_name": "Python 3",
   "language": "python",
   "name": "python3"
  },
  "language_info": {
   "codemirror_mode": {
    "name": "ipython",
    "version": 3
   },
   "file_extension": ".py",
   "mimetype": "text/x-python",
   "name": "python",
   "nbconvert_exporter": "python",
   "pygments_lexer": "ipython3",
   "version": "3.8.5"
  }
 },
 "nbformat": 4,
 "nbformat_minor": 1
}
