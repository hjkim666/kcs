{
  "nbformat": 4,
  "nbformat_minor": 0,
  "metadata": {
    "colab": {
      "name": "RNN_imdb_performance.ipynb",
      "provenance": [],
      "collapsed_sections": []
    },
    "kernelspec": {
      "name": "python3",
      "display_name": "Python 3"
    },
    "accelerator": "GPU"
  },
  "cells": [
    {
      "cell_type": "markdown",
      "metadata": {
        "id": "27Rgp3GkbAjh"
      },
      "source": [
        "# RNN 성능향상\n",
        "\n",
        "* 순환 드롭아웃 : 순환 층에서 과대적합을 방지하기 위해 케라스에 내장되어 있는 드롭아웃\n",
        "* 순환 층 스태킹 : 네트워크의 표현 능력을 증가(계산 비용증가).\n",
        "* 양방향 순환 층 : 순환 네트워크에 같은 정보를 다른 방향으로 주입하여 정확도를 높이고 기억을 좀 더 오래 유지"
      ]
    },
    {
      "cell_type": "code",
      "metadata": {
        "id": "QgZ8VTQ5l26q",
        "outputId": "9bee6290-08a5-4af9-9a22-8e76bdc4ccdf",
        "colab": {
          "base_uri": "https://localhost:8080/",
          "height": 129
        }
      },
      "source": [
        "from keras.datasets import imdb\n",
        "from keras.preprocessing import sequence\n",
        "\n",
        "max_features = 10000  # 특성으로 사용할 단어의 수\n",
        "maxlen = 500  # 사용할 텍스트의 길이(가장 빈번한 max_features 개의 단어만 사용)\n",
        "batch_size = 32\n",
        "\n",
        "print('데이터 로딩...')\n",
        "(input_train, y_train), (input_test, y_test) = imdb.load_data(num_words=max_features)\n",
        "print(len(input_train), '훈련 시퀀스')\n",
        "print(len(input_test), '테스트 시퀀스')\n",
        "\n",
        "print('시퀀스 패딩 (samples x time)')\n",
        "input_train = sequence.pad_sequences(input_train, maxlen=maxlen)\n",
        "input_test = sequence.pad_sequences(input_test, maxlen=maxlen)\n",
        "print('input_train 크기:', input_train.shape)\n",
        "print('input_test 크기:', input_test.shape)"
      ],
      "execution_count": 1,
      "outputs": [
        {
          "output_type": "stream",
          "text": [
            "데이터 로딩...\n",
            "25000 훈련 시퀀스\n",
            "25000 테스트 시퀀스\n",
            "시퀀스 패딩 (samples x time)\n",
            "input_train 크기: (25000, 500)\n",
            "input_test 크기: (25000, 500)\n"
          ],
          "name": "stdout"
        }
      ]
    },
    {
      "cell_type": "code",
      "metadata": {
        "id": "sjfO0fJNGK5D",
        "outputId": "7bc4093b-ee28-432f-9318-5b3829c512e3",
        "colab": {
          "base_uri": "https://localhost:8080/",
          "height": 391
        }
      },
      "source": [
        "from keras.models import Sequential\n",
        "from keras.layers import Embedding, SimpleRNN, LSTM\n",
        "from keras.layers import Dense\n",
        "\n",
        "model = Sequential()\n",
        "model.add(Embedding(max_features, 32))\n",
        "model.add(LSTM(32))\n",
        "model.add(Dense(1, activation='sigmoid'))\n",
        "\n",
        "model.compile(optimizer='rmsprop',\n",
        "              loss='binary_crossentropy',\n",
        "              metrics=['acc'])\n",
        "history = model.fit(input_train, y_train,\n",
        "                    epochs=10,\n",
        "                    batch_size=128,\n",
        "                    validation_split=0.2)"
      ],
      "execution_count": 4,
      "outputs": [
        {
          "output_type": "stream",
          "text": [
            "Epoch 1/10\n",
            "157/157 [==============================] - 14s 90ms/step - loss: 0.5046 - acc: 0.7564 - val_loss: 0.4031 - val_acc: 0.8418\n",
            "Epoch 2/10\n",
            "157/157 [==============================] - 14s 87ms/step - loss: 0.2975 - acc: 0.8845 - val_loss: 0.3379 - val_acc: 0.8758\n",
            "Epoch 3/10\n",
            "157/157 [==============================] - 14s 87ms/step - loss: 0.2426 - acc: 0.9094 - val_loss: 0.2893 - val_acc: 0.8804\n",
            "Epoch 4/10\n",
            "157/157 [==============================] - 14s 87ms/step - loss: 0.2001 - acc: 0.9271 - val_loss: 0.2847 - val_acc: 0.8888\n",
            "Epoch 5/10\n",
            "157/157 [==============================] - 14s 88ms/step - loss: 0.1768 - acc: 0.9359 - val_loss: 0.3018 - val_acc: 0.8904\n",
            "Epoch 6/10\n",
            "157/157 [==============================] - 14s 87ms/step - loss: 0.1575 - acc: 0.9441 - val_loss: 0.3112 - val_acc: 0.8762\n",
            "Epoch 7/10\n",
            "157/157 [==============================] - 14s 87ms/step - loss: 0.1423 - acc: 0.9498 - val_loss: 0.3611 - val_acc: 0.8796\n",
            "Epoch 8/10\n",
            "157/157 [==============================] - 14s 87ms/step - loss: 0.1305 - acc: 0.9553 - val_loss: 0.3630 - val_acc: 0.8880\n",
            "Epoch 9/10\n",
            "157/157 [==============================] - 14s 87ms/step - loss: 0.1226 - acc: 0.9564 - val_loss: 0.4638 - val_acc: 0.8622\n",
            "Epoch 10/10\n",
            "157/157 [==============================] - 14s 87ms/step - loss: 0.1121 - acc: 0.9609 - val_loss: 0.6755 - val_acc: 0.8084\n"
          ],
          "name": "stdout"
        }
      ]
    },
    {
      "cell_type": "markdown",
      "metadata": {
        "id": "plW8F-NvHjsF"
      },
      "source": [
        "## 과대적합 감소를 위해 순환 드롭아웃 사용하기\n",
        "\n",
        "- dropout은 층의 입력에 대한 드롭아웃 비율을 정하는 부동 소수 값\n",
        "- recurrent_dropout은 순환 상태의 드롭아웃 비율을 정함"
      ]
    },
    {
      "cell_type": "code",
      "metadata": {
        "id": "XHGXa6ePHZaf",
        "outputId": "67c0a843-b671-4305-a2c7-89e114d5982e",
        "colab": {
          "base_uri": "https://localhost:8080/",
          "height": 429
        }
      },
      "source": [
        "# from keras import backend as K\n",
        "# K.clear_session()\n",
        "\n",
        "model = Sequential()\n",
        "model.add(Embedding(max_features, 32))\n",
        "model.add(LSTM(32, dropout=0.5,recurrent_dropout=0.5))\n",
        "model.add(Dense(1, activation='sigmoid'))\n",
        "\n",
        "model.compile(optimizer='rmsprop',\n",
        "              loss='binary_crossentropy',\n",
        "              metrics=['acc'])\n",
        "history = model.fit(input_train, y_train,\n",
        "                    epochs=10,\n",
        "                    batch_size=128,\n",
        "                    validation_split=0.2)"
      ],
      "execution_count": 7,
      "outputs": [
        {
          "output_type": "stream",
          "text": [
            "WARNING:tensorflow:Layer lstm_2 will not use cuDNN kernel since it doesn't meet the cuDNN kernel criteria. It will use generic GPU kernel as fallback when running on GPU\n",
            "Epoch 1/10\n",
            "157/157 [==============================] - 409s 3s/step - loss: 0.5389 - acc: 0.7372 - val_loss: 0.4787 - val_acc: 0.7904\n",
            "Epoch 2/10\n",
            "157/157 [==============================] - 403s 3s/step - loss: 0.3420 - acc: 0.8643 - val_loss: 0.2869 - val_acc: 0.8810\n",
            "Epoch 3/10\n",
            "157/157 [==============================] - 406s 3s/step - loss: 0.2842 - acc: 0.8885 - val_loss: 0.3221 - val_acc: 0.8646\n",
            "Epoch 4/10\n",
            "157/157 [==============================] - 412s 3s/step - loss: 0.2435 - acc: 0.9075 - val_loss: 0.7214 - val_acc: 0.8120\n",
            "Epoch 5/10\n",
            "157/157 [==============================] - 415s 3s/step - loss: 0.2250 - acc: 0.9158 - val_loss: 0.3237 - val_acc: 0.8814\n",
            "Epoch 6/10\n",
            "157/157 [==============================] - 416s 3s/step - loss: 0.1976 - acc: 0.9269 - val_loss: 0.5430 - val_acc: 0.8546\n",
            "Epoch 7/10\n",
            "157/157 [==============================] - 418s 3s/step - loss: 0.1897 - acc: 0.9294 - val_loss: 0.3215 - val_acc: 0.8844\n",
            "Epoch 8/10\n",
            "157/157 [==============================] - 422s 3s/step - loss: 0.1766 - acc: 0.9345 - val_loss: 0.2861 - val_acc: 0.8914\n",
            "Epoch 9/10\n",
            "157/157 [==============================] - 411s 3s/step - loss: 0.1619 - acc: 0.9415 - val_loss: 0.5091 - val_acc: 0.8608\n",
            "Epoch 10/10\n",
            "157/157 [==============================] - 412s 3s/step - loss: 0.1586 - acc: 0.9445 - val_loss: 0.5011 - val_acc: 0.8698\n"
          ],
          "name": "stdout"
        }
      ]
    },
    {
      "cell_type": "code",
      "metadata": {
        "id": "9Ep6rrHJFQvr"
      },
      "source": [
        ""
      ],
      "execution_count": null,
      "outputs": []
    },
    {
      "cell_type": "code",
      "metadata": {
        "id": "GtYJ0kZ7FQ5C"
      },
      "source": [
        ""
      ],
      "execution_count": null,
      "outputs": []
    },
    {
      "cell_type": "markdown",
      "metadata": {
        "id": "vlvT2NgDbAkU"
      },
      "source": [
        "## 스태킹 순환 층\n",
        "\n",
        "순환 층을 차례대로 쌓으려면 모든 중간 층은 전체 시퀀스(3D 텐서)를 출력해야 함 `return_sequences=True`로 지정"
      ]
    },
    {
      "cell_type": "code",
      "metadata": {
        "id": "gLghGNx2I2md"
      },
      "source": [
        ""
      ],
      "execution_count": null,
      "outputs": []
    },
    {
      "cell_type": "code",
      "metadata": {
        "id": "gNIjLns8bAkV",
        "outputId": "f84c6244-d703-48e6-8263-696737e104f1",
        "colab": {
          "base_uri": "https://localhost:8080/",
          "height": 448
        }
      },
      "source": [
        "from keras.models import Sequential\n",
        "from keras import layers\n",
        "\n",
        "model = Sequential()\n",
        "model.add(Embedding(max_features, 32))\n",
        "model.add(layers.GRU(32, dropout=0.1,recurrent_dropout=0.5,return_sequences=True))\n",
        "model.add(layers.GRU(64, dropout=0.1, recurrent_dropout=0.5))\n",
        "model.add(layers.Dense(1, activation='sigmoid'))\n",
        "\n",
        "model.compile(optimizer='rmsprop',\n",
        "              loss='binary_crossentropy',\n",
        "              metrics=['acc'])\n",
        "\n",
        "history = model.fit(input_train, y_train,\n",
        "                    epochs=10,\n",
        "                    batch_size=128,\n",
        "                    validation_split=0.2)"
      ],
      "execution_count": 8,
      "outputs": [
        {
          "output_type": "stream",
          "text": [
            "WARNING:tensorflow:Layer gru will not use cuDNN kernel since it doesn't meet the cuDNN kernel criteria. It will use generic GPU kernel as fallback when running on GPU\n",
            "WARNING:tensorflow:Layer gru_1 will not use cuDNN kernel since it doesn't meet the cuDNN kernel criteria. It will use generic GPU kernel as fallback when running on GPU\n",
            "Epoch 1/10\n",
            "157/157 [==============================] - 727s 5s/step - loss: 0.5248 - acc: 0.7242 - val_loss: 0.5864 - val_acc: 0.7186\n",
            "Epoch 2/10\n",
            "157/157 [==============================] - 722s 5s/step - loss: 0.3460 - acc: 0.8540 - val_loss: 0.3998 - val_acc: 0.8138\n",
            "Epoch 3/10\n",
            "157/157 [==============================] - 726s 5s/step - loss: 0.2846 - acc: 0.8846 - val_loss: 0.3920 - val_acc: 0.8302\n",
            "Epoch 4/10\n",
            "157/157 [==============================] - 737s 5s/step - loss: 0.2537 - acc: 0.8995 - val_loss: 0.3246 - val_acc: 0.8646\n",
            "Epoch 5/10\n",
            "157/157 [==============================] - 733s 5s/step - loss: 0.2202 - acc: 0.9159 - val_loss: 0.3632 - val_acc: 0.8504\n",
            "Epoch 6/10\n",
            "157/157 [==============================] - 732s 5s/step - loss: 0.1990 - acc: 0.9254 - val_loss: 0.4502 - val_acc: 0.8304\n",
            "Epoch 7/10\n",
            "157/157 [==============================] - 729s 5s/step - loss: 0.1874 - acc: 0.9306 - val_loss: 0.3460 - val_acc: 0.8690\n",
            "Epoch 8/10\n",
            "157/157 [==============================] - 727s 5s/step - loss: 0.1652 - acc: 0.9401 - val_loss: 0.3312 - val_acc: 0.8782\n",
            "Epoch 9/10\n",
            "157/157 [==============================] - 723s 5s/step - loss: 0.1581 - acc: 0.9415 - val_loss: 0.6347 - val_acc: 0.7968\n",
            "Epoch 10/10\n",
            "157/157 [==============================] - 708s 5s/step - loss: 0.1459 - acc: 0.9475 - val_loss: 0.3955 - val_acc: 0.8670\n"
          ],
          "name": "stdout"
        }
      ]
    },
    {
      "cell_type": "markdown",
      "metadata": {
        "id": "oboftl_mbAkh"
      },
      "source": [
        "## Loss"
      ]
    },
    {
      "cell_type": "code",
      "metadata": {
        "id": "umGOBsz1bAki",
        "outputId": "00e7a9a1-ff6e-427d-a8e0-8f48f74fd344",
        "colab": {
          "base_uri": "https://localhost:8080/",
          "height": 281
        }
      },
      "source": [
        "import matplotlib.pyplot as plt\n",
        "\n",
        "loss = history.history['loss']\n",
        "val_loss = history.history['val_loss']\n",
        "\n",
        "epochs = range(1, len(loss) + 1)\n",
        "\n",
        "plt.figure()\n",
        "\n",
        "plt.plot(epochs, loss, 'bo', label='Training loss')\n",
        "plt.plot(epochs, val_loss, 'b', label='Validation loss')\n",
        "plt.title('Training and validation loss')\n",
        "plt.legend()\n",
        "\n",
        "plt.show()"
      ],
      "execution_count": 11,
      "outputs": [
        {
          "output_type": "display_data",
          "data": {
            "image/png": "[encoded data removed]",
            "text/plain": [
              "<Figure size 432x288 with 1 Axes>"
            ]
          },
          "metadata": {
            "tags": [],
            "needs_background": "light"
          }
        }
      ]
    },
    {
      "cell_type": "markdown",
      "metadata": {
        "id": "IblcF8JQbAkk"
      },
      "source": [
        "층을 추가하여 성능을 조금 향상"
      ]
    },
    {
      "cell_type": "markdown",
      "metadata": {
        "id": "x5M0pGhkbAkk"
      },
      "source": [
        "## 양방향 RNN\n",
        "\n",
        "- 입력 시퀀스를 뒤집음(순서를 역으로)\n",
        "- LSTM 적용"
      ]
    },
    {
      "cell_type": "code",
      "metadata": {
        "id": "KU4TfjCrbAkp",
        "outputId": "284f76af-2b21-496b-cd9e-a76f3ea17731",
        "colab": {
          "base_uri": "https://localhost:8080/",
          "height": 428
        }
      },
      "source": [
        "from keras.datasets import imdb\n",
        "from keras.preprocessing import sequence\n",
        "from keras import layers\n",
        "from keras.models import Sequential\n",
        "\n",
        "# 특성으로 사용할 단어의 수\n",
        "max_features = 10000\n",
        "# 사용할 텍스트의 길이(가장 빈번한 max_features 개의 단어만 사용)\n",
        "maxlen = 500\n",
        "\n",
        "# 데이터 로드\n",
        "(x_train, y_train), (x_test, y_test) = imdb.load_data(num_words=max_features)\n",
        "\n",
        "# 시퀀스를 뒤집습니다\n",
        "x_train = [x[::-1] for x in x_train]\n",
        "x_test = [x[::-1] for x in x_test]\n",
        "\n",
        "# 시퀀스에 패딩을 추가합니다\n",
        "x_train = sequence.pad_sequences(x_train, maxlen=maxlen)\n",
        "x_test = sequence.pad_sequences(x_test, maxlen=maxlen)\n",
        "\n",
        "model = Sequential()\n",
        "model.add(layers.Embedding(max_features, 128))\n",
        "model.add(layers.LSTM(32))\n",
        "model.add(layers.Dense(1, activation='sigmoid'))\n",
        "\n",
        "model.compile(optimizer='rmsprop',\n",
        "              loss='binary_crossentropy',\n",
        "              metrics=['acc'])\n",
        "history = model.fit(x_train, y_train,\n",
        "                    epochs=10,\n",
        "                    batch_size=128,\n",
        "                    validation_split=0.2)"
      ],
      "execution_count": 2,
      "outputs": [
        {
          "output_type": "stream",
          "text": [
            "Downloading data from https://storage.googleapis.com/tensorflow/tf-keras-datasets/imdb.npz\n",
            "17465344/17464789 [==============================] - 0s 0us/step\n",
            "Epoch 1/10\n",
            "157/157 [==============================] - 18s 116ms/step - loss: 0.4940 - acc: 0.7599 - val_loss: 0.4607 - val_acc: 0.8264\n",
            "Epoch 2/10\n",
            "157/157 [==============================] - 17s 108ms/step - loss: 0.3110 - acc: 0.8816 - val_loss: 0.4438 - val_acc: 0.8222\n",
            "Epoch 3/10\n",
            "157/157 [==============================] - 17s 108ms/step - loss: 0.2512 - acc: 0.9086 - val_loss: 0.3371 - val_acc: 0.8562\n",
            "Epoch 4/10\n",
            "157/157 [==============================] - 17s 108ms/step - loss: 0.2143 - acc: 0.9237 - val_loss: 0.3511 - val_acc: 0.8572\n",
            "Epoch 5/10\n",
            "157/157 [==============================] - 17s 108ms/step - loss: 0.1852 - acc: 0.9323 - val_loss: 0.3397 - val_acc: 0.8688\n",
            "Epoch 6/10\n",
            "157/157 [==============================] - 17s 108ms/step - loss: 0.1668 - acc: 0.9424 - val_loss: 0.3729 - val_acc: 0.8748\n",
            "Epoch 7/10\n",
            "157/157 [==============================] - 17s 108ms/step - loss: 0.1430 - acc: 0.9492 - val_loss: 0.4958 - val_acc: 0.8210\n",
            "Epoch 8/10\n",
            "157/157 [==============================] - 17s 107ms/step - loss: 0.1329 - acc: 0.9546 - val_loss: 0.4951 - val_acc: 0.8572\n",
            "Epoch 9/10\n",
            "157/157 [==============================] - 17s 107ms/step - loss: 0.1172 - acc: 0.9600 - val_loss: 0.3891 - val_acc: 0.8638\n",
            "Epoch 10/10\n",
            "157/157 [==============================] - 17s 106ms/step - loss: 0.1073 - acc: 0.9639 - val_loss: 0.5574 - val_acc: 0.8578\n"
          ],
          "name": "stdout"
        }
      ]
    },
    {
      "cell_type": "markdown",
      "metadata": {
        "id": "_byZAlhObAkq"
      },
      "source": [
        "시간 순서로 훈련한 LSTM과 거의 동일한 성능 => 양방향 RNN은 성능을 향상시킴"
      ]
    },
    {
      "cell_type": "code",
      "metadata": {
        "id": "HNGmjfg0bAks"
      },
      "source": [
        "from keras import backend as K\n",
        "K.clear_session()"
      ],
      "execution_count": 3,
      "outputs": []
    },
    {
      "cell_type": "code",
      "metadata": {
        "id": "J0MEZ0z0bAkt",
        "outputId": "9572692e-45ac-4195-b234-e191e56a54b9",
        "colab": {
          "base_uri": "https://localhost:8080/",
          "height": 391
        }
      },
      "source": [
        "model = Sequential()\n",
        "model.add(layers.Embedding(max_features, 32))\n",
        "model.add(layers.Bidirectional(layers.LSTM(32)))\n",
        "model.add(layers.Dense(1, activation='sigmoid'))\n",
        "\n",
        "model.compile(optimizer='rmsprop', loss='binary_crossentropy', metrics=['acc'])\n",
        "history = model.fit(x_train, y_train, epochs=10, batch_size=128, validation_split=0.2)"
      ],
      "execution_count": 4,
      "outputs": [
        {
          "output_type": "stream",
          "text": [
            "Epoch 1/10\n",
            "157/157 [==============================] - 30s 190ms/step - loss: 0.5477 - acc: 0.7167 - val_loss: 0.3697 - val_acc: 0.8516\n",
            "Epoch 2/10\n",
            "157/157 [==============================] - 29s 185ms/step - loss: 0.3243 - acc: 0.8786 - val_loss: 0.3275 - val_acc: 0.8656\n",
            "Epoch 3/10\n",
            "157/157 [==============================] - 29s 183ms/step - loss: 0.2630 - acc: 0.9023 - val_loss: 0.3535 - val_acc: 0.8608\n",
            "Epoch 4/10\n",
            "157/157 [==============================] - 29s 182ms/step - loss: 0.2264 - acc: 0.9186 - val_loss: 0.4250 - val_acc: 0.8700\n",
            "Epoch 5/10\n",
            "157/157 [==============================] - 29s 182ms/step - loss: 0.2016 - acc: 0.9267 - val_loss: 0.4480 - val_acc: 0.8708\n",
            "Epoch 6/10\n",
            "157/157 [==============================] - 29s 183ms/step - loss: 0.1812 - acc: 0.9363 - val_loss: 0.3616 - val_acc: 0.8820\n",
            "Epoch 7/10\n",
            "157/157 [==============================] - 29s 185ms/step - loss: 0.1634 - acc: 0.9438 - val_loss: 0.3570 - val_acc: 0.8578\n",
            "Epoch 8/10\n",
            "157/157 [==============================] - 29s 184ms/step - loss: 0.1498 - acc: 0.9487 - val_loss: 0.4194 - val_acc: 0.8698\n",
            "Epoch 9/10\n",
            "157/157 [==============================] - 29s 184ms/step - loss: 0.1373 - acc: 0.9538 - val_loss: 0.3617 - val_acc: 0.8752\n",
            "Epoch 10/10\n",
            "157/157 [==============================] - 29s 184ms/step - loss: 0.1247 - acc: 0.9590 - val_loss: 0.4321 - val_acc: 0.8620\n"
          ],
          "name": "stdout"
        }
      ]
    },
    {
      "cell_type": "markdown",
      "metadata": {
        "id": "io7A3XbKbAkv"
      },
      "source": [
        "- 여기서 얻은 검증 정확도는 88% 정도로 앞서 사용했던 일반 LSTM보다 조금 더 성능이 높음.\n",
        "- 이 모델은 조금 더 일찍 과대적합.\n",
        "- 양방향 순환 층이 단방향 LSTM보다 모델 파라미터가 두 배 많기 때문\n",
        "- 규제를 조금 추가한다면 양항뱡 순환 층을 사용하는 것이 이 작업에 더 적합\n",
        "\n"
      ]
    },
    {
      "cell_type": "code",
      "metadata": {
        "id": "nyh4G9KrD2b0"
      },
      "source": [
        ""
      ],
      "execution_count": null,
      "outputs": []
    },
    {
      "cell_type": "markdown",
      "metadata": {
        "id": "IWVOPD-bbAkO"
      },
      "source": [
        "## 과대적합 감소를 위해 순환 드롭아웃 사용하기\n",
        "\n",
        "- dropout은 층의 입력에 대한 드롭아웃 비율을 정하는 부동 소수 값\n",
        "- recurrent_dropout은 순환 상태의 드롭아웃 비율을 정함"
      ]
    },
    {
      "cell_type": "code",
      "metadata": {
        "id": "ZTPetnoC3HDX"
      },
      "source": [
        "# 데이터 로드\n",
        "(x_train, y_train), (x_test, y_test) = imdb.load_data(num_words=max_features)\n",
        "# 시퀀스에 패딩을 추가합니다\n",
        "x_train = sequence.pad_sequences(x_train, maxlen=maxlen)\n",
        "x_test = sequence.pad_sequences(x_test, maxlen=maxlen)\n"
      ],
      "execution_count": 15,
      "outputs": []
    },
    {
      "cell_type": "code",
      "metadata": {
        "id": "X_iY88dKbAkQ",
        "outputId": "66475c2a-87fa-474d-d9ed-24cbdfebfb7a",
        "colab": {
          "base_uri": "https://localhost:8080/",
          "height": 131
        }
      },
      "source": [
        "from keras import backend as K\n",
        "K.clear_session()\n",
        "\n",
        "from keras.models import Sequential\n",
        "from keras import layers\n",
        "\n",
        "model = Sequential()\n",
        "model.add(layers.Embedding(max_features, 32))\n",
        "model.add(layers.Bidirectional(layers.LSTM(32,dropout=0.2,recurrent_dropout=0.2)))\n",
        "model.add(layers.Dense(1, activation='sigmoid'))\n",
        "\n",
        "model.compile(optimizer='rmsprop', loss='binary_crossentropy', metrics=['acc'])\n",
        "history = model.fit(x_train, y_train, epochs=10, batch_size=128, validation_split=0.2)\n"
      ],
      "execution_count": null,
      "outputs": [
        {
          "output_type": "stream",
          "text": [
            "WARNING:tensorflow:Layer lstm will not use cuDNN kernel since it doesn't meet the cuDNN kernel criteria. It will use generic GPU kernel as fallback when running on GPU\n",
            "WARNING:tensorflow:Layer lstm will not use cuDNN kernel since it doesn't meet the cuDNN kernel criteria. It will use generic GPU kernel as fallback when running on GPU\n",
            "WARNING:tensorflow:Layer lstm will not use cuDNN kernel since it doesn't meet the cuDNN kernel criteria. It will use generic GPU kernel as fallback when running on GPU\n",
            "Epoch 1/10\n",
            "  3/157 [..............................] - ETA: 8:55 - loss: 0.6924 - acc: 0.5156"
          ],
          "name": "stdout"
        }
      ]
    },
    {
      "cell_type": "code",
      "metadata": {
        "id": "ml04xDm3bAkR"
      },
      "source": [
        "loss = history.history['loss']\n",
        "val_loss = history.history['val_loss']\n",
        "\n",
        "epochs = range(1, len(loss) + 1)\n",
        "\n",
        "plt.figure()\n",
        "\n",
        "plt.plot(epochs, loss, 'bo', label='Training loss')\n",
        "plt.plot(epochs, val_loss, 'b', label='Validation loss')\n",
        "plt.title('Training and validation loss')\n",
        "plt.legend()\n",
        "\n",
        "plt.show()"
      ],
      "execution_count": null,
      "outputs": []
    }
  ]
}