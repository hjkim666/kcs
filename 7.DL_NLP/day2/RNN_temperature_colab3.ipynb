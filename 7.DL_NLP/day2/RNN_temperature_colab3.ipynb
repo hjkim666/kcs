{
  "nbformat": 4,
  "nbformat_minor": 0,
  "metadata": {
    "colab": {
      "name": "RNN_temperature_colab3.ipynb",
      "provenance": [],
      "collapsed_sections": []
    },
    "kernelspec": {
      "name": "python3",
      "display_name": "Python 3"
    },
    "accelerator": "GPU"
  },
  "cells": [
    {
      "cell_type": "code",
      "metadata": {
        "id": "cD7jHUL5bVj-",
        "outputId": "c6ae190f-fefa-497d-a72b-21b8c3b8da3f",
        "colab": {
          "base_uri": "https://localhost:8080/",
          "height": 36
        }
      },
      "source": [
        "from google.colab import drive\n",
        "drive.mount('/gdrive', force_remount=True)"
      ],
      "execution_count": 3,
      "outputs": [
        {
          "output_type": "stream",
          "text": [
            "Mounted at /gdrive\n"
          ],
          "name": "stdout"
        }
      ]
    },
    {
      "cell_type": "code",
      "metadata": {
        "id": "29op5HOr5Dc2",
        "outputId": "be29b35b-e123-42db-b08e-ea590dd4ee14",
        "colab": {
          "base_uri": "https://localhost:8080/",
          "height": 36
        }
      },
      "source": [
        "!ls '/gdrive/My Drive/datasets/jena_climate/'"
      ],
      "execution_count": 4,
      "outputs": [
        {
          "output_type": "stream",
          "text": [
            "jena_climate_2009_2016.csv\n"
          ],
          "name": "stdout"
        }
      ]
    },
    {
      "cell_type": "code",
      "metadata": {
        "id": "EVPtpuKtba0F"
      },
      "source": [
        "data_dir = '/gdrive/My Drive/datasets/jena_climate/'"
      ],
      "execution_count": 5,
      "outputs": []
    },
    {
      "cell_type": "code",
      "metadata": {
        "id": "61TFyCO8bAjd",
        "outputId": "f00f47c8-3e9d-43b3-94e8-4b23c4b2e413",
        "colab": {
          "base_uri": "https://localhost:8080/",
          "height": 36
        }
      },
      "source": [
        "import keras\n",
        "keras.__version__"
      ],
      "execution_count": 6,
      "outputs": [
        {
          "output_type": "execute_result",
          "data": {
            "application/vnd.google.colaboratory.intrinsic+json": {
              "type": "string"
            },
            "text/plain": [
              "'2.4.3'"
            ]
          },
          "metadata": {
            "tags": []
          },
          "execution_count": 6
        }
      ]
    },
    {
      "cell_type": "markdown",
      "metadata": {
        "id": "27Rgp3GkbAjh"
      },
      "source": [
        "# RNN 성능향상\n",
        "\n",
        "* 순환 드롭아웃 : 순환 층에서 과대적합을 방지하기 위해 케라스에 내장되어 있는 드롭아웃\n",
        "* 순환 층 스태킹 : 네트워크의 표현 능력을 증가(대신 계산 비용이 많이 듭니다).\n",
        "* 양방향 순환 층 : 순환 네트워크에 같은 정보를 다른 방향으로 주입하여 정확도를 높이고 기억을 좀 더 오래 유지"
      ]
    },
    {
      "cell_type": "code",
      "metadata": {
        "id": "QgZ8VTQ5l26q"
      },
      "source": [
        ""
      ],
      "execution_count": null,
      "outputs": []
    },
    {
      "cell_type": "markdown",
      "metadata": {
        "id": "5n0gZTrFbAji"
      },
      "source": [
        "## 기온 예측 문제\n",
        "독일 예나 시의 막스 플랑크 생물지구화학 연구소( http://www.bgc-jena.mpg.de/wetter/ )의 지상 관측소에서 수집한 날씨데이터\n",
        "\n",
        "- 2009~2016년 사이의 데이터만 사용\n",
        "- 기온, 기압, 습도, 풍향 등과 같은 14개의 관측치가 10분마다 기록\n",
        "- 24시간 이후의 기온을 예측"
      ]
    },
    {
      "cell_type": "markdown",
      "metadata": {
        "id": "W_vCTEnWfBAz"
      },
      "source": [
        ""
      ]
    },
    {
      "cell_type": "code",
      "metadata": {
        "id": "X5N5vuZvbAjj",
        "outputId": "9e49a13d-8392-49af-a97f-69925e4e2057",
        "colab": {
          "base_uri": "https://localhost:8080/",
          "height": 75
        }
      },
      "source": [
        "import os\n",
        "\n",
        "#data_dir = './datasets/jena_climate/'\n",
        "fname = os.path.join(data_dir, 'jena_climate_2009_2016.csv')\n",
        "\n",
        "f = open(fname)\n",
        "data = f.read()\n",
        "f.close()\n",
        "\n",
        "lines = data.split('\\n')\n",
        "header = lines[0].split(',')\n",
        "lines = lines[1:]\n",
        "\n",
        "print(header)\n",
        "print(len(lines))"
      ],
      "execution_count": 7,
      "outputs": [
        {
          "output_type": "stream",
          "text": [
            "['\"Date Time\"', '\"p (mbar)\"', '\"T (degC)\"', '\"Tpot (K)\"', '\"Tdew (degC)\"', '\"rh (%)\"', '\"VPmax (mbar)\"', '\"VPact (mbar)\"', '\"VPdef (mbar)\"', '\"sh (g/kg)\"', '\"H2OC (mmol/mol)\"', '\"rho (g/m**3)\"', '\"wv (m/s)\"', '\"max. wv (m/s)\"', '\"wd (deg)\"']\n",
            "420551\n"
          ],
          "name": "stdout"
        }
      ]
    },
    {
      "cell_type": "code",
      "metadata": {
        "id": "Q6uiZYNof-oV",
        "outputId": "3104335d-7a0d-4c19-8873-d6f7ec6a72a9",
        "colab": {
          "base_uri": "https://localhost:8080/",
          "height": 204
        }
      },
      "source": [
        "lines[:10]"
      ],
      "execution_count": 8,
      "outputs": [
        {
          "output_type": "execute_result",
          "data": {
            "text/plain": [
              "['01.01.2009 00:10:00,996.52,-8.02,265.40,-8.90,93.30,3.33,3.11,0.22,1.94,3.12,1307.75,1.03,1.75,152.30',\n",
              " '01.01.2009 00:20:00,996.57,-8.41,265.01,-9.28,93.40,3.23,3.02,0.21,1.89,3.03,1309.80,0.72,1.50,136.10',\n",
              " '01.01.2009 00:30:00,996.53,-8.51,264.91,-9.31,93.90,3.21,3.01,0.20,1.88,3.02,1310.24,0.19,0.63,171.60',\n",
              " '01.01.2009 00:40:00,996.51,-8.31,265.12,-9.07,94.20,3.26,3.07,0.19,1.92,3.08,1309.19,0.34,0.50,198.00',\n",
              " '01.01.2009 00:50:00,996.51,-8.27,265.15,-9.04,94.10,3.27,3.08,0.19,1.92,3.09,1309.00,0.32,0.63,214.30',\n",
              " '01.01.2009 01:00:00,996.50,-8.05,265.38,-8.78,94.40,3.33,3.14,0.19,1.96,3.15,1307.86,0.21,0.63,192.70',\n",
              " '01.01.2009 01:10:00,996.50,-7.62,265.81,-8.30,94.80,3.44,3.26,0.18,2.04,3.27,1305.68,0.18,0.63,166.50',\n",
              " '01.01.2009 01:20:00,996.50,-7.62,265.81,-8.36,94.40,3.44,3.25,0.19,2.03,3.26,1305.69,0.19,0.50,118.60',\n",
              " '01.01.2009 01:30:00,996.50,-7.91,265.52,-8.73,93.80,3.36,3.15,0.21,1.97,3.16,1307.17,0.28,0.75,188.50',\n",
              " '01.01.2009 01:40:00,996.53,-8.43,264.99,-9.34,93.10,3.23,3.00,0.22,1.88,3.02,1309.85,0.59,0.88,185.00']"
            ]
          },
          "metadata": {
            "tags": []
          },
          "execution_count": 8
        }
      ]
    },
    {
      "cell_type": "markdown",
      "metadata": {
        "id": "ObWyFkrtbAjl"
      },
      "source": [
        "420,551개 데이터 전체를 넘파이 배열로 변경"
      ]
    },
    {
      "cell_type": "code",
      "metadata": {
        "id": "xmzyN5CHbAjm"
      },
      "source": [
        "import numpy as np\n",
        "\n",
        "float_data = np.zeros((len(lines), len(header) - 1))\n",
        "for i, line in enumerate(lines):\n",
        "    values = [float(x) for x in line.split(',')[1:]]\n",
        "    float_data[i, :] = values"
      ],
      "execution_count": 9,
      "outputs": []
    },
    {
      "cell_type": "code",
      "metadata": {
        "id": "O84KXmrLpEGd",
        "outputId": "cbf51fdc-e7b3-4e8f-adf5-27516aef702b",
        "colab": {
          "base_uri": "https://localhost:8080/",
          "height": 36
        }
      },
      "source": [
        "float_data.shape"
      ],
      "execution_count": 10,
      "outputs": [
        {
          "output_type": "execute_result",
          "data": {
            "text/plain": [
              "(420551, 14)"
            ]
          },
          "metadata": {
            "tags": []
          },
          "execution_count": 10
        }
      ]
    },
    {
      "cell_type": "markdown",
      "metadata": {
        "id": "1EqqdbUGbAjo"
      },
      "source": [
        "시간에 따른 기온(섭씨) 그래프"
      ]
    },
    {
      "cell_type": "code",
      "metadata": {
        "id": "J75DPsIcbAjp"
      },
      "source": [
        "from matplotlib import pyplot as plt"
      ],
      "execution_count": 11,
      "outputs": []
    },
    {
      "cell_type": "code",
      "metadata": {
        "id": "eTgZF1FabAjq",
        "outputId": "b5e0cdf0-f001-4eb8-aa60-7f4415557301",
        "colab": {
          "base_uri": "https://localhost:8080/",
          "height": 268
        }
      },
      "source": [
        "temp = float_data[:, 1]  # 온도(섭씨)\n",
        "plt.plot(range(len(temp)), temp)\n",
        "plt.show()"
      ],
      "execution_count": 12,
      "outputs": [
        {
          "output_type": "display_data",
          "data": {
            "image/png": "[encoded data removed]",
            "text/plain": [
              "<Figure size 432x288 with 1 Axes>"
            ]
          },
          "metadata": {
            "tags": [],
            "needs_background": "light"
          }
        }
      ]
    },
    {
      "cell_type": "markdown",
      "metadata": {
        "id": "IggYnt0ebAjt"
      },
      "source": [
        "그래프에서 온도에 주기성이 있음\n",
        "\n",
        "기간을 좁혀서 처음 10일간의 온도 데이터를 나타낸 그래프\n",
        " - 10분마다 데이터가 기록되므로 하루에 총 144개의 데이터 포인트가 존재"
      ]
    },
    {
      "cell_type": "code",
      "metadata": {
        "id": "ynWflW0cbAjt",
        "outputId": "314b976b-00dc-44c6-84e6-b8417338784f",
        "colab": {
          "base_uri": "https://localhost:8080/",
          "height": 265
        }
      },
      "source": [
        "plt.plot(range(1440), temp[:1440])\n",
        "plt.show()"
      ],
      "execution_count": 12,
      "outputs": [
        {
          "output_type": "display_data",
          "data": {
            "image/png": "[encoded data removed]",
            "text/plain": [
              "<Figure size 432x288 with 1 Axes>"
            ]
          },
          "metadata": {
            "tags": [],
            "needs_background": "light"
          }
        }
      ]
    },
    {
      "cell_type": "markdown",
      "metadata": {
        "id": "vWg38f9ibAjw"
      },
      "source": [
        "## Preparing the data\n",
        "\n",
        "* `lookback = 1440` : 10일 전 데이터로 돌아감\n",
        "* `steps = 6` : 한 시간마다 데이터 포인트 하나를 샘플링\n",
        "* `delay = 144` : 24시간이 지난 데이터가 타깃이 됨\n",
        "\n",
        "시작하기 전에 두 가지 작업\n",
        "\n",
        "* 각 시계열 특성에 대해 평균을 빼고 표준 편차로 나누어 전처리\n",
        "* float_data 배열을 받아 과거 데이터의 배치와 미래 타깃 온도를 추출하는 파이썬 제너레이터 작성\n",
        "\n",
        "처음 200,000개 타임스텝을 훈련 데이터로 사용할 것이므로 전체 데이터에서 200,000개만 사용하여 평균과 표준 편차를 계산"
      ]
    },
    {
      "cell_type": "code",
      "metadata": {
        "id": "xHPX55nHbAjx"
      },
      "source": [
        "mean = float_data[:200000].mean(axis=0)\n",
        "float_data -= mean\n",
        "std = float_data[:200000].std(axis=0)\n",
        "float_data /= std"
      ],
      "execution_count": 13,
      "outputs": []
    },
    {
      "cell_type": "markdown",
      "metadata": {
        "id": "g9lFK8JqbAjz"
      },
      "source": [
        "제너레이터 함수의 매개변수\n",
        "\n",
        "* `data` : 코드 6-32에서 정규화한 부동 소수 데이터로 이루어진 원본 배열\n",
        "* `lookback` : 입력으로 사용하기 위해 거슬러 올라갈 타임스텝\n",
        "* `delay` : 타깃으로 사용할 미래의 타임스텝\n",
        "* `min_index`와 `max_index` : 추출할 타임스텝의 범위를 지정하기 위한 `data` 배열의 인덱스. 검증 데이터와 테스트 데이터를 분리하는 데 사용합니다.\n",
        "* `shuffle` : 샘플을 섞을지 시간 순서대로 추출할지 결정\n",
        "* `batch_size` : 배치의 샘플 수\n",
        "* `step` : 데이터를 샘플링할 타임스텝 간격. 한 시간에 하나의 데이터 포인트를 추출하기 위해 6으로 지정"
      ]
    },
    {
      "cell_type": "code",
      "metadata": {
        "id": "OltERnT1bAj0"
      },
      "source": [
        "def generator(data, lookback, delay, min_index, max_index,\n",
        "              shuffle=False, batch_size=128, step=6):\n",
        "    if max_index is None:\n",
        "        max_index = len(data) - delay - 1\n",
        "    i = min_index + lookback\n",
        "    while 1:\n",
        "        if shuffle:\n",
        "            rows = np.random.randint(\n",
        "                min_index + lookback, max_index, size=batch_size)\n",
        "        else:\n",
        "            if i + batch_size >= max_index:\n",
        "                i = min_index + lookback\n",
        "            rows = np.arange(i, min(i + batch_size, max_index))\n",
        "            i += len(rows)\n",
        "\n",
        "        samples = np.zeros((len(rows),\n",
        "                           lookback // step,\n",
        "                           data.shape[-1]))\n",
        "        targets = np.zeros((len(rows),))\n",
        "        for j, row in enumerate(rows):\n",
        "            indices = range(rows[j] - lookback, rows[j], step)\n",
        "            samples[j] = data[indices]\n",
        "            targets[j] = data[rows[j] + delay][1]\n",
        "        yield samples, targets"
      ],
      "execution_count": 13,
      "outputs": []
    },
    {
      "cell_type": "markdown",
      "metadata": {
        "id": "u-bF8OpPbAj1"
      },
      "source": [
        "이제 generator 함수를 사용해 훈련용, 검증용, 테스트용으로 세 개의 제너레이터 작성 \n",
        "\n",
        "각 제너레이터는 원본 데이터에서 다른 시간대를 사용\n",
        "- 훈련 제너레이터는 처음 200,000개 타임스텝을 사용\n",
        "- 검증 제너레이터는 그 다음 100,000개를 사용\n",
        "- 테스트 제너레이터는 나머지를 사용"
      ]
    },
    {
      "cell_type": "code",
      "metadata": {
        "id": "Pr9uxtH6bAj2"
      },
      "source": [
        "lookback = 1440  #10일\n",
        "step = 6         #1시간\n",
        "delay = 144      #1일\n",
        "batch_size = 128\n",
        "\n",
        "train_gen = generator(float_data,\n",
        "                      lookback=lookback,\n",
        "                      delay=delay,\n",
        "                      min_index=0,\n",
        "                      max_index=200000,\n",
        "                      shuffle=True,\n",
        "                      step=step, \n",
        "                      batch_size=batch_size)\n",
        "val_gen = generator(float_data,\n",
        "                    lookback=lookback,\n",
        "                    delay=delay,\n",
        "                    min_index=200001,\n",
        "                    max_index=300000,\n",
        "                    step=step,\n",
        "                    batch_size=batch_size)\n",
        "test_gen = generator(float_data,\n",
        "                     lookback=lookback,\n",
        "                     delay=delay,\n",
        "                     min_index=300001,\n",
        "                     max_index=None,\n",
        "                     step=step,\n",
        "                     batch_size=batch_size)\n",
        "\n",
        "# 전체 검증 세트를 순회하기 위해 val_gen에서 추출할 횟수\n",
        "val_steps = (300000 - 200001 \n",
        "             - lookback) // batch_size\n",
        "\n",
        "# 전체 테스트 세트를 순회하기 위해 test_gen에서 추출할 횟수\n",
        "test_steps = (len(float_data) \n",
        "              - 300001 - lookback) // batch_size"
      ],
      "execution_count": 14,
      "outputs": []
    },
    {
      "cell_type": "markdown",
      "metadata": {
        "id": "-oHy1jOcbAj3"
      },
      "source": [
        "## 상식 수준의 기준점\n",
        "\n",
        "- 지금으로부터 24시간 후의 온도는 지금과 동일하다고 예측하는 것\n",
        "- 평균 절댓값 오차(MAE)로 평가"
      ]
    },
    {
      "cell_type": "markdown",
      "metadata": {
        "id": "6r1REMT0bAj4"
      },
      "source": [
        "```python\n",
        "np.mean(np.abs(preds - targets))\n",
        "```"
      ]
    },
    {
      "cell_type": "code",
      "metadata": {
        "id": "QtlUlROWfSx3"
      },
      "source": [
        ""
      ],
      "execution_count": null,
      "outputs": []
    },
    {
      "cell_type": "markdown",
      "metadata": {
        "id": "77Jt1ECGbAj5"
      },
      "source": [
        "다음은 평가를 위한 반복 루프입니다:"
      ]
    },
    {
      "cell_type": "code",
      "metadata": {
        "id": "zDc_z_GybAj6",
        "outputId": "ba994102-fd67-49c3-802f-e0e3afbbed27",
        "colab": {
          "base_uri": "https://localhost:8080/",
          "height": 36
        }
      },
      "source": [
        "def evaluate_naive_method():\n",
        "    batch_maes = []\n",
        "    for step in range(val_steps):\n",
        "        samples, targets = next(val_gen)\n",
        "        preds = samples[:, -1, 1]\n",
        "        mae = np.mean(np.abs(preds - targets))\n",
        "        batch_maes.append(mae)\n",
        "    print(np.mean(batch_maes))\n",
        "    \n",
        "evaluate_naive_method()"
      ],
      "execution_count": 15,
      "outputs": [
        {
          "output_type": "stream",
          "text": [
            "2.564887434980494\n"
          ],
          "name": "stdout"
        }
      ]
    },
    {
      "cell_type": "code",
      "metadata": {
        "id": "LnObzpSKbAj9",
        "outputId": "0039411e-b923-4766-f35d-0c8027dc5a57",
        "colab": {
          "base_uri": "https://localhost:8080/",
          "height": 36
        }
      },
      "source": [
        "0.29 * std[1]"
      ],
      "execution_count": 17,
      "outputs": [
        {
          "output_type": "execute_result",
          "data": {
            "text/plain": [
              "2.5672247338393395"
            ]
          },
          "metadata": {
            "tags": []
          },
          "execution_count": 17
        }
      ]
    },
    {
      "cell_type": "markdown",
      "metadata": {
        "id": "jqJECPTEbAkA"
      },
      "source": [
        "- 출력된 MAE는 0.29. 이 온도 데이터는 평균이 0이고 표준 편차가 1\n",
        "- 평균 절댓값 오차 0.29에 표준 편차를 곱하면 섭씨 2.57°C. 평균 절댓값 오차가 큼"
      ]
    },
    {
      "cell_type": "markdown",
      "metadata": {
        "id": "lM23WY-SbAkB"
      },
      "source": [
        "## 기본적인 머신 러닝 방법\n"
      ]
    },
    {
      "cell_type": "code",
      "metadata": {
        "id": "E-Tmsb2lbAkB",
        "outputId": "1718d65d-fe4e-49e4-eeb4-358f5afaad5e",
        "colab": {
          "base_uri": "https://localhost:8080/",
          "height": 1000
        }
      },
      "source": [
        "from keras.models import Sequential\n",
        "from keras import layers\n",
        "from keras.optimizers import RMSprop\n",
        "\n",
        "model = Sequential()\n",
        "model.add(layers.Flatten(input_shape=\n",
        "                         (lookback // step, float_data.shape[-1])))\n",
        "model.add(layers.Dense(32, activation='relu'))\n",
        "model.add(layers.Dense(1))\n",
        "\n",
        "model.compile(optimizer=RMSprop(), loss='mae')\n",
        "history = model.fit_generator(train_gen,\n",
        "                              steps_per_epoch=500,\n",
        "                              epochs=20,\n",
        "                              validation_data=val_gen,\n",
        "                              validation_steps=val_steps)"
      ],
      "execution_count": null,
      "outputs": [
        {
          "output_type": "stream",
          "text": [
            "WARNING:tensorflow:From /usr/local/lib/python3.6/dist-packages/keras/backend/tensorflow_backend.py:66: The name tf.get_default_graph is deprecated. Please use tf.compat.v1.get_default_graph instead.\n",
            "\n",
            "WARNING:tensorflow:From /usr/local/lib/python3.6/dist-packages/keras/backend/tensorflow_backend.py:541: The name tf.placeholder is deprecated. Please use tf.compat.v1.placeholder instead.\n",
            "\n",
            "WARNING:tensorflow:From /usr/local/lib/python3.6/dist-packages/keras/backend/tensorflow_backend.py:4432: The name tf.random_uniform is deprecated. Please use tf.random.uniform instead.\n",
            "\n",
            "WARNING:tensorflow:From /usr/local/lib/python3.6/dist-packages/keras/optimizers.py:793: The name tf.train.Optimizer is deprecated. Please use tf.compat.v1.train.Optimizer instead.\n",
            "\n",
            "WARNING:tensorflow:From /usr/local/lib/python3.6/dist-packages/keras/backend/tensorflow_backend.py:1033: The name tf.assign_add is deprecated. Please use tf.compat.v1.assign_add instead.\n",
            "\n",
            "WARNING:tensorflow:From /usr/local/lib/python3.6/dist-packages/keras/backend/tensorflow_backend.py:1020: The name tf.assign is deprecated. Please use tf.compat.v1.assign instead.\n",
            "\n",
            "WARNING:tensorflow:From /usr/local/lib/python3.6/dist-packages/keras/backend/tensorflow_backend.py:3005: The name tf.Session is deprecated. Please use tf.compat.v1.Session instead.\n",
            "\n",
            "Epoch 1/20\n",
            "WARNING:tensorflow:From /usr/local/lib/python3.6/dist-packages/keras/backend/tensorflow_backend.py:190: The name tf.get_default_session is deprecated. Please use tf.compat.v1.get_default_session instead.\n",
            "\n",
            "WARNING:tensorflow:From /usr/local/lib/python3.6/dist-packages/keras/backend/tensorflow_backend.py:197: The name tf.ConfigProto is deprecated. Please use tf.compat.v1.ConfigProto instead.\n",
            "\n",
            "WARNING:tensorflow:From /usr/local/lib/python3.6/dist-packages/keras/backend/tensorflow_backend.py:207: The name tf.global_variables is deprecated. Please use tf.compat.v1.global_variables instead.\n",
            "\n",
            "WARNING:tensorflow:From /usr/local/lib/python3.6/dist-packages/keras/backend/tensorflow_backend.py:216: The name tf.is_variable_initialized is deprecated. Please use tf.compat.v1.is_variable_initialized instead.\n",
            "\n",
            "WARNING:tensorflow:From /usr/local/lib/python3.6/dist-packages/keras/backend/tensorflow_backend.py:223: The name tf.variables_initializer is deprecated. Please use tf.compat.v1.variables_initializer instead.\n",
            "\n",
            "500/500 [==============================] - 20s 40ms/step - loss: 1.6217 - val_loss: 0.6593\n",
            "Epoch 2/20\n",
            "500/500 [==============================] - 15s 29ms/step - loss: 0.5600 - val_loss: 0.4018\n",
            "Epoch 3/20\n",
            "500/500 [==============================] - 15s 30ms/step - loss: 0.3164 - val_loss: 0.3289\n",
            "Epoch 4/20\n",
            "500/500 [==============================] - 15s 29ms/step - loss: 0.2744 - val_loss: 0.3330\n",
            "Epoch 5/20\n",
            "500/500 [==============================] - 15s 30ms/step - loss: 0.2584 - val_loss: 0.3068\n",
            "Epoch 6/20\n",
            "500/500 [==============================] - 15s 29ms/step - loss: 0.2482 - val_loss: 0.3034\n",
            "Epoch 7/20\n",
            "500/500 [==============================] - 15s 30ms/step - loss: 0.2394 - val_loss: 0.3360\n",
            "Epoch 8/20\n",
            "500/500 [==============================] - 15s 30ms/step - loss: 0.2351 - val_loss: 0.3163\n",
            "Epoch 9/20\n",
            "500/500 [==============================] - 14s 29ms/step - loss: 0.2292 - val_loss: 0.3057\n",
            "Epoch 10/20\n",
            "500/500 [==============================] - 15s 29ms/step - loss: 0.2247 - val_loss: 0.3234\n",
            "Epoch 11/20\n",
            "500/500 [==============================] - 15s 29ms/step - loss: 0.2213 - val_loss: 0.3431\n",
            "Epoch 12/20\n",
            "500/500 [==============================] - 15s 29ms/step - loss: 0.2174 - val_loss: 0.3685\n",
            "Epoch 13/20\n",
            "500/500 [==============================] - 14s 29ms/step - loss: 0.2151 - val_loss: 0.3169\n",
            "Epoch 14/20\n",
            "500/500 [==============================] - 15s 29ms/step - loss: 0.2119 - val_loss: 0.3409\n",
            "Epoch 15/20\n",
            "500/500 [==============================] - 14s 29ms/step - loss: 0.2106 - val_loss: 0.3308\n",
            "Epoch 16/20\n",
            "500/500 [==============================] - 15s 29ms/step - loss: 0.2083 - val_loss: 0.3469\n",
            "Epoch 17/20\n",
            "500/500 [==============================] - 15s 29ms/step - loss: 0.2064 - val_loss: 0.3233\n",
            "Epoch 18/20\n",
            "500/500 [==============================] - 15s 29ms/step - loss: 0.2048 - val_loss: 0.3785\n",
            "Epoch 19/20\n",
            "500/500 [==============================] - 15s 30ms/step - loss: 0.2028 - val_loss: 0.3225\n",
            "Epoch 20/20\n",
            "500/500 [==============================] - 15s 30ms/step - loss: 0.2019 - val_loss: 0.3767\n"
          ],
          "name": "stdout"
        }
      ]
    },
    {
      "cell_type": "markdown",
      "metadata": {
        "id": "fTWRrblwbAkF"
      },
      "source": [
        "## Loss"
      ]
    },
    {
      "cell_type": "code",
      "metadata": {
        "id": "iBSG9jYfbAkG",
        "outputId": "c7b85c36-6ede-4740-f707-ed9f6c6834e3",
        "colab": {
          "base_uri": "https://localhost:8080/",
          "height": 281
        }
      },
      "source": [
        "import matplotlib.pyplot as plt\n",
        "\n",
        "loss = history.history['loss']\n",
        "val_loss = history.history['val_loss']\n",
        "\n",
        "epochs = range(1, len(loss) + 1)\n",
        "\n",
        "plt.figure()\n",
        "\n",
        "plt.plot(epochs, loss, 'bo', label='Training loss')\n",
        "plt.plot(epochs, val_loss, 'b', label='Validation loss')\n",
        "plt.title('Training and validation loss')\n",
        "plt.legend()\n",
        "\n",
        "plt.show()"
      ],
      "execution_count": null,
      "outputs": [
        {
          "output_type": "display_data",
          "data": {
            "image/png": "[encoded data removed]",
            "text/plain": [
              "<Figure size 432x288 with 1 Axes>"
            ]
          },
          "metadata": {
            "tags": []
          }
        }
      ]
    },
    {
      "cell_type": "markdown",
      "metadata": {
        "id": "ES9wr4RZbAkJ"
      },
      "source": [
        "## GRU"
      ]
    },
    {
      "cell_type": "code",
      "metadata": {
        "id": "H1IoPPvZbAkJ",
        "outputId": "614c726d-418c-4716-fec2-01d2a7787c35",
        "colab": {
          "base_uri": "https://localhost:8080/",
          "height": 840
        }
      },
      "source": [
        "from keras.models import Sequential\n",
        "from keras import layers\n",
        "from keras.optimizers import RMSprop\n",
        "\n",
        "model = Sequential()\n",
        "model.add(layers.GRU(32, input_shape=(None, float_data.shape[-1])))\n",
        "model.add(layers.Dense(1))\n",
        "\n",
        "model.compile(optimizer=RMSprop(), loss='mae')\n",
        "history = model.fit_generator(train_gen,\n",
        "                              steps_per_epoch=500,\n",
        "                              epochs=20,\n",
        "                              validation_data=val_gen,\n",
        "                              validation_steps=val_steps)"
      ],
      "execution_count": 18,
      "outputs": [
        {
          "output_type": "stream",
          "text": [
            "WARNING:tensorflow:From <ipython-input-18-3729ba6f581e>:14: Model.fit_generator (from tensorflow.python.keras.engine.training) is deprecated and will be removed in a future version.\n",
            "Instructions for updating:\n",
            "Please use Model.fit, which supports generators.\n",
            "Epoch 1/20\n",
            "500/500 [==============================] - 16s 33ms/step - loss: 0.3074 - val_loss: 0.2729\n",
            "Epoch 2/20\n",
            "500/500 [==============================] - 16s 32ms/step - loss: 0.2832 - val_loss: 0.2667\n",
            "Epoch 3/20\n",
            "500/500 [==============================] - 16s 32ms/step - loss: 0.2781 - val_loss: 0.2682\n",
            "Epoch 4/20\n",
            "500/500 [==============================] - 16s 32ms/step - loss: 0.2716 - val_loss: 0.2667\n",
            "Epoch 5/20\n",
            "500/500 [==============================] - 16s 31ms/step - loss: 0.2668 - val_loss: 0.2667\n",
            "Epoch 6/20\n",
            "500/500 [==============================] - 16s 32ms/step - loss: 0.2610 - val_loss: 0.2667\n",
            "Epoch 7/20\n",
            "500/500 [==============================] - 16s 32ms/step - loss: 0.2571 - val_loss: 0.2737\n",
            "Epoch 8/20\n",
            "500/500 [==============================] - 16s 32ms/step - loss: 0.2516 - val_loss: 0.2713\n",
            "Epoch 9/20\n",
            "500/500 [==============================] - 16s 32ms/step - loss: 0.2468 - val_loss: 0.2737\n",
            "Epoch 10/20\n",
            "500/500 [==============================] - 16s 31ms/step - loss: 0.2433 - val_loss: 0.2734\n",
            "Epoch 11/20\n",
            "500/500 [==============================] - 16s 31ms/step - loss: 0.2393 - val_loss: 0.2814\n",
            "Epoch 12/20\n",
            "500/500 [==============================] - 16s 33ms/step - loss: 0.2357 - val_loss: 0.2841\n",
            "Epoch 13/20\n",
            "500/500 [==============================] - 16s 32ms/step - loss: 0.2320 - val_loss: 0.2901\n",
            "Epoch 14/20\n",
            "500/500 [==============================] - 16s 32ms/step - loss: 0.2297 - val_loss: 0.2874\n",
            "Epoch 15/20\n",
            "500/500 [==============================] - 16s 31ms/step - loss: 0.2253 - val_loss: 0.2868\n",
            "Epoch 16/20\n",
            "500/500 [==============================] - 16s 31ms/step - loss: 0.2228 - val_loss: 0.2930\n",
            "Epoch 17/20\n",
            "500/500 [==============================] - 16s 32ms/step - loss: 0.2188 - val_loss: 0.3017\n",
            "Epoch 18/20\n",
            "500/500 [==============================] - 16s 32ms/step - loss: 0.2168 - val_loss: 0.2946\n",
            "Epoch 19/20\n",
            "500/500 [==============================] - 16s 32ms/step - loss: 0.2128 - val_loss: 0.2988\n",
            "Epoch 20/20\n",
            "500/500 [==============================] - 16s 32ms/step - loss: 0.2125 - val_loss: 0.3042\n"
          ],
          "name": "stdout"
        }
      ]
    },
    {
      "cell_type": "markdown",
      "metadata": {
        "id": "pMds4d3lbAkM"
      },
      "source": [
        "결과 확인"
      ]
    },
    {
      "cell_type": "code",
      "metadata": {
        "id": "MAVVVzGlbAkM",
        "outputId": "c24e1f63-1de3-489c-fd5f-4f2224106790",
        "colab": {
          "base_uri": "https://localhost:8080/",
          "height": 281
        }
      },
      "source": [
        "loss = history.history['loss']\n",
        "val_loss = history.history['val_loss']\n",
        "\n",
        "epochs = range(1, len(loss) + 1)\n",
        "\n",
        "plt.figure()\n",
        "\n",
        "plt.plot(epochs, loss, 'bo', label='Training loss')\n",
        "plt.plot(epochs, val_loss, 'b', label='Validation loss')\n",
        "plt.title('Training and validation loss')\n",
        "plt.legend()\n",
        "\n",
        "plt.show()"
      ],
      "execution_count": 19,
      "outputs": [
        {
          "output_type": "display_data",
          "data": {
            "image/png": "[encoded data removed]",
            "text/plain": [
              "<Figure size 432x288 with 1 Axes>"
            ]
          },
          "metadata": {
            "tags": [],
            "needs_background": "light"
          }
        }
      ]
    },
    {
      "cell_type": "markdown",
      "metadata": {
        "id": "pikyzYFebAkO"
      },
      "source": [
        "- 시퀀스를 펼쳐서 처리하는 완전 연결 네트워크에 비해서 순환 네트워크가 더 좋은 성능\n",
        "- 새로운 검증 MAE는 0.265 이하(크게 과대적합되기 시작하는 곳)이고 정규화되기 전인 섭씨로 복원하면 MAE는 2.35°C. \n",
        "- 초기 에러 2.57°C보다는 확실히 낫지만 더 개선의 여지가 있음"
      ]
    },
    {
      "cell_type": "markdown",
      "metadata": {
        "id": "IWVOPD-bbAkO"
      },
      "source": [
        "## 과대적합을 감소하기 위해 순환 드롭아웃 사용하기\n",
        "\n",
        "- dropout은 층의 입력에 대한 드롭아웃 비율을 정하는 부동 소수 값\n",
        "- recurrent_dropout은 순환 상태의 드롭아웃 비율을 정함"
      ]
    },
    {
      "cell_type": "code",
      "metadata": {
        "id": "X_iY88dKbAkQ",
        "outputId": "74b4220a-186b-4e59-fb6b-9bc4a6100e5b",
        "colab": {
          "base_uri": "https://localhost:8080/",
          "height": 1000
        }
      },
      "source": [
        "from keras.models import Sequential\n",
        "from keras import layers\n",
        "from keras.optimizers import RMSprop\n",
        "\n",
        "model = Sequential()\n",
        "model.add(layers.GRU(32,\n",
        "                     dropout=0.2,\n",
        "                     recurrent_dropout=0.2,\n",
        "                     input_shape=(None, float_data.shape[-1])))\n",
        "model.add(layers.Dense(1))\n",
        "\n",
        "model.compile(optimizer=RMSprop(), loss='mae')\n",
        "history = model.fit_generator(train_gen,\n",
        "                              steps_per_epoch=500,\n",
        "                              epochs=40,\n",
        "                              validation_data=val_gen,\n",
        "                              validation_steps=val_steps)"
      ],
      "execution_count": 20,
      "outputs": [
        {
          "output_type": "stream",
          "text": [
            "WARNING:tensorflow:Layer gru_1 will not use cuDNN kernel since it doesn't meet the cuDNN kernel criteria. It will use generic GPU kernel as fallback when running on GPU\n",
            "Epoch 1/40\n",
            "500/500 [==============================] - 401s 801ms/step - loss: 0.3272 - val_loss: 0.2810\n",
            "Epoch 2/40\n",
            "500/500 [==============================] - 406s 812ms/step - loss: 0.3060 - val_loss: 0.2766\n",
            "Epoch 3/40\n",
            "500/500 [==============================] - 401s 803ms/step - loss: 0.3003 - val_loss: 0.2803\n",
            "Epoch 4/40\n",
            "500/500 [==============================] - 407s 814ms/step - loss: 0.2958 - val_loss: 0.2850\n",
            "Epoch 5/40\n",
            "500/500 [==============================] - 404s 808ms/step - loss: 0.2915 - val_loss: 0.2704\n",
            "Epoch 6/40\n",
            "500/500 [==============================] - 406s 812ms/step - loss: 0.2877 - val_loss: 0.2702\n",
            "Epoch 7/40\n",
            "500/500 [==============================] - 409s 819ms/step - loss: 0.2854 - val_loss: 0.2711\n",
            "Epoch 8/40\n",
            "500/500 [==============================] - 404s 808ms/step - loss: 0.2804 - val_loss: 0.2733\n",
            "Epoch 9/40\n",
            "500/500 [==============================] - 405s 810ms/step - loss: 0.2768 - val_loss: 0.2759\n",
            "Epoch 10/40\n",
            "500/500 [==============================] - 404s 809ms/step - loss: 0.2738 - val_loss: 0.2685\n",
            "Epoch 11/40\n",
            "500/500 [==============================] - 402s 804ms/step - loss: 0.2720 - val_loss: 0.2771\n",
            "Epoch 12/40\n",
            "500/500 [==============================] - 406s 812ms/step - loss: 0.2676 - val_loss: 0.2740\n",
            "Epoch 13/40\n",
            "500/500 [==============================] - 412s 824ms/step - loss: 0.2650 - val_loss: 0.2796\n",
            "Epoch 14/40\n",
            "500/500 [==============================] - 413s 826ms/step - loss: 0.2617 - val_loss: 0.2816\n",
            "Epoch 15/40\n",
            "500/500 [==============================] - 406s 812ms/step - loss: 0.2589 - val_loss: 0.2825\n",
            "Epoch 16/40\n",
            "500/500 [==============================] - 413s 826ms/step - loss: 0.2555 - val_loss: 0.2907\n",
            "Epoch 17/40\n",
            "500/500 [==============================] - 407s 814ms/step - loss: 0.2528 - val_loss: 0.2853\n",
            "Epoch 18/40\n",
            "500/500 [==============================] - 418s 837ms/step - loss: 0.2510 - val_loss: 0.2857\n",
            "Epoch 19/40\n",
            "500/500 [==============================] - 405s 811ms/step - loss: 0.2499 - val_loss: 0.2868\n",
            "Epoch 20/40\n",
            "500/500 [==============================] - 406s 812ms/step - loss: 0.2479 - val_loss: 0.2897\n",
            "Epoch 21/40\n",
            "500/500 [==============================] - 404s 808ms/step - loss: 0.2438 - val_loss: 0.2939\n",
            "Epoch 22/40\n",
            "500/500 [==============================] - 407s 814ms/step - loss: 0.2422 - val_loss: 0.2936\n",
            "Epoch 23/40\n",
            "500/500 [==============================] - 403s 806ms/step - loss: 0.2418 - val_loss: 0.2960\n",
            "Epoch 24/40\n",
            "500/500 [==============================] - 400s 800ms/step - loss: 0.2405 - val_loss: 0.3035\n",
            "Epoch 25/40\n",
            "500/500 [==============================] - 407s 815ms/step - loss: 0.2386 - val_loss: 0.3006\n",
            "Epoch 26/40\n",
            "500/500 [==============================] - 405s 809ms/step - loss: 0.2349 - val_loss: 0.3049\n",
            "Epoch 27/40\n",
            "500/500 [==============================] - 403s 806ms/step - loss: 0.2349 - val_loss: 0.3107\n",
            "Epoch 28/40\n",
            "500/500 [==============================] - 403s 807ms/step - loss: 0.2336 - val_loss: 0.3063\n",
            "Epoch 29/40\n",
            "500/500 [==============================] - 404s 809ms/step - loss: 0.2333 - val_loss: 0.3042\n",
            "Epoch 30/40\n",
            "500/500 [==============================] - 402s 804ms/step - loss: 0.2316 - val_loss: 0.3090\n",
            "Epoch 31/40\n",
            "500/500 [==============================] - 405s 810ms/step - loss: 0.2288 - val_loss: 0.3126\n",
            "Epoch 32/40\n",
            "500/500 [==============================] - 404s 808ms/step - loss: 0.2275 - val_loss: 0.3141\n",
            "Epoch 33/40\n",
            "500/500 [==============================] - 407s 814ms/step - loss: 0.2265 - val_loss: 0.3091\n",
            "Epoch 34/40\n",
            "500/500 [==============================] - 409s 819ms/step - loss: 0.2251 - val_loss: 0.3166\n",
            "Epoch 35/40\n",
            "500/500 [==============================] - 395s 790ms/step - loss: 0.2243 - val_loss: 0.3162\n",
            "Epoch 36/40\n",
            "500/500 [==============================] - 406s 813ms/step - loss: 0.2226 - val_loss: 0.3197\n",
            "Epoch 37/40\n",
            "500/500 [==============================] - 402s 804ms/step - loss: 0.2229 - val_loss: 0.3300\n",
            "Epoch 38/40\n",
            "500/500 [==============================] - 403s 805ms/step - loss: 0.2217 - val_loss: 0.3207\n",
            "Epoch 39/40\n",
            "500/500 [==============================] - 404s 808ms/step - loss: 0.2200 - val_loss: 0.3257\n",
            "Epoch 40/40\n",
            "500/500 [==============================] - 398s 796ms/step - loss: 0.2200 - val_loss: 0.3281\n"
          ],
          "name": "stdout"
        }
      ]
    },
    {
      "cell_type": "code",
      "metadata": {
        "id": "ml04xDm3bAkR",
        "outputId": "ac9b6f76-b814-449c-a908-8d353922fe98",
        "colab": {
          "base_uri": "https://localhost:8080/",
          "height": 281
        }
      },
      "source": [
        "loss = history.history['loss']\n",
        "val_loss = history.history['val_loss']\n",
        "\n",
        "epochs = range(1, len(loss) + 1)\n",
        "\n",
        "plt.figure()\n",
        "\n",
        "plt.plot(epochs, loss, 'bo', label='Training loss')\n",
        "plt.plot(epochs, val_loss, 'b', label='Validation loss')\n",
        "plt.title('Training and validation loss')\n",
        "plt.legend()\n",
        "\n",
        "plt.show()"
      ],
      "execution_count": 21,
      "outputs": [
        {
          "output_type": "display_data",
          "data": {
            "image/png": "[encoded data removed]",
            "text/plain": [
              "<Figure size 432x288 with 1 Axes>"
            ]
          },
          "metadata": {
            "tags": [],
            "needs_background": "light"
          }
        }
      ]
    },
    {
      "cell_type": "markdown",
      "metadata": {
        "id": "PTTnipMDbAkT"
      },
      "source": [
        "30번째 epoch까지 오버피팅이 일어나지 않음. \n",
        "평가 점수는 안정적이지만 이전보다 더 나아지지 않음"
      ]
    },
    {
      "cell_type": "markdown",
      "metadata": {
        "id": "vlvT2NgDbAkU"
      },
      "source": [
        "## 스태킹 순환 층\n",
        "\n",
        "케라스에서 순환 층을 차례대로 쌓으려면 모든 중간 층은 마지막 타임스텝 출력만이 아니고 전체 시퀀스(3D 텐서)를 출력해야 합니다. `return_sequences=True`로 지정하면 됩니다."
      ]
    },
    {
      "cell_type": "code",
      "metadata": {
        "id": "gNIjLns8bAkV",
        "outputId": "e65dd727-13e6-42d3-ac82-26c7e117a87f",
        "colab": {
          "base_uri": "https://localhost:8080/",
          "height": 933
        }
      },
      "source": [
        "from keras.models import Sequential\n",
        "from keras import layers\n",
        "from keras.optimizers import RMSprop\n",
        "\n",
        "model = Sequential()\n",
        "model.add(layers.GRU(32,\n",
        "                     dropout=0.1,\n",
        "                     recurrent_dropout=0.5,\n",
        "                     return_sequences=True,\n",
        "                     input_shape=(None, float_data.shape[-1])))\n",
        "model.add(layers.GRU(64, activation='relu',\n",
        "                     dropout=0.1, \n",
        "                     recurrent_dropout=0.5))\n",
        "model.add(layers.Dense(1))\n",
        "\n",
        "model.compile(optimizer=RMSprop(), loss='mae')\n",
        "history = model.fit_generator(train_gen,\n",
        "                              steps_per_epoch=500,\n",
        "                              epochs=40,\n",
        "                              validation_data=val_gen,\n",
        "                              validation_steps=val_steps)"
      ],
      "execution_count": null,
      "outputs": [
        {
          "output_type": "stream",
          "text": [
            "WARNING:tensorflow:Layer gru_2 will not use cuDNN kernel since it doesn't meet the cuDNN kernel criteria. It will use generic GPU kernel as fallback when running on GPU\n",
            "WARNING:tensorflow:Layer gru_3 will not use cuDNN kernel since it doesn't meet the cuDNN kernel criteria. It will use generic GPU kernel as fallback when running on GPU\n",
            "Epoch 1/40\n",
            "500/500 [==============================] - 837s 2s/step - loss: 0.3244 - val_loss: 0.2802\n",
            "Epoch 2/40\n",
            "500/500 [==============================] - 820s 2s/step - loss: 0.3017 - val_loss: 0.2795\n",
            "Epoch 3/40\n",
            "500/500 [==============================] - 830s 2s/step - loss: 0.2947 - val_loss: 0.2701\n",
            "Epoch 4/40\n",
            "500/500 [==============================] - 838s 2s/step - loss: 0.2869 - val_loss: 0.2743\n",
            "Epoch 5/40\n",
            "500/500 [==============================] - 831s 2s/step - loss: 0.2823 - val_loss: 0.2902\n",
            "Epoch 6/40\n",
            "500/500 [==============================] - 853s 2s/step - loss: 0.2764 - val_loss: 0.2681\n",
            "Epoch 7/40\n",
            "500/500 [==============================] - 852s 2s/step - loss: 0.2713 - val_loss: 0.2677\n",
            "Epoch 8/40\n",
            "500/500 [==============================] - 830s 2s/step - loss: 0.2676 - val_loss: 0.2744\n",
            "Epoch 9/40\n",
            "500/500 [==============================] - 848s 2s/step - loss: 0.2630 - val_loss: 0.2704\n",
            "Epoch 10/40\n",
            "500/500 [==============================] - 848s 2s/step - loss: 0.2585 - val_loss: 0.2715\n",
            "Epoch 11/40\n",
            "500/500 [==============================] - 844s 2s/step - loss: 0.2558 - val_loss: 0.2779\n",
            "Epoch 12/40\n",
            "500/500 [==============================] - 849s 2s/step - loss: 0.2506 - val_loss: 0.2822\n",
            "Epoch 13/40\n",
            "500/500 [==============================] - 844s 2s/step - loss: 0.2475 - val_loss: 0.2806\n",
            "Epoch 14/40\n",
            "500/500 [==============================] - 838s 2s/step - loss: 0.2425 - val_loss: 0.2866\n",
            "Epoch 15/40\n",
            "500/500 [==============================] - 847s 2s/step - loss: 0.2402 - val_loss: 0.2910\n",
            "Epoch 16/40\n",
            "500/500 [==============================] - 846s 2s/step - loss: 0.2359 - val_loss: 0.2968\n",
            "Epoch 17/40\n",
            "500/500 [==============================] - 842s 2s/step - loss: 0.2312 - val_loss: 0.2989\n",
            "Epoch 18/40\n",
            "500/500 [==============================] - 840s 2s/step - loss: 0.2294 - val_loss: 0.3048\n",
            "Epoch 19/40\n",
            "500/500 [==============================] - 854s 2s/step - loss: 0.2262 - val_loss: 0.3175\n",
            "Epoch 20/40\n",
            "500/500 [==============================] - 852s 2s/step - loss: 0.2227 - val_loss: 0.3187\n",
            "Epoch 21/40\n",
            "500/500 [==============================] - 842s 2s/step - loss: 0.2199 - val_loss: 0.3065\n",
            "Epoch 22/40\n",
            "500/500 [==============================] - 842s 2s/step - loss: 0.2197 - val_loss: 0.3087\n",
            "Epoch 23/40\n",
            "348/500 [===================>..........] - ETA: 3:44 - loss: 0.2158"
          ],
          "name": "stdout"
        }
      ]
    },
    {
      "cell_type": "code",
      "metadata": {
        "id": "sGQIQx_PbAkd",
        "outputId": "7cef5c87-21bf-402c-88b4-7ed30227ddff",
        "colab": {
          "base_uri": "https://localhost:8080/",
          "height": 36
        }
      },
      "source": [
        "float_data.shape[-1]"
      ],
      "execution_count": 16,
      "outputs": [
        {
          "output_type": "execute_result",
          "data": {
            "text/plain": [
              "14"
            ]
          },
          "metadata": {
            "tags": []
          },
          "execution_count": 16
        }
      ]
    },
    {
      "cell_type": "code",
      "metadata": {
        "id": "jE_QPFj7PQLu"
      },
      "source": [
        ""
      ],
      "execution_count": null,
      "outputs": []
    },
    {
      "cell_type": "markdown",
      "metadata": {
        "id": "oboftl_mbAkh"
      },
      "source": [
        "## Loss"
      ]
    },
    {
      "cell_type": "code",
      "metadata": {
        "id": "umGOBsz1bAki"
      },
      "source": [
        "loss = history.history['loss']\n",
        "val_loss = history.history['val_loss']\n",
        "\n",
        "epochs = range(1, len(loss) + 1)\n",
        "\n",
        "plt.figure()\n",
        "\n",
        "plt.plot(epochs, loss, 'bo', label='Training loss')\n",
        "plt.plot(epochs, val_loss, 'b', label='Validation loss')\n",
        "plt.title('Training and validation loss')\n",
        "plt.legend()\n",
        "\n",
        "plt.show()"
      ],
      "execution_count": null,
      "outputs": []
    },
    {
      "cell_type": "markdown",
      "metadata": {
        "id": "IblcF8JQbAkk"
      },
      "source": [
        "층을 추가하여 성능을 조금 향상"
      ]
    },
    {
      "cell_type": "markdown",
      "metadata": {
        "id": "x5M0pGhkbAkk"
      },
      "source": [
        "## 양방향 RNN\n",
        "\n",
        "입력 시퀀스를 시간 차원을 따라 거꾸로 생성하는 데이터 제너레이터(제너레이터 함수의 마지막 줄을 `yield samples[:, ::-1, :], targets`로 바꿈). "
      ]
    },
    {
      "cell_type": "code",
      "metadata": {
        "id": "vLbuub_ibAkk"
      },
      "source": [
        "def reverse_order_generator(data, lookback, delay, min_index, max_index,\n",
        "                            shuffle=False, batch_size=128, step=6):\n",
        "    if max_index is None:\n",
        "        max_index = len(data) - delay - 1\n",
        "    i = min_index + lookback\n",
        "    while 1:\n",
        "        if shuffle:\n",
        "            rows = np.random.randint(\n",
        "                min_index + lookback, max_index, size=batch_size)\n",
        "        else:\n",
        "            if i + batch_size >= max_index:\n",
        "                i = min_index + lookback\n",
        "            rows = np.arange(i, min(i + batch_size, max_index))\n",
        "            i += len(rows)\n",
        "\n",
        "        samples = np.zeros((len(rows),\n",
        "                           lookback // step,\n",
        "                           data.shape[-1]))\n",
        "        targets = np.zeros((len(rows),))\n",
        "        for j, row in enumerate(rows):\n",
        "            indices = range(rows[j] - lookback, rows[j], step)\n",
        "            samples[j] = data[indices]\n",
        "            targets[j] = data[rows[j] + delay][1]\n",
        "        yield samples[:, ::-1, :], targets\n",
        "        \n",
        "train_gen_reverse = reverse_order_generator(\n",
        "    float_data,\n",
        "    lookback=lookback,\n",
        "    delay=delay,\n",
        "    min_index=0,\n",
        "    max_index=200000,\n",
        "    shuffle=True,\n",
        "    step=step, \n",
        "    batch_size=batch_size)\n",
        "val_gen_reverse = reverse_order_generator(\n",
        "    float_data,\n",
        "    lookback=lookback,\n",
        "    delay=delay,\n",
        "    min_index=200001,\n",
        "    max_index=300000,\n",
        "    step=step,\n",
        "    batch_size=batch_size)"
      ],
      "execution_count": null,
      "outputs": []
    },
    {
      "cell_type": "code",
      "metadata": {
        "id": "A6wxiO1BbAkm"
      },
      "source": [
        "model = Sequential()\n",
        "model.add(layers.GRU(32, input_shape=(None, float_data.shape[-1])))\n",
        "model.add(layers.Dense(1))\n",
        "\n",
        "model.compile(optimizer=RMSprop(), loss='mae')\n",
        "history = model.fit_generator(train_gen_reverse,\n",
        "                              steps_per_epoch=500,\n",
        "                              epochs=20,\n",
        "                              validation_data=val_gen_reverse,\n",
        "                              validation_steps=val_steps)"
      ],
      "execution_count": null,
      "outputs": []
    },
    {
      "cell_type": "code",
      "metadata": {
        "id": "AGAapvjYbAkn"
      },
      "source": [
        "loss = history.history['loss']\n",
        "val_loss = history.history['val_loss']\n",
        "\n",
        "epochs = range(1, len(loss) + 1)\n",
        "\n",
        "plt.figure()\n",
        "\n",
        "plt.plot(epochs, loss, 'bo', label='Training loss')\n",
        "plt.plot(epochs, val_loss, 'b', label='Validation loss')\n",
        "plt.title('Training and validation loss')\n",
        "plt.legend()\n",
        "\n",
        "plt.show()"
      ],
      "execution_count": null,
      "outputs": []
    },
    {
      "cell_type": "markdown",
      "metadata": {
        "id": "yyzMSVLFbAkp"
      },
      "source": [
        "순서를 뒤집은 GRU는 상식 수준의 기준점보다도 성능이 낮음\n",
        "\n"
      ]
    }
  ]
}