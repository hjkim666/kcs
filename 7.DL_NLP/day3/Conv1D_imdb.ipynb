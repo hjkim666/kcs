{
  "nbformat": 4,
  "nbformat_minor": 0,
  "metadata": {
    "colab": {
      "name": "Conv1D_imdb.ipynb",
      "provenance": [],
      "collapsed_sections": []
    },
    "kernelspec": {
      "name": "python3",
      "display_name": "Python 3"
    },
    "accelerator": "GPU"
  },
  "cells": [
    {
      "cell_type": "markdown",
      "metadata": {
        "id": "120SzyMTVOdy"
      },
      "source": [
        "## 컨브넷을 사용한 시퀀스 처리 - IMDB예제\n",
        "\n",
        "\n",
        "#### 1D 컨브넷 구현\n",
        "\n",
        "- 1D 컨브넷은 `Conv1D` 층을 사용하여 구현\n",
        "- 합성곱 윈도우는 시간 축의 1D 윈도우\n"
      ]
    },
    {
      "cell_type": "code",
      "metadata": {
        "id": "lFiyFYMuVOd0",
        "outputId": "1f4b6536-c816-4663-f166-054df7aa7087",
        "colab": {
          "base_uri": "https://localhost:8080/",
          "height": 159
        }
      },
      "source": [
        "from keras.datasets import imdb\n",
        "from keras.preprocessing import sequence\n",
        "\n",
        "max_features = 10000  # 특성으로 사용할 단어의 수\n",
        "max_len = 500  # 사용할 텍스트의 길이(가장 빈번한 max_features 개의 단어만 사용)\n",
        "\n",
        "print('데이터 로드')\n",
        "(x_train, y_train), (x_test, y_test) = imdb.load_data(num_words=max_features)\n",
        "print(len(x_train), '훈련 시퀀스')\n",
        "print(len(x_test), '테스트 시퀀스')\n",
        "\n",
        "print('시퀀스 패딩 (samples x time)')\n",
        "x_train = sequence.pad_sequences(x_train, maxlen=max_len)\n",
        "x_test = sequence.pad_sequences(x_test, maxlen=max_len)\n",
        "print('x_train 크기:', x_train.shape)\n",
        "print('x_test 크기:', x_test.shape)"
      ],
      "execution_count": 1,
      "outputs": [
        {
          "output_type": "stream",
          "text": [
            "데이터 로드\n",
            "Downloading data from https://storage.googleapis.com/tensorflow/tf-keras-datasets/imdb.npz\n",
            "17465344/17464789 [==============================] - 0s 0us/step\n",
            "25000 훈련 시퀀스\n",
            "25000 테스트 시퀀스\n",
            "시퀀스 패딩 (samples x time)\n",
            "x_train 크기: (25000, 500)\n",
            "x_test 크기: (25000, 500)\n"
          ],
          "name": "stdout"
        }
      ]
    },
    {
      "cell_type": "markdown",
      "metadata": {
        "id": "KUN5P9QqVOd9"
      },
      "source": [
        "## Modeling"
      ]
    },
    {
      "cell_type": "code",
      "metadata": {
        "scrolled": true,
        "id": "bYlpHghTVOd-",
        "outputId": "dae10c78-2be3-4f3a-e87f-ab6240975d6a",
        "colab": {
          "base_uri": "https://localhost:8080/",
          "height": 746
        }
      },
      "source": [
        "from keras.models import Sequential\n",
        "from keras import layers\n",
        "from keras.optimizers import RMSprop\n",
        "\n",
        "model = Sequential()\n",
        "model.add(layers.Embedding(max_features, 128, input_length=max_len))\n",
        "model.add(layers.Conv1D(32, 7, activation='relu'))\n",
        "model.add(layers.MaxPooling1D(5))\n",
        "model.add(layers.Conv1D(32, 7, activation='relu'))\n",
        "model.add(layers.GlobalMaxPooling1D())\n",
        "model.add(layers.Dense(1, activation='sigmoid'))\n",
        "\n",
        "model.summary()\n",
        "\n",
        "model.compile(optimizer=RMSprop(lr=1e-4),\n",
        "              loss='binary_crossentropy',\n",
        "              metrics=['acc'])\n",
        "\n",
        "history = model.fit(x_train, y_train,\n",
        "                    epochs=10,\n",
        "                    batch_size=128,\n",
        "                    validation_split=0.2)"
      ],
      "execution_count": 2,
      "outputs": [
        {
          "output_type": "stream",
          "text": [
            "Model: \"sequential\"\n",
            "_________________________________________________________________\n",
            "Layer (type)                 Output Shape              Param #   \n",
            "=================================================================\n",
            "embedding (Embedding)        (None, 500, 128)          1280000   \n",
            "_________________________________________________________________\n",
            "conv1d (Conv1D)              (None, 494, 32)           28704     \n",
            "_________________________________________________________________\n",
            "max_pooling1d (MaxPooling1D) (None, 98, 32)            0         \n",
            "_________________________________________________________________\n",
            "conv1d_1 (Conv1D)            (None, 92, 32)            7200      \n",
            "_________________________________________________________________\n",
            "global_max_pooling1d (Global (None, 32)                0         \n",
            "_________________________________________________________________\n",
            "dense (Dense)                (None, 1)                 33        \n",
            "=================================================================\n",
            "Total params: 1,315,937\n",
            "Trainable params: 1,315,937\n",
            "Non-trainable params: 0\n",
            "_________________________________________________________________\n",
            "Epoch 1/10\n",
            "157/157 [==============================] - 6s 35ms/step - loss: 0.6927 - acc: 0.5146 - val_loss: 0.6919 - val_acc: 0.5498\n",
            "Epoch 2/10\n",
            "157/157 [==============================] - 5s 33ms/step - loss: 0.6877 - acc: 0.6542 - val_loss: 0.6887 - val_acc: 0.6376\n",
            "Epoch 3/10\n",
            "157/157 [==============================] - 5s 34ms/step - loss: 0.6795 - acc: 0.7507 - val_loss: 0.6778 - val_acc: 0.6952\n",
            "Epoch 4/10\n",
            "157/157 [==============================] - 5s 33ms/step - loss: 0.6542 - acc: 0.7764 - val_loss: 0.6326 - val_acc: 0.7738\n",
            "Epoch 5/10\n",
            "157/157 [==============================] - 5s 33ms/step - loss: 0.5763 - acc: 0.8095 - val_loss: 0.5245 - val_acc: 0.8170\n",
            "Epoch 6/10\n",
            "157/157 [==============================] - 5s 33ms/step - loss: 0.4552 - acc: 0.8406 - val_loss: 0.4153 - val_acc: 0.8470\n",
            "Epoch 7/10\n",
            "157/157 [==============================] - 5s 33ms/step - loss: 0.3588 - acc: 0.8661 - val_loss: 0.3586 - val_acc: 0.8546\n",
            "Epoch 8/10\n",
            "157/157 [==============================] - 5s 33ms/step - loss: 0.3041 - acc: 0.8828 - val_loss: 0.3333 - val_acc: 0.8600\n",
            "Epoch 9/10\n",
            "157/157 [==============================] - 5s 33ms/step - loss: 0.2708 - acc: 0.8949 - val_loss: 0.3221 - val_acc: 0.8596\n",
            "Epoch 10/10\n",
            "157/157 [==============================] - 5s 33ms/step - loss: 0.2470 - acc: 0.9056 - val_loss: 0.3160 - val_acc: 0.8662\n"
          ],
          "name": "stdout"
        }
      ]
    },
    {
      "cell_type": "markdown",
      "metadata": {
        "id": "GJk3rU5RVOeH"
      },
      "source": [
        "## Accuracy & Loss"
      ]
    },
    {
      "cell_type": "code",
      "metadata": {
        "id": "Kuqx3bMTVOeI"
      },
      "source": [
        "import matplotlib.pyplot as plt"
      ],
      "execution_count": 3,
      "outputs": []
    },
    {
      "cell_type": "code",
      "metadata": {
        "id": "5SiG405kVOeO",
        "outputId": "3404f9e1-a8a9-4532-d437-9ee26a4fc182",
        "colab": {
          "base_uri": "https://localhost:8080/",
          "height": 545
        }
      },
      "source": [
        "acc = history.history['acc']\n",
        "val_acc = history.history['val_acc']\n",
        "loss = history.history['loss']\n",
        "val_loss = history.history['val_loss']\n",
        "\n",
        "epochs = range(1, len(acc) + 1)\n",
        "\n",
        "plt.plot(epochs, acc, 'bo', label='Training acc')\n",
        "plt.plot(epochs, val_acc, 'b', label='Validation acc')\n",
        "plt.title('Training and validation accuracy')\n",
        "plt.legend()\n",
        "\n",
        "plt.figure()\n",
        "\n",
        "plt.plot(epochs, loss, 'bo', label='Training loss')\n",
        "plt.plot(epochs, val_loss, 'b', label='Validation loss')\n",
        "plt.title('Training and validation loss')\n",
        "plt.legend()\n",
        "\n",
        "plt.show()"
      ],
      "execution_count": 4,
      "outputs": [
        {
          "output_type": "display_data",
          "data": {
            "image/png": "[encoded data removed]",
            "text/plain": [
              "<Figure size 432x288 with 1 Axes>"
            ]
          },
          "metadata": {
            "tags": [],
            "needs_background": "light"
          }
        },
        {
          "output_type": "display_data",
          "data": {
            "image/png": "[encoded data removed]",
            "text/plain": [
              "<Figure size 432x288 with 1 Axes>"
            ]
          },
          "metadata": {
            "tags": [],
            "needs_background": "light"
          }
        }
      ]
    }
  ]
}