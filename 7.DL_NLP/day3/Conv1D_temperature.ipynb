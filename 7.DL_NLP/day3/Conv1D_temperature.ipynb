{
  "nbformat": 4,
  "nbformat_minor": 0,
  "metadata": {
    "colab": {
      "name": "Conv1D_temperature",
      "provenance": [],
      "collapsed_sections": []
    },
    "kernelspec": {
      "name": "python3",
      "display_name": "Python 3"
    },
    "accelerator": "GPU"
  },
  "cells": [
    {
      "cell_type": "code",
      "metadata": {
        "id": "FWU4APmyZxXk",
        "outputId": "9b966b11-cf3f-4418-d88b-146794b96ab8",
        "colab": {
          "base_uri": "https://localhost:8080/",
          "height": 35
        }
      },
      "source": [
        "from google.colab import drive\n",
        "drive.mount('/gdrive', force_remount=True)"
      ],
      "execution_count": 1,
      "outputs": [
        {
          "output_type": "stream",
          "text": [
            "Mounted at /gdrive\n"
          ],
          "name": "stdout"
        }
      ]
    },
    {
      "cell_type": "code",
      "metadata": {
        "id": "GnMG5rKqfiGN",
        "outputId": "b913ec9d-4fac-4099-e9e2-d977c383286b",
        "colab": {
          "base_uri": "https://localhost:8080/",
          "height": 35
        }
      },
      "source": [
        "!ls '/gdrive/'"
      ],
      "execution_count": 2,
      "outputs": [
        {
          "output_type": "stream",
          "text": [
            "'My Drive'\n"
          ],
          "name": "stdout"
        }
      ]
    },
    {
      "cell_type": "code",
      "metadata": {
        "id": "Kd9oG5npZyfF"
      },
      "source": [
        "# data_dir = './datasets/jena_climate/'\n",
        "data_dir = '/gdrive/My Drive/datasets/jena_climate/'"
      ],
      "execution_count": 3,
      "outputs": []
    },
    {
      "cell_type": "code",
      "metadata": {
        "id": "60qVtykwVOdl",
        "outputId": "ba3ffffe-393b-4849-c35c-cabb722fc130",
        "colab": {
          "base_uri": "https://localhost:8080/",
          "height": 35
        }
      },
      "source": [
        "import keras\n",
        "keras.__version__"
      ],
      "execution_count": 5,
      "outputs": [
        {
          "output_type": "execute_result",
          "data": {
            "application/vnd.google.colaboratory.intrinsic+json": {
              "type": "string"
            },
            "text/plain": [
              "'2.4.3'"
            ]
          },
          "metadata": {
            "tags": []
          },
          "execution_count": 5
        }
      ]
    },
    {
      "cell_type": "markdown",
      "metadata": {
        "id": "120SzyMTVOdy"
      },
      "source": [
        "## 컨브넷을 사용한 시퀀스 처리 - Temperature예제\n",
        "\n",
        "#### 1D 컨브넷 구현\n",
        "- 1D 컨브넷은 `Conv1D` 층을 사용하여 구현\n",
        "- 입력 : `(samples, time, features)` \n",
        "- 합성곱 윈도우는 시간 축의 1D 윈도우.즉, 입력 텐서의 두 번째 축"
      ]
    },
    {
      "cell_type": "markdown",
      "metadata": {
        "id": "s3im1wtPVOeW"
      },
      "source": [
        "## CNN과 RNN을 연결하여 긴 시퀀스를 처리하기\n",
        "\n"
      ]
    },
    {
      "cell_type": "code",
      "metadata": {
        "id": "JHH8KILVVOeY"
      },
      "source": [
        "import os\n",
        "import numpy as np\n",
        "\n",
        "# data_dir = './datasets/jena_climate/'\n",
        "fname = os.path.join(data_dir, 'jena_climate_2009_2016.csv')\n",
        "\n",
        "f = open(fname)\n",
        "data = f.read()\n",
        "f.close()\n",
        "\n",
        "lines = data.split('\\n')\n",
        "header = lines[0].split(',')\n",
        "lines = lines[1:]\n",
        "\n",
        "float_data = np.zeros((len(lines), len(header) - 1))\n",
        "for i, line in enumerate(lines):\n",
        "    values = [float(x) for x in line.split(',')[1:]]\n",
        "    float_data[i, :] = values\n",
        "    \n",
        "mean = float_data[:200000].mean(axis=0)\n",
        "float_data -= mean\n",
        "std = float_data[:200000].std(axis=0)\n",
        "float_data /= std\n",
        "\n",
        "def generator(data, lookback, delay, min_index, max_index,\n",
        "              shuffle=False, batch_size=128, step=6):\n",
        "    if max_index is None:\n",
        "        max_index = len(data) - delay - 1\n",
        "    i = min_index + lookback\n",
        "    while 1:\n",
        "        if shuffle:\n",
        "            rows = np.random.randint(\n",
        "                min_index + lookback, max_index, size=batch_size)\n",
        "        else:\n",
        "            if i + batch_size >= max_index:\n",
        "                i = min_index + lookback\n",
        "            rows = np.arange(i, min(i + batch_size, max_index))\n",
        "            i += len(rows)\n",
        "\n",
        "        samples = np.zeros((len(rows),\n",
        "                           lookback // step,\n",
        "                           data.shape[-1]))\n",
        "        targets = np.zeros((len(rows),))\n",
        "        for j, row in enumerate(rows):\n",
        "            indices = range(rows[j] - lookback, rows[j], step)\n",
        "            samples[j] = data[indices]\n",
        "            targets[j] = data[rows[j] + delay][1]\n",
        "        yield samples, targets\n",
        "        \n",
        "lookback = 1440\n",
        "step = 6\n",
        "delay = 144\n",
        "batch_size = 128\n",
        "\n",
        "train_gen = generator(float_data,\n",
        "                      lookback=lookback,\n",
        "                      delay=delay,\n",
        "                      min_index=0,\n",
        "                      max_index=200000,\n",
        "                      shuffle=True,\n",
        "                      step=step, \n",
        "                      batch_size=batch_size)\n",
        "val_gen = generator(float_data,\n",
        "                    lookback=lookback,\n",
        "                    delay=delay,\n",
        "                    min_index=200001,\n",
        "                    max_index=300000,\n",
        "                    step=step,\n",
        "                    batch_size=batch_size)\n",
        "test_gen = generator(float_data,\n",
        "                     lookback=lookback,\n",
        "                     delay=delay,\n",
        "                     min_index=300001,\n",
        "                     max_index=None,\n",
        "                     step=step,\n",
        "                     batch_size=batch_size)\n",
        "\n",
        "# 전체 검증 세트를 순회하기 위해 val_gen에서 추출할 횟수\n",
        "val_steps = (300000 - 200001 - lookback) // batch_size\n",
        "\n",
        "# 전체 테스트 세트를 순회하기 위해 test_gen에서 추출할 횟수\n",
        "test_steps = (len(float_data) - 300001 - lookback) // batch_size"
      ],
      "execution_count": 6,
      "outputs": []
    },
    {
      "cell_type": "code",
      "metadata": {
        "id": "CMHBE96iVOee",
        "outputId": "11ef9286-6418-4e7b-841f-83d4886c1fca",
        "colab": {
          "base_uri": "https://localhost:8080/",
          "height": 799
        }
      },
      "source": [
        "from keras.models import Sequential\n",
        "from keras import layers\n",
        "from keras.optimizers import RMSprop\n",
        "\n",
        "model = Sequential()\n",
        "model.add(layers.Conv1D(32, 5, activation='relu',\n",
        "                        input_shape=(None, float_data.shape[-1])))\n",
        "model.add(layers.MaxPooling1D(3))\n",
        "model.add(layers.Conv1D(32, 5, activation='relu'))\n",
        "model.add(layers.MaxPooling1D(3))\n",
        "model.add(layers.Conv1D(32, 5, activation='relu'))\n",
        "model.add(layers.GlobalMaxPooling1D())\n",
        "model.add(layers.Dense(1))\n",
        "\n",
        "model.compile(optimizer=RMSprop(), loss='mae')\n",
        "history = model.fit_generator(train_gen,\n",
        "                              steps_per_epoch=500,\n",
        "                              epochs=20,\n",
        "                              validation_data=val_gen,\n",
        "                              validation_steps=val_steps)"
      ],
      "execution_count": 7,
      "outputs": [
        {
          "output_type": "stream",
          "text": [
            "WARNING:tensorflow:From <ipython-input-7-1a1ca25d2ec3>:20: Model.fit_generator (from tensorflow.python.keras.engine.training) is deprecated and will be removed in a future version.\n",
            "Instructions for updating:\n",
            "Please use Model.fit, which supports generators.\n",
            "Epoch 1/20\n",
            "500/500 [==============================] - 14s 29ms/step - loss: 0.4174 - val_loss: 0.4515\n",
            "Epoch 2/20\n",
            "500/500 [==============================] - 15s 29ms/step - loss: 0.3564 - val_loss: 0.4182\n",
            "Epoch 3/20\n",
            "500/500 [==============================] - 14s 28ms/step - loss: 0.3281 - val_loss: 0.4541\n",
            "Epoch 4/20\n",
            "500/500 [==============================] - 14s 28ms/step - loss: 0.3151 - val_loss: 0.4331\n",
            "Epoch 5/20\n",
            "500/500 [==============================] - 14s 28ms/step - loss: 0.3034 - val_loss: 0.4641\n",
            "Epoch 6/20\n",
            "500/500 [==============================] - 14s 29ms/step - loss: 0.2955 - val_loss: 0.4448\n",
            "Epoch 7/20\n",
            "500/500 [==============================] - 14s 28ms/step - loss: 0.2866 - val_loss: 0.4580\n",
            "Epoch 8/20\n",
            "500/500 [==============================] - 14s 28ms/step - loss: 0.2812 - val_loss: 0.4484\n",
            "Epoch 9/20\n",
            "500/500 [==============================] - 14s 29ms/step - loss: 0.2738 - val_loss: 0.4420\n",
            "Epoch 10/20\n",
            "500/500 [==============================] - 14s 28ms/step - loss: 0.2696 - val_loss: 0.4893\n",
            "Epoch 11/20\n",
            "500/500 [==============================] - 14s 29ms/step - loss: 0.2651 - val_loss: 0.4577\n",
            "Epoch 12/20\n",
            "500/500 [==============================] - 14s 28ms/step - loss: 0.2605 - val_loss: 0.4605\n",
            "Epoch 13/20\n",
            "500/500 [==============================] - 14s 28ms/step - loss: 0.2563 - val_loss: 0.4521\n",
            "Epoch 14/20\n",
            "500/500 [==============================] - 14s 28ms/step - loss: 0.2535 - val_loss: 0.4844\n",
            "Epoch 15/20\n",
            "500/500 [==============================] - 14s 29ms/step - loss: 0.2513 - val_loss: 0.4689\n",
            "Epoch 16/20\n",
            "500/500 [==============================] - 14s 29ms/step - loss: 0.2477 - val_loss: 0.4787\n",
            "Epoch 17/20\n",
            "500/500 [==============================] - 14s 28ms/step - loss: 0.2463 - val_loss: 0.4983\n",
            "Epoch 18/20\n",
            "500/500 [==============================] - 14s 29ms/step - loss: 0.2444 - val_loss: 0.4590\n",
            "Epoch 19/20\n",
            "500/500 [==============================] - 14s 28ms/step - loss: 0.2405 - val_loss: 0.4664\n",
            "Epoch 20/20\n",
            "500/500 [==============================] - 14s 28ms/step - loss: 0.2395 - val_loss: 0.4686\n"
          ],
          "name": "stdout"
        }
      ]
    },
    {
      "cell_type": "markdown",
      "metadata": {
        "id": "gsgh34HeVOen"
      },
      "source": [
        "### 훈련 MAE와 검증 MAE"
      ]
    },
    {
      "cell_type": "code",
      "metadata": {
        "id": "7goo9s7tVOew",
        "outputId": "fae114b0-d0d5-4b62-ce3a-438650d31b34",
        "colab": {
          "base_uri": "https://localhost:8080/",
          "height": 281
        }
      },
      "source": [
        "import matplotlib.pyplot as plt \n",
        "\n",
        "loss = history.history['loss']\n",
        "val_loss = history.history['val_loss']\n",
        "\n",
        "epochs = range(1, len(loss) + 1)\n",
        "\n",
        "plt.figure()\n",
        "\n",
        "plt.plot(epochs, loss, 'bo', label='Training loss')\n",
        "plt.plot(epochs, val_loss, 'b', label='Validation loss')\n",
        "plt.title('Training and validation loss')\n",
        "plt.legend()\n",
        "\n",
        "plt.show()"
      ],
      "execution_count": 9,
      "outputs": [
        {
          "output_type": "display_data",
          "data": {
            "image/png": "[encoded data removed]",
            "text/plain": [
              "<Figure size 432x288 with 1 Axes>"
            ]
          },
          "metadata": {
            "tags": [],
            "needs_background": "light"
          }
        }
      ]
    },
    {
      "cell_type": "code",
      "metadata": {
        "id": "E90uAHp2VOe3"
      },
      "source": [
        "# 이전에는 6이었음(시간마다 1포인트); 이제는 3(30분마다 1포인트)\n",
        "step = 3\n",
        "lookback = 1440  # 변경 안 됨\n",
        "delay = 144 # 변경 안 됨\n",
        "\n",
        "train_gen = generator(float_data,\n",
        "                      lookback=lookback,\n",
        "                      delay=delay,\n",
        "                      min_index=0,\n",
        "                      max_index=200000,\n",
        "                      shuffle=True,\n",
        "                      step=step)\n",
        "val_gen = generator(float_data,\n",
        "                    lookback=lookback,\n",
        "                    delay=delay,\n",
        "                    min_index=200001,\n",
        "                    max_index=300000,\n",
        "                    step=step)\n",
        "test_gen = generator(float_data,\n",
        "                     lookback=lookback,\n",
        "                     delay=delay,\n",
        "                     min_index=300001,\n",
        "                     max_index=None,\n",
        "                     step=step)\n",
        "val_steps = (300000 - 200001 - lookback) // 128\n",
        "test_steps = (len(float_data) - 300001 - lookback) // 128"
      ],
      "execution_count": 10,
      "outputs": []
    },
    {
      "cell_type": "markdown",
      "metadata": {
        "id": "fjSlakl0VOe9"
      },
      "source": [
        "두 개의 `Conv1D` 층 다음에 `GRU` 층"
      ]
    },
    {
      "cell_type": "code",
      "metadata": {
        "id": "4Uv9EUQpVOe_",
        "outputId": "551643e0-0929-4a15-ebbc-4d539d839c65",
        "colab": {
          "base_uri": "https://localhost:8080/",
          "height": 1000
        }
      },
      "source": [
        "model = Sequential()\n",
        "model.add(layers.Conv1D(32, 5, activation='relu',\n",
        "                        input_shape=(None, float_data.shape[-1])))\n",
        "model.add(layers.MaxPooling1D(3))\n",
        "model.add(layers.Conv1D(32, 5, activation='relu'))\n",
        "model.add(layers.GRU(32, dropout=0.1, recurrent_dropout=0.5))\n",
        "model.add(layers.Dense(1))\n",
        "\n",
        "model.summary()\n",
        "\n",
        "model.compile(optimizer=RMSprop(), loss='mae')\n",
        "history = model.fit_generator(train_gen,\n",
        "                              steps_per_epoch=500,\n",
        "                              epochs=20,\n",
        "                              validation_data=val_gen,\n",
        "                              validation_steps=val_steps)"
      ],
      "execution_count": 11,
      "outputs": [
        {
          "output_type": "stream",
          "text": [
            "WARNING:tensorflow:Layer gru will not use cuDNN kernel since it doesn't meet the cuDNN kernel criteria. It will use generic GPU kernel as fallback when running on GPU\n",
            "Model: \"sequential_1\"\n",
            "_________________________________________________________________\n",
            "Layer (type)                 Output Shape              Param #   \n",
            "=================================================================\n",
            "conv1d_3 (Conv1D)            (None, None, 32)          2272      \n",
            "_________________________________________________________________\n",
            "max_pooling1d_2 (MaxPooling1 (None, None, 32)          0         \n",
            "_________________________________________________________________\n",
            "conv1d_4 (Conv1D)            (None, None, 32)          5152      \n",
            "_________________________________________________________________\n",
            "gru (GRU)                    (None, 32)                6336      \n",
            "_________________________________________________________________\n",
            "dense_1 (Dense)              (None, 1)                 33        \n",
            "=================================================================\n",
            "Total params: 13,793\n",
            "Trainable params: 13,793\n",
            "Non-trainable params: 0\n",
            "_________________________________________________________________\n",
            "Epoch 1/20\n",
            "500/500 [==============================] - 404s 808ms/step - loss: 0.3258 - val_loss: 0.2886\n",
            "Epoch 2/20\n",
            "500/500 [==============================] - 402s 803ms/step - loss: 0.2912 - val_loss: 0.2769\n",
            "Epoch 3/20\n",
            "500/500 [==============================] - 401s 803ms/step - loss: 0.2802 - val_loss: 0.2948\n",
            "Epoch 4/20\n",
            "500/500 [==============================] - 402s 805ms/step - loss: 0.2706 - val_loss: 0.2797\n",
            "Epoch 5/20\n",
            "500/500 [==============================] - 403s 806ms/step - loss: 0.2651 - val_loss: 0.2719\n",
            "Epoch 6/20\n",
            "500/500 [==============================] - 404s 808ms/step - loss: 0.2562 - val_loss: 0.2754\n",
            "Epoch 7/20\n",
            "500/500 [==============================] - 401s 802ms/step - loss: 0.2500 - val_loss: 0.2870\n",
            "Epoch 8/20\n",
            "500/500 [==============================] - 401s 803ms/step - loss: 0.2432 - val_loss: 0.2835\n",
            "Epoch 9/20\n",
            "500/500 [==============================] - 403s 806ms/step - loss: 0.2387 - val_loss: 0.2859\n",
            "Epoch 10/20\n",
            "500/500 [==============================] - 401s 803ms/step - loss: 0.2340 - val_loss: 0.3006\n",
            "Epoch 11/20\n",
            "500/500 [==============================] - 402s 803ms/step - loss: 0.2289 - val_loss: 0.2996\n",
            "Epoch 12/20\n",
            "500/500 [==============================] - 400s 800ms/step - loss: 0.2245 - val_loss: 0.3076\n",
            "Epoch 13/20\n",
            "500/500 [==============================] - 400s 799ms/step - loss: 0.2208 - val_loss: 0.3091\n",
            "Epoch 14/20\n",
            "500/500 [==============================] - 399s 799ms/step - loss: 0.2156 - val_loss: 0.3140\n",
            "Epoch 15/20\n",
            "500/500 [==============================] - 402s 804ms/step - loss: 0.2135 - val_loss: 0.3164\n",
            "Epoch 16/20\n",
            "500/500 [==============================] - 402s 803ms/step - loss: 0.2103 - val_loss: 0.3175\n",
            "Epoch 17/20\n",
            "500/500 [==============================] - 402s 804ms/step - loss: 0.2077 - val_loss: 0.3244\n",
            "Epoch 18/20\n",
            "500/500 [==============================] - 400s 801ms/step - loss: 0.2051 - val_loss: 0.3233\n",
            "Epoch 19/20\n",
            "500/500 [==============================] - 402s 804ms/step - loss: 0.2037 - val_loss: 0.3201\n",
            "Epoch 20/20\n",
            "500/500 [==============================] - 402s 805ms/step - loss: 0.1993 - val_loss: 0.3270\n"
          ],
          "name": "stdout"
        }
      ]
    },
    {
      "cell_type": "code",
      "metadata": {
        "id": "3MbymSptVOfG",
        "outputId": "ffe2dc2d-38cc-4871-e344-c2d62f42ea7a",
        "colab": {
          "base_uri": "https://localhost:8080/",
          "height": 281
        }
      },
      "source": [
        "loss = history.history['loss']\n",
        "val_loss = history.history['val_loss']\n",
        "\n",
        "epochs = range(1, len(loss) + 1)\n",
        "\n",
        "plt.figure()\n",
        "\n",
        "plt.plot(epochs, loss, 'bo', label='Training loss')\n",
        "plt.plot(epochs, val_loss, 'b', label='Validation loss')\n",
        "plt.title('Training and validation loss')\n",
        "plt.legend()\n",
        "\n",
        "plt.show()"
      ],
      "execution_count": 12,
      "outputs": [
        {
          "output_type": "display_data",
          "data": {
            "image/png": "[encoded data removed]",
            "text/plain": [
              "<Figure size 432x288 with 1 Axes>"
            ]
          },
          "metadata": {
            "tags": [],
            "needs_background": "light"
          }
        }
      ]
    }
  ]
}